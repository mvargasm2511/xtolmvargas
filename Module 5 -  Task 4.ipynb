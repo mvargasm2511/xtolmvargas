{
 "cells": [
  {
   "cell_type": "markdown",
   "metadata": {},
   "source": [
    "# Calificación de vinos basado en mediciones fisicoquímicas"
   ]
  },
  {
   "cell_type": "markdown",
   "metadata": {},
   "source": [
    "El presente trabajo consiste en analizar un conjunto de datos con mediciones fisicoquímicas de diferentes tipos de vinos, tanto blancos como tintos. Inicialmente, como análisis exploratorio de datos se buscará establecer la relación de ciertas mediciones con la calidad del vino, por ejemplo, que relación tiene los grados de alcohol de un vino con su calidad.<br>\n",
    "<br>\n",
    "Posteriormente, se desarrollarán algunos modelos para intentar predecir:\n",
    "<br>\n",
    "1. La calidad del vino basado en sus características fisicoquímicas<br>\n",
    "2. El tipo de vino (tinto o blanco) basado en sus características fisicoquímicas"
   ]
  },
  {
   "cell_type": "markdown",
   "metadata": {},
   "source": [
    "Inicialmente, vamos a cargar el conjunto de datos, los datos originales provienen de 2 archivos, uno de vinos blancos, con 4898 observaciones y otro de vinos tintos con 1599 observaciones. Cada conjunto de datos tiene 12 atributos, se agregó un atributo adicional para identificar si las mediciones son de un vino tinto o blanco y se agruparon en un único conjunto de datos final de 6497 observaciones y 13 atributos."
   ]
  },
  {
   "cell_type": "markdown",
   "metadata": {},
   "source": [
    "### Carga de librerias"
   ]
  },
  {
   "cell_type": "code",
   "execution_count": 55,
   "metadata": {},
   "outputs": [],
   "source": [
    "#importar numpu, pandas, scipy, math, matplotlib\n",
    "import numpy as np\n",
    "import pandas as pd\n",
    "import scipy \n",
    "from math import sqrt\n",
    "import matplotlib.pyplot as plt\n",
    "import seaborn as sns\n",
    "\n",
    "from sklearn.decomposition import PCA\n",
    "from sklearn.preprocessing import StandardScaler\n",
    "\n",
    "#estimadores\n",
    "from sklearn.ensemble import RandomForestClassifier\n",
    "from sklearn.ensemble import GradientBoostingClassifier\n",
    "from sklearn.tree import DecisionTreeClassifier\n",
    "from sklearn.svm import SVC\n",
    "from sklearn.linear_model import LinearRegression\n",
    "from sklearn.linear_model import LogisticRegression\n",
    "from sklearn.feature_selection import RFE\n",
    "from sklearn.naive_bayes import GaussianNB\n",
    "\n",
    "#metricas para modelos\n",
    "from sklearn.metrics import mean_squared_error\n",
    "from sklearn.metrics import r2_score\n",
    "from sklearn.model_selection import cross_val_score\n",
    "from sklearn.metrics import accuracy_score\n",
    "from sklearn.metrics import confusion_matrix\n",
    "\n",
    "#validacion cruzada\n",
    "from sklearn.model_selection import train_test_split"
   ]
  },
  {
   "cell_type": "markdown",
   "metadata": {},
   "source": [
    "### Carga de conjunto de datos"
   ]
  },
  {
   "cell_type": "code",
   "execution_count": 4,
   "metadata": {},
   "outputs": [
    {
     "data": {
      "text/html": [
       "<div>\n",
       "<style scoped>\n",
       "    .dataframe tbody tr th:only-of-type {\n",
       "        vertical-align: middle;\n",
       "    }\n",
       "\n",
       "    .dataframe tbody tr th {\n",
       "        vertical-align: top;\n",
       "    }\n",
       "\n",
       "    .dataframe thead th {\n",
       "        text-align: right;\n",
       "    }\n",
       "</style>\n",
       "<table border=\"1\" class=\"dataframe\">\n",
       "  <thead>\n",
       "    <tr style=\"text-align: right;\">\n",
       "      <th></th>\n",
       "      <th>fixed_acidity</th>\n",
       "      <th>volatile_acidity</th>\n",
       "      <th>citric_acid</th>\n",
       "      <th>residual_sugar</th>\n",
       "      <th>chlorides</th>\n",
       "      <th>free_sulfur_dioxide</th>\n",
       "      <th>total_sulfur_dioxide</th>\n",
       "      <th>density</th>\n",
       "      <th>pH</th>\n",
       "      <th>sulphates</th>\n",
       "      <th>alcohol</th>\n",
       "      <th>quality</th>\n",
       "      <th>type</th>\n",
       "    </tr>\n",
       "  </thead>\n",
       "  <tbody>\n",
       "    <tr>\n",
       "      <td>0</td>\n",
       "      <td>6.7</td>\n",
       "      <td>0.19</td>\n",
       "      <td>0.32</td>\n",
       "      <td>3.7</td>\n",
       "      <td>0.041</td>\n",
       "      <td>26.0</td>\n",
       "      <td>76.0</td>\n",
       "      <td>0.99173</td>\n",
       "      <td>2.90</td>\n",
       "      <td>0.57</td>\n",
       "      <td>10.5</td>\n",
       "      <td>7</td>\n",
       "      <td>White</td>\n",
       "    </tr>\n",
       "    <tr>\n",
       "      <td>1</td>\n",
       "      <td>6.8</td>\n",
       "      <td>0.25</td>\n",
       "      <td>0.27</td>\n",
       "      <td>10.7</td>\n",
       "      <td>0.076</td>\n",
       "      <td>47.0</td>\n",
       "      <td>154.0</td>\n",
       "      <td>0.99670</td>\n",
       "      <td>3.05</td>\n",
       "      <td>0.38</td>\n",
       "      <td>9.0</td>\n",
       "      <td>5</td>\n",
       "      <td>White</td>\n",
       "    </tr>\n",
       "    <tr>\n",
       "      <td>2</td>\n",
       "      <td>6.2</td>\n",
       "      <td>0.15</td>\n",
       "      <td>0.46</td>\n",
       "      <td>1.6</td>\n",
       "      <td>0.039</td>\n",
       "      <td>38.0</td>\n",
       "      <td>123.0</td>\n",
       "      <td>0.99300</td>\n",
       "      <td>3.38</td>\n",
       "      <td>0.51</td>\n",
       "      <td>9.7</td>\n",
       "      <td>6</td>\n",
       "      <td>White</td>\n",
       "    </tr>\n",
       "    <tr>\n",
       "      <td>3</td>\n",
       "      <td>7.5</td>\n",
       "      <td>0.50</td>\n",
       "      <td>0.36</td>\n",
       "      <td>6.1</td>\n",
       "      <td>0.071</td>\n",
       "      <td>17.0</td>\n",
       "      <td>102.0</td>\n",
       "      <td>0.99780</td>\n",
       "      <td>3.35</td>\n",
       "      <td>0.80</td>\n",
       "      <td>10.5</td>\n",
       "      <td>5</td>\n",
       "      <td>Red</td>\n",
       "    </tr>\n",
       "    <tr>\n",
       "      <td>4</td>\n",
       "      <td>6.8</td>\n",
       "      <td>0.29</td>\n",
       "      <td>0.56</td>\n",
       "      <td>11.9</td>\n",
       "      <td>0.043</td>\n",
       "      <td>66.0</td>\n",
       "      <td>230.0</td>\n",
       "      <td>0.99720</td>\n",
       "      <td>3.02</td>\n",
       "      <td>0.63</td>\n",
       "      <td>9.3</td>\n",
       "      <td>5</td>\n",
       "      <td>White</td>\n",
       "    </tr>\n",
       "  </tbody>\n",
       "</table>\n",
       "</div>"
      ],
      "text/plain": [
       "   fixed_acidity  volatile_acidity  citric_acid  residual_sugar  chlorides  \\\n",
       "0            6.7              0.19         0.32             3.7      0.041   \n",
       "1            6.8              0.25         0.27            10.7      0.076   \n",
       "2            6.2              0.15         0.46             1.6      0.039   \n",
       "3            7.5              0.50         0.36             6.1      0.071   \n",
       "4            6.8              0.29         0.56            11.9      0.043   \n",
       "\n",
       "   free_sulfur_dioxide  total_sulfur_dioxide  density    pH  sulphates  \\\n",
       "0                 26.0                  76.0  0.99173  2.90       0.57   \n",
       "1                 47.0                 154.0  0.99670  3.05       0.38   \n",
       "2                 38.0                 123.0  0.99300  3.38       0.51   \n",
       "3                 17.0                 102.0  0.99780  3.35       0.80   \n",
       "4                 66.0                 230.0  0.99720  3.02       0.63   \n",
       "\n",
       "   alcohol  quality   type  \n",
       "0     10.5        7  White  \n",
       "1      9.0        5  White  \n",
       "2      9.7        6  White  \n",
       "3     10.5        5    Red  \n",
       "4      9.3        5  White  "
      ]
     },
     "execution_count": 4,
     "metadata": {},
     "output_type": "execute_result"
    }
   ],
   "source": [
    "#data\n",
    "datos_originales = pd.read_csv('winequality-final.csv', header=0)\n",
    "datos_originales.head()"
   ]
  },
  {
   "cell_type": "markdown",
   "metadata": {},
   "source": [
    "Vamos a examinar la estructura de datos y validar los formatos de los atributos cargados"
   ]
  },
  {
   "cell_type": "code",
   "execution_count": 5,
   "metadata": {
    "scrolled": true
   },
   "outputs": [
    {
     "name": "stdout",
     "output_type": "stream",
     "text": [
      "<class 'pandas.core.frame.DataFrame'>\n",
      "RangeIndex: 6497 entries, 0 to 6496\n",
      "Data columns (total 13 columns):\n",
      "fixed_acidity           6497 non-null float64\n",
      "volatile_acidity        6497 non-null float64\n",
      "citric_acid             6497 non-null float64\n",
      "residual_sugar          6497 non-null float64\n",
      "chlorides               6497 non-null float64\n",
      "free_sulfur_dioxide     6497 non-null float64\n",
      "total_sulfur_dioxide    6497 non-null float64\n",
      "density                 6497 non-null float64\n",
      "pH                      6497 non-null float64\n",
      "sulphates               6497 non-null float64\n",
      "alcohol                 6497 non-null float64\n",
      "quality                 6497 non-null int64\n",
      "type                    6497 non-null object\n",
      "dtypes: float64(11), int64(1), object(1)\n",
      "memory usage: 660.0+ KB\n"
     ]
    }
   ],
   "source": [
    "datos_originales.info()"
   ]
  },
  {
   "cell_type": "code",
   "execution_count": 8,
   "metadata": {},
   "outputs": [],
   "source": [
    "datos_originales['type'] = datos_originales['type'].astype('category')"
   ]
  },
  {
   "cell_type": "code",
   "execution_count": 9,
   "metadata": {},
   "outputs": [
    {
     "data": {
      "text/html": [
       "<div>\n",
       "<style scoped>\n",
       "    .dataframe tbody tr th:only-of-type {\n",
       "        vertical-align: middle;\n",
       "    }\n",
       "\n",
       "    .dataframe tbody tr th {\n",
       "        vertical-align: top;\n",
       "    }\n",
       "\n",
       "    .dataframe thead th {\n",
       "        text-align: right;\n",
       "    }\n",
       "</style>\n",
       "<table border=\"1\" class=\"dataframe\">\n",
       "  <thead>\n",
       "    <tr style=\"text-align: right;\">\n",
       "      <th></th>\n",
       "      <th>fixed_acidity</th>\n",
       "      <th>volatile_acidity</th>\n",
       "      <th>citric_acid</th>\n",
       "      <th>residual_sugar</th>\n",
       "      <th>chlorides</th>\n",
       "      <th>free_sulfur_dioxide</th>\n",
       "      <th>total_sulfur_dioxide</th>\n",
       "      <th>density</th>\n",
       "      <th>pH</th>\n",
       "      <th>sulphates</th>\n",
       "      <th>alcohol</th>\n",
       "      <th>quality</th>\n",
       "    </tr>\n",
       "  </thead>\n",
       "  <tbody>\n",
       "    <tr>\n",
       "      <td>count</td>\n",
       "      <td>6497.000000</td>\n",
       "      <td>6497.000000</td>\n",
       "      <td>6497.000000</td>\n",
       "      <td>6497.000000</td>\n",
       "      <td>6497.000000</td>\n",
       "      <td>6497.000000</td>\n",
       "      <td>6497.000000</td>\n",
       "      <td>6497.000000</td>\n",
       "      <td>6497.000000</td>\n",
       "      <td>6497.000000</td>\n",
       "      <td>6497.000000</td>\n",
       "      <td>6497.000000</td>\n",
       "    </tr>\n",
       "    <tr>\n",
       "      <td>mean</td>\n",
       "      <td>7.215307</td>\n",
       "      <td>0.339666</td>\n",
       "      <td>0.318633</td>\n",
       "      <td>5.443235</td>\n",
       "      <td>0.056034</td>\n",
       "      <td>30.525319</td>\n",
       "      <td>115.744574</td>\n",
       "      <td>0.994697</td>\n",
       "      <td>3.218501</td>\n",
       "      <td>0.531268</td>\n",
       "      <td>10.491801</td>\n",
       "      <td>5.818378</td>\n",
       "    </tr>\n",
       "    <tr>\n",
       "      <td>std</td>\n",
       "      <td>1.296434</td>\n",
       "      <td>0.164636</td>\n",
       "      <td>0.145318</td>\n",
       "      <td>4.757804</td>\n",
       "      <td>0.035034</td>\n",
       "      <td>17.749400</td>\n",
       "      <td>56.521855</td>\n",
       "      <td>0.002999</td>\n",
       "      <td>0.160787</td>\n",
       "      <td>0.148806</td>\n",
       "      <td>1.192712</td>\n",
       "      <td>0.873255</td>\n",
       "    </tr>\n",
       "    <tr>\n",
       "      <td>min</td>\n",
       "      <td>3.800000</td>\n",
       "      <td>0.080000</td>\n",
       "      <td>0.000000</td>\n",
       "      <td>0.600000</td>\n",
       "      <td>0.009000</td>\n",
       "      <td>1.000000</td>\n",
       "      <td>6.000000</td>\n",
       "      <td>0.987110</td>\n",
       "      <td>2.720000</td>\n",
       "      <td>0.220000</td>\n",
       "      <td>8.000000</td>\n",
       "      <td>3.000000</td>\n",
       "    </tr>\n",
       "    <tr>\n",
       "      <td>25%</td>\n",
       "      <td>6.400000</td>\n",
       "      <td>0.230000</td>\n",
       "      <td>0.250000</td>\n",
       "      <td>1.800000</td>\n",
       "      <td>0.038000</td>\n",
       "      <td>17.000000</td>\n",
       "      <td>77.000000</td>\n",
       "      <td>0.992340</td>\n",
       "      <td>3.110000</td>\n",
       "      <td>0.430000</td>\n",
       "      <td>9.500000</td>\n",
       "      <td>5.000000</td>\n",
       "    </tr>\n",
       "    <tr>\n",
       "      <td>50%</td>\n",
       "      <td>7.000000</td>\n",
       "      <td>0.290000</td>\n",
       "      <td>0.310000</td>\n",
       "      <td>3.000000</td>\n",
       "      <td>0.047000</td>\n",
       "      <td>29.000000</td>\n",
       "      <td>118.000000</td>\n",
       "      <td>0.994890</td>\n",
       "      <td>3.210000</td>\n",
       "      <td>0.510000</td>\n",
       "      <td>10.300000</td>\n",
       "      <td>6.000000</td>\n",
       "    </tr>\n",
       "    <tr>\n",
       "      <td>75%</td>\n",
       "      <td>7.700000</td>\n",
       "      <td>0.400000</td>\n",
       "      <td>0.390000</td>\n",
       "      <td>8.100000</td>\n",
       "      <td>0.065000</td>\n",
       "      <td>41.000000</td>\n",
       "      <td>156.000000</td>\n",
       "      <td>0.996990</td>\n",
       "      <td>3.320000</td>\n",
       "      <td>0.600000</td>\n",
       "      <td>11.300000</td>\n",
       "      <td>6.000000</td>\n",
       "    </tr>\n",
       "    <tr>\n",
       "      <td>max</td>\n",
       "      <td>15.900000</td>\n",
       "      <td>1.580000</td>\n",
       "      <td>1.660000</td>\n",
       "      <td>65.800000</td>\n",
       "      <td>0.611000</td>\n",
       "      <td>289.000000</td>\n",
       "      <td>440.000000</td>\n",
       "      <td>1.038980</td>\n",
       "      <td>4.010000</td>\n",
       "      <td>2.000000</td>\n",
       "      <td>14.900000</td>\n",
       "      <td>9.000000</td>\n",
       "    </tr>\n",
       "  </tbody>\n",
       "</table>\n",
       "</div>"
      ],
      "text/plain": [
       "       fixed_acidity  volatile_acidity  citric_acid  residual_sugar  \\\n",
       "count    6497.000000       6497.000000  6497.000000     6497.000000   \n",
       "mean        7.215307          0.339666     0.318633        5.443235   \n",
       "std         1.296434          0.164636     0.145318        4.757804   \n",
       "min         3.800000          0.080000     0.000000        0.600000   \n",
       "25%         6.400000          0.230000     0.250000        1.800000   \n",
       "50%         7.000000          0.290000     0.310000        3.000000   \n",
       "75%         7.700000          0.400000     0.390000        8.100000   \n",
       "max        15.900000          1.580000     1.660000       65.800000   \n",
       "\n",
       "         chlorides  free_sulfur_dioxide  total_sulfur_dioxide      density  \\\n",
       "count  6497.000000          6497.000000           6497.000000  6497.000000   \n",
       "mean      0.056034            30.525319            115.744574     0.994697   \n",
       "std       0.035034            17.749400             56.521855     0.002999   \n",
       "min       0.009000             1.000000              6.000000     0.987110   \n",
       "25%       0.038000            17.000000             77.000000     0.992340   \n",
       "50%       0.047000            29.000000            118.000000     0.994890   \n",
       "75%       0.065000            41.000000            156.000000     0.996990   \n",
       "max       0.611000           289.000000            440.000000     1.038980   \n",
       "\n",
       "                pH    sulphates      alcohol      quality  \n",
       "count  6497.000000  6497.000000  6497.000000  6497.000000  \n",
       "mean      3.218501     0.531268    10.491801     5.818378  \n",
       "std       0.160787     0.148806     1.192712     0.873255  \n",
       "min       2.720000     0.220000     8.000000     3.000000  \n",
       "25%       3.110000     0.430000     9.500000     5.000000  \n",
       "50%       3.210000     0.510000    10.300000     6.000000  \n",
       "75%       3.320000     0.600000    11.300000     6.000000  \n",
       "max       4.010000     2.000000    14.900000     9.000000  "
      ]
     },
     "execution_count": 9,
     "metadata": {},
     "output_type": "execute_result"
    }
   ],
   "source": [
    "datos_originales.describe()"
   ]
  },
  {
   "cell_type": "markdown",
   "metadata": {},
   "source": [
    "### Análisis de datos exploratorio"
   ]
  },
  {
   "cell_type": "markdown",
   "metadata": {},
   "source": [
    "Lo primero es analizar la relación que puede llegar a tener las diferentes mediciones con la calidad, es importante recordar que la calidad del vino es un valor entre 0 y 10, entre mayor sea el valor mejor será el vino. También se investigará si las mediciones tienen alguna relación con el tipo de vino (tinto o blanco)."
   ]
  },
  {
   "cell_type": "markdown",
   "metadata": {},
   "source": [
    "Inicialmente, vamos a analizar como se encuentra la distribución de vinos, tanto por calidad como por tipo."
   ]
  },
  {
   "cell_type": "code",
   "execution_count": 22,
   "metadata": {},
   "outputs": [
    {
     "data": {
      "image/png": "[encoded data removed]",
      "text/plain": [
       "<Figure size 648x504 with 1 Axes>"
      ]
     },
     "metadata": {},
     "output_type": "display_data"
    }
   ],
   "source": [
    "p = sns.countplot(data=datos_originales, x = 'type')"
   ]
  },
  {
   "cell_type": "markdown",
   "metadata": {},
   "source": [
    "Como se puede apreciar, entre los datos existe una cantidad mayor cantidad de vinos blancos que tintos, casi 3 veces más."
   ]
  },
  {
   "cell_type": "code",
   "execution_count": 20,
   "metadata": {
    "scrolled": false
   },
   "outputs": [
    {
     "data": {
      "image/png": "[encoded data removed]",
      "text/plain": [
       "<Figure size 648x504 with 1 Axes>"
      ]
     },
     "metadata": {},
     "output_type": "display_data"
    }
   ],
   "source": [
    "p = sns.countplot(data=datos_originales, x = 'quality')"
   ]
  },
  {
   "cell_type": "markdown",
   "metadata": {},
   "source": [
    "En esta gráfica, se puede observar las diferentes calificaciones que hay de los vinos, existiendo una gran preponderancia de vinos de calidad media. Es importante notar que no hay vinos con calificaciones de 0, 1 y 2, ni tampoco vinos con calificación 10."
   ]
  },
  {
   "cell_type": "markdown",
   "metadata": {},
   "source": [
    "Ahora, vamos a llevar a cabo un análisis de correlación entre las variables para entender como se relacionan entre ellas y posteriormente visualizar dichas correlaciones."
   ]
  },
  {
   "cell_type": "code",
   "execution_count": 379,
   "metadata": {},
   "outputs": [
    {
     "data": {
      "text/html": [
       "<div>\n",
       "<style scoped>\n",
       "    .dataframe tbody tr th:only-of-type {\n",
       "        vertical-align: middle;\n",
       "    }\n",
       "\n",
       "    .dataframe tbody tr th {\n",
       "        vertical-align: top;\n",
       "    }\n",
       "\n",
       "    .dataframe thead th {\n",
       "        text-align: right;\n",
       "    }\n",
       "</style>\n",
       "<table border=\"1\" class=\"dataframe\">\n",
       "  <thead>\n",
       "    <tr style=\"text-align: right;\">\n",
       "      <th></th>\n",
       "      <th>fixed_acidity</th>\n",
       "      <th>volatile_acidity</th>\n",
       "      <th>citric_acid</th>\n",
       "      <th>residual_sugar</th>\n",
       "      <th>chlorides</th>\n",
       "      <th>free_sulfur_dioxide</th>\n",
       "      <th>total_sulfur_dioxide</th>\n",
       "      <th>density</th>\n",
       "      <th>pH</th>\n",
       "      <th>sulphates</th>\n",
       "      <th>alcohol</th>\n",
       "      <th>quality</th>\n",
       "      <th>type</th>\n",
       "    </tr>\n",
       "  </thead>\n",
       "  <tbody>\n",
       "    <tr>\n",
       "      <td>fixed_acidity</td>\n",
       "      <td>1.000000</td>\n",
       "      <td>0.219008</td>\n",
       "      <td>0.324436</td>\n",
       "      <td>-0.111981</td>\n",
       "      <td>0.298195</td>\n",
       "      <td>-0.282735</td>\n",
       "      <td>-0.329054</td>\n",
       "      <td>0.458910</td>\n",
       "      <td>-0.252700</td>\n",
       "      <td>0.299568</td>\n",
       "      <td>-0.095452</td>\n",
       "      <td>-0.076743</td>\n",
       "      <td>0.486740</td>\n",
       "    </tr>\n",
       "    <tr>\n",
       "      <td>volatile_acidity</td>\n",
       "      <td>0.219008</td>\n",
       "      <td>1.000000</td>\n",
       "      <td>-0.377981</td>\n",
       "      <td>-0.196011</td>\n",
       "      <td>0.377124</td>\n",
       "      <td>-0.352557</td>\n",
       "      <td>-0.414476</td>\n",
       "      <td>0.271296</td>\n",
       "      <td>0.261454</td>\n",
       "      <td>0.225984</td>\n",
       "      <td>-0.037640</td>\n",
       "      <td>-0.265699</td>\n",
       "      <td>0.653036</td>\n",
       "    </tr>\n",
       "    <tr>\n",
       "      <td>citric_acid</td>\n",
       "      <td>0.324436</td>\n",
       "      <td>-0.377981</td>\n",
       "      <td>1.000000</td>\n",
       "      <td>0.142451</td>\n",
       "      <td>0.038998</td>\n",
       "      <td>0.133126</td>\n",
       "      <td>0.195242</td>\n",
       "      <td>0.096154</td>\n",
       "      <td>-0.329808</td>\n",
       "      <td>0.056197</td>\n",
       "      <td>-0.010493</td>\n",
       "      <td>0.085532</td>\n",
       "      <td>-0.187397</td>\n",
       "    </tr>\n",
       "    <tr>\n",
       "      <td>residual_sugar</td>\n",
       "      <td>-0.111981</td>\n",
       "      <td>-0.196011</td>\n",
       "      <td>0.142451</td>\n",
       "      <td>1.000000</td>\n",
       "      <td>-0.128940</td>\n",
       "      <td>0.402871</td>\n",
       "      <td>0.495482</td>\n",
       "      <td>0.552517</td>\n",
       "      <td>-0.267320</td>\n",
       "      <td>-0.185927</td>\n",
       "      <td>-0.359415</td>\n",
       "      <td>-0.036980</td>\n",
       "      <td>-0.348821</td>\n",
       "    </tr>\n",
       "    <tr>\n",
       "      <td>chlorides</td>\n",
       "      <td>0.298195</td>\n",
       "      <td>0.377124</td>\n",
       "      <td>0.038998</td>\n",
       "      <td>-0.128940</td>\n",
       "      <td>1.000000</td>\n",
       "      <td>-0.195045</td>\n",
       "      <td>-0.279630</td>\n",
       "      <td>0.362615</td>\n",
       "      <td>0.044708</td>\n",
       "      <td>0.395593</td>\n",
       "      <td>-0.256916</td>\n",
       "      <td>-0.200666</td>\n",
       "      <td>0.512678</td>\n",
       "    </tr>\n",
       "    <tr>\n",
       "      <td>free_sulfur_dioxide</td>\n",
       "      <td>-0.282735</td>\n",
       "      <td>-0.352557</td>\n",
       "      <td>0.133126</td>\n",
       "      <td>0.402871</td>\n",
       "      <td>-0.195045</td>\n",
       "      <td>1.000000</td>\n",
       "      <td>0.720934</td>\n",
       "      <td>0.025717</td>\n",
       "      <td>-0.145854</td>\n",
       "      <td>-0.188457</td>\n",
       "      <td>-0.179838</td>\n",
       "      <td>0.055463</td>\n",
       "      <td>-0.471644</td>\n",
       "    </tr>\n",
       "    <tr>\n",
       "      <td>total_sulfur_dioxide</td>\n",
       "      <td>-0.329054</td>\n",
       "      <td>-0.414476</td>\n",
       "      <td>0.195242</td>\n",
       "      <td>0.495482</td>\n",
       "      <td>-0.279630</td>\n",
       "      <td>0.720934</td>\n",
       "      <td>1.000000</td>\n",
       "      <td>0.032395</td>\n",
       "      <td>-0.238413</td>\n",
       "      <td>-0.275727</td>\n",
       "      <td>-0.265740</td>\n",
       "      <td>-0.041385</td>\n",
       "      <td>-0.700357</td>\n",
       "    </tr>\n",
       "    <tr>\n",
       "      <td>density</td>\n",
       "      <td>0.458910</td>\n",
       "      <td>0.271296</td>\n",
       "      <td>0.096154</td>\n",
       "      <td>0.552517</td>\n",
       "      <td>0.362615</td>\n",
       "      <td>0.025717</td>\n",
       "      <td>0.032395</td>\n",
       "      <td>1.000000</td>\n",
       "      <td>0.011686</td>\n",
       "      <td>0.259478</td>\n",
       "      <td>-0.686745</td>\n",
       "      <td>-0.305858</td>\n",
       "      <td>0.390645</td>\n",
       "    </tr>\n",
       "    <tr>\n",
       "      <td>pH</td>\n",
       "      <td>-0.252700</td>\n",
       "      <td>0.261454</td>\n",
       "      <td>-0.329808</td>\n",
       "      <td>-0.267320</td>\n",
       "      <td>0.044708</td>\n",
       "      <td>-0.145854</td>\n",
       "      <td>-0.238413</td>\n",
       "      <td>0.011686</td>\n",
       "      <td>1.000000</td>\n",
       "      <td>0.192123</td>\n",
       "      <td>0.121248</td>\n",
       "      <td>0.019506</td>\n",
       "      <td>0.329129</td>\n",
       "    </tr>\n",
       "    <tr>\n",
       "      <td>sulphates</td>\n",
       "      <td>0.299568</td>\n",
       "      <td>0.225984</td>\n",
       "      <td>0.056197</td>\n",
       "      <td>-0.185927</td>\n",
       "      <td>0.395593</td>\n",
       "      <td>-0.188457</td>\n",
       "      <td>-0.275727</td>\n",
       "      <td>0.259478</td>\n",
       "      <td>0.192123</td>\n",
       "      <td>1.000000</td>\n",
       "      <td>-0.003029</td>\n",
       "      <td>0.038485</td>\n",
       "      <td>0.487218</td>\n",
       "    </tr>\n",
       "    <tr>\n",
       "      <td>alcohol</td>\n",
       "      <td>-0.095452</td>\n",
       "      <td>-0.037640</td>\n",
       "      <td>-0.010493</td>\n",
       "      <td>-0.359415</td>\n",
       "      <td>-0.256916</td>\n",
       "      <td>-0.179838</td>\n",
       "      <td>-0.265740</td>\n",
       "      <td>-0.686745</td>\n",
       "      <td>0.121248</td>\n",
       "      <td>-0.003029</td>\n",
       "      <td>1.000000</td>\n",
       "      <td>0.444319</td>\n",
       "      <td>-0.032970</td>\n",
       "    </tr>\n",
       "    <tr>\n",
       "      <td>quality</td>\n",
       "      <td>-0.076743</td>\n",
       "      <td>-0.265699</td>\n",
       "      <td>0.085532</td>\n",
       "      <td>-0.036980</td>\n",
       "      <td>-0.200666</td>\n",
       "      <td>0.055463</td>\n",
       "      <td>-0.041385</td>\n",
       "      <td>-0.305858</td>\n",
       "      <td>0.019506</td>\n",
       "      <td>0.038485</td>\n",
       "      <td>0.444319</td>\n",
       "      <td>1.000000</td>\n",
       "      <td>-0.119323</td>\n",
       "    </tr>\n",
       "    <tr>\n",
       "      <td>type</td>\n",
       "      <td>0.486740</td>\n",
       "      <td>0.653036</td>\n",
       "      <td>-0.187397</td>\n",
       "      <td>-0.348821</td>\n",
       "      <td>0.512678</td>\n",
       "      <td>-0.471644</td>\n",
       "      <td>-0.700357</td>\n",
       "      <td>0.390645</td>\n",
       "      <td>0.329129</td>\n",
       "      <td>0.487218</td>\n",
       "      <td>-0.032970</td>\n",
       "      <td>-0.119323</td>\n",
       "      <td>1.000000</td>\n",
       "    </tr>\n",
       "  </tbody>\n",
       "</table>\n",
       "</div>"
      ],
      "text/plain": [
       "                      fixed_acidity  volatile_acidity  citric_acid  \\\n",
       "fixed_acidity              1.000000          0.219008     0.324436   \n",
       "volatile_acidity           0.219008          1.000000    -0.377981   \n",
       "citric_acid                0.324436         -0.377981     1.000000   \n",
       "residual_sugar            -0.111981         -0.196011     0.142451   \n",
       "chlorides                  0.298195          0.377124     0.038998   \n",
       "free_sulfur_dioxide       -0.282735         -0.352557     0.133126   \n",
       "total_sulfur_dioxide      -0.329054         -0.414476     0.195242   \n",
       "density                    0.458910          0.271296     0.096154   \n",
       "pH                        -0.252700          0.261454    -0.329808   \n",
       "sulphates                  0.299568          0.225984     0.056197   \n",
       "alcohol                   -0.095452         -0.037640    -0.010493   \n",
       "quality                   -0.076743         -0.265699     0.085532   \n",
       "type                       0.486740          0.653036    -0.187397   \n",
       "\n",
       "                      residual_sugar  chlorides  free_sulfur_dioxide  \\\n",
       "fixed_acidity              -0.111981   0.298195            -0.282735   \n",
       "volatile_acidity           -0.196011   0.377124            -0.352557   \n",
       "citric_acid                 0.142451   0.038998             0.133126   \n",
       "residual_sugar              1.000000  -0.128940             0.402871   \n",
       "chlorides                  -0.128940   1.000000            -0.195045   \n",
       "free_sulfur_dioxide         0.402871  -0.195045             1.000000   \n",
       "total_sulfur_dioxide        0.495482  -0.279630             0.720934   \n",
       "density                     0.552517   0.362615             0.025717   \n",
       "pH                         -0.267320   0.044708            -0.145854   \n",
       "sulphates                  -0.185927   0.395593            -0.188457   \n",
       "alcohol                    -0.359415  -0.256916            -0.179838   \n",
       "quality                    -0.036980  -0.200666             0.055463   \n",
       "type                       -0.348821   0.512678            -0.471644   \n",
       "\n",
       "                      total_sulfur_dioxide   density        pH  sulphates  \\\n",
       "fixed_acidity                    -0.329054  0.458910 -0.252700   0.299568   \n",
       "volatile_acidity                 -0.414476  0.271296  0.261454   0.225984   \n",
       "citric_acid                       0.195242  0.096154 -0.329808   0.056197   \n",
       "residual_sugar                    0.495482  0.552517 -0.267320  -0.185927   \n",
       "chlorides                        -0.279630  0.362615  0.044708   0.395593   \n",
       "free_sulfur_dioxide               0.720934  0.025717 -0.145854  -0.188457   \n",
       "total_sulfur_dioxide              1.000000  0.032395 -0.238413  -0.275727   \n",
       "density                           0.032395  1.000000  0.011686   0.259478   \n",
       "pH                               -0.238413  0.011686  1.000000   0.192123   \n",
       "sulphates                        -0.275727  0.259478  0.192123   1.000000   \n",
       "alcohol                          -0.265740 -0.686745  0.121248  -0.003029   \n",
       "quality                          -0.041385 -0.305858  0.019506   0.038485   \n",
       "type                             -0.700357  0.390645  0.329129   0.487218   \n",
       "\n",
       "                       alcohol   quality      type  \n",
       "fixed_acidity        -0.095452 -0.076743  0.486740  \n",
       "volatile_acidity     -0.037640 -0.265699  0.653036  \n",
       "citric_acid          -0.010493  0.085532 -0.187397  \n",
       "residual_sugar       -0.359415 -0.036980 -0.348821  \n",
       "chlorides            -0.256916 -0.200666  0.512678  \n",
       "free_sulfur_dioxide  -0.179838  0.055463 -0.471644  \n",
       "total_sulfur_dioxide -0.265740 -0.041385 -0.700357  \n",
       "density              -0.686745 -0.305858  0.390645  \n",
       "pH                    0.121248  0.019506  0.329129  \n",
       "sulphates            -0.003029  0.038485  0.487218  \n",
       "alcohol               1.000000  0.444319 -0.032970  \n",
       "quality               0.444319  1.000000 -0.119323  \n",
       "type                 -0.032970 -0.119323  1.000000  "
      ]
     },
     "execution_count": 379,
     "metadata": {},
     "output_type": "execute_result"
    },
    {
     "data": {
      "image/png": "[encoded data removed]",
      "text/plain": [
       "<Figure size 1440x720 with 2 Axes>"
      ]
     },
     "metadata": {},
     "output_type": "display_data"
    }
   ],
   "source": [
    "plt.figure(figsize=(20,10))\n",
    "correlacion2 = datos_originales.corr()\n",
    "sns.heatmap(correlacion2,cmap=\"BrBG\",annot=True)\n",
    "correlacion2"
   ]
  },
  {
   "cell_type": "markdown",
   "metadata": {},
   "source": [
    "De la matriz de correlación es posible notar que no existe una correlación fuerte entre la calidad y alguna otra medición, la más alta es el alcohol y no es tan significativa (0.44). También se puede notar qeu existe una correlación significativa entre el dióxido de azufre libre y dióxido de azufre total. Por último, notar que existe relaciones intermedias que probablemente ayuden a determinar el tipo de vino basado en los sulfatos, la densidad, los cloruros, acidez volátil y acidez fija."
   ]
  },
  {
   "cell_type": "code",
   "execution_count": 37,
   "metadata": {},
   "outputs": [
    {
     "data": {
      "image/png": "[encoded data removed]",
      "text/plain": [
       "<Figure size 648x504 with 1 Axes>"
      ]
     },
     "metadata": {},
     "output_type": "display_data"
    }
   ],
   "source": [
    "ax = sns.lineplot(x=\"alcohol\", y=\"quality\", ci=0, data=datos_originales)"
   ]
  },
  {
   "cell_type": "markdown",
   "metadata": {},
   "source": [
    "De la gráfica anterior podemos determinar que la mayor concentración de vinos de calidad media y media alta se encuentran entre los 10 y los 14 grados de alcohol, mientras que la mayoria de los vinos de calidad baja son de menos de 10 grados de alcohol."
   ]
  },
  {
   "cell_type": "code",
   "execution_count": 40,
   "metadata": {},
   "outputs": [
    {
     "data": {
      "image/png": "[encoded data removed]",
      "text/plain": [
       "<Figure size 360x360 with 1 Axes>"
      ]
     },
     "metadata": {},
     "output_type": "display_data"
    }
   ],
   "source": [
    "sns.catplot(x=\"type\", y=\"alcohol\", data=datos_originales);"
   ]
  },
  {
   "cell_type": "markdown",
   "metadata": {},
   "source": [
    "Podemos rescartar del gráfico anterior que muy rara vez existen vinos tintos con menos de 9 grados de alcohol, a su vez tampoco hay muchas observaciones en vinos tintos con más de 13 grados de alcohol. De los vinos blancos podemos decir que su mayor concentración se encuentran entre los 8.5 grados y los 13 grados."
   ]
  },
  {
   "cell_type": "code",
   "execution_count": 42,
   "metadata": {
    "scrolled": true
   },
   "outputs": [
    {
     "data": {
      "image/png": "[encoded data removed]",
      "text/plain": [
       "<Figure size 441.52x360 with 1 Axes>"
      ]
     },
     "metadata": {},
     "output_type": "display_data"
    }
   ],
   "source": [
    "sns.catplot(x=\"quality\", y=\"alcohol\", hue=\"type\", data=datos_originales);"
   ]
  },
  {
   "cell_type": "markdown",
   "metadata": {},
   "source": [
    "La gráfica anterior pretende encontrar la relación entre los grados de alcohol, la calidad y el tipo de vino. Al ser menos los vinos con calidad bastante alta (8 y 9) habrán menos observaciones, pero podemos observar que la mayoría de vinos de alta calidad se encuentran entre los 10 y los 13 grados de alcohol. No obstante, como ya habiamos observado anteriormente, la correlación entre los grados de alcohol y la calidad no es determinante en este conjunto de datos analizados. Por último, es interesante notar que solo los vinos blancos lograron la calificación de 9 en calidad."
   ]
  },
  {
   "cell_type": "code",
   "execution_count": 44,
   "metadata": {},
   "outputs": [
    {
     "data": {
      "image/png": "[encoded data removed]",
      "text/plain": [
       "<Figure size 648x504 with 1 Axes>"
      ]
     },
     "metadata": {},
     "output_type": "display_data"
    }
   ],
   "source": [
    "x = sns.lineplot(x=\"alcohol\", y=\"quality\", hue=\"type\", ci=0, data=datos_originales)"
   ]
  },
  {
   "cell_type": "markdown",
   "metadata": {},
   "source": [
    "Intentando analizar los mismos datos desde una forma distinta, podemos asegurar que la mayoría de vinos, independientemente de su tipo (blanco o tinto) con calificación de calidad de 5 o superior se encuentran entre los los 10 y 14 grados de alcohol. Por tanto, podemos decir que difilmente un vino de calidad superior tendrá mas de 14 grados de alcohol o menos de 10 grados."
   ]
  },
  {
   "cell_type": "markdown",
   "metadata": {},
   "source": [
    "Como conclusiones, del presente análisis de datos podemos determinar:<br>\n",
    "1. El conjunto de datos presenta un desbalance entre la cantidad de vinos tinos y blancos.<br>\n",
    "2. La mayoria de vinos presentan una calificación de calidad entre 5 y 7, por tanto, podemos saber que existe una probabilidad muy baja de lograr puntajes muy bajos o muy altos en base a las mediciones.<br>\n",
    "3. No existe un atributo altamente relacionado de las mediciones fisicoquímicas y la calidad del vino.<br>\n",
    "4. Como se pudo observar en la matriz de correlación y en el gráfico de análisis de calidad y grados de alcohol, la mayoría de vinos de calidad superior a 5, tienen un grado de alcohol entre 10 y 14.<br>\n",
    "5. La grand cantidad de vinos tintos muestreados tienen una graduación alcohólica entre 9 y 13, mientras que los vinos blancos tienen una graduación entre 8,5 y 14.<br>\n",
    "6. En el conjunto de datos analizado solo existen vinos de muy alta calidad (9) blancos."
   ]
  },
  {
   "cell_type": "markdown",
   "metadata": {},
   "source": [
    "## Desarrollo de modelos"
   ]
  },
  {
   "cell_type": "markdown",
   "metadata": {},
   "source": [
    "### Modelo de predicción de calidad del vino"
   ]
  },
  {
   "cell_type": "markdown",
   "metadata": {},
   "source": [
    "En el análisis anterior no se logró encontrar alguna medición altamente relacionada con la calidad. Ahora, vamos a desarrollar algunos modelos para intentar determinar con la mayor precisión posible la calidad de un vino basado en sus mediciones fisicoquímicas, además, también se intentará desarrollar modelos para predecir el tipo de vino (tinto o blanco) badado en dichas mediciones."
   ]
  },
  {
   "cell_type": "markdown",
   "metadata": {},
   "source": [
    "Considerando que la calificación debe ser un un rango entre 0 y 10, no existiendo decimales ni negativos, vamos a convertir la calificación a una variable de tipo categórica y desarrollaremos ambos modelos como clasificaciones."
   ]
  },
  {
   "cell_type": "code",
   "execution_count": 45,
   "metadata": {},
   "outputs": [],
   "source": [
    "datos_originales['quality'] = datos_originales['quality'].astype('category')"
   ]
  },
  {
   "cell_type": "code",
   "execution_count": 46,
   "metadata": {},
   "outputs": [
    {
     "name": "stdout",
     "output_type": "stream",
     "text": [
      "<class 'pandas.core.frame.DataFrame'>\n",
      "RangeIndex: 6497 entries, 0 to 6496\n",
      "Data columns (total 13 columns):\n",
      "fixed_acidity           6497 non-null float64\n",
      "volatile_acidity        6497 non-null float64\n",
      "citric_acid             6497 non-null float64\n",
      "residual_sugar          6497 non-null float64\n",
      "chlorides               6497 non-null float64\n",
      "free_sulfur_dioxide     6497 non-null float64\n",
      "total_sulfur_dioxide    6497 non-null float64\n",
      "density                 6497 non-null float64\n",
      "pH                      6497 non-null float64\n",
      "sulphates               6497 non-null float64\n",
      "alcohol                 6497 non-null float64\n",
      "quality                 6497 non-null category\n",
      "type                    6497 non-null category\n",
      "dtypes: category(2), float64(11)\n",
      "memory usage: 571.6 KB\n"
     ]
    }
   ],
   "source": [
    "datos_originales.info()"
   ]
  },
  {
   "cell_type": "markdown",
   "metadata": {},
   "source": [
    "Primeramente vamos a seleccionar las características, que en este caso serán los predictores del modelo:"
   ]
  },
  {
   "cell_type": "code",
   "execution_count": 48,
   "metadata": {},
   "outputs": [
    {
     "name": "stdout",
     "output_type": "stream",
     "text": [
      "Resumen de muestra de características\n"
     ]
    },
    {
     "data": {
      "text/html": [
       "<div>\n",
       "<style scoped>\n",
       "    .dataframe tbody tr th:only-of-type {\n",
       "        vertical-align: middle;\n",
       "    }\n",
       "\n",
       "    .dataframe tbody tr th {\n",
       "        vertical-align: top;\n",
       "    }\n",
       "\n",
       "    .dataframe thead th {\n",
       "        text-align: right;\n",
       "    }\n",
       "</style>\n",
       "<table border=\"1\" class=\"dataframe\">\n",
       "  <thead>\n",
       "    <tr style=\"text-align: right;\">\n",
       "      <th></th>\n",
       "      <th>fixed_acidity</th>\n",
       "      <th>volatile_acidity</th>\n",
       "      <th>citric_acid</th>\n",
       "      <th>residual_sugar</th>\n",
       "      <th>chlorides</th>\n",
       "      <th>free_sulfur_dioxide</th>\n",
       "      <th>total_sulfur_dioxide</th>\n",
       "      <th>density</th>\n",
       "      <th>pH</th>\n",
       "      <th>sulphates</th>\n",
       "      <th>alcohol</th>\n",
       "    </tr>\n",
       "  </thead>\n",
       "  <tbody>\n",
       "    <tr>\n",
       "      <td>0</td>\n",
       "      <td>6.7</td>\n",
       "      <td>0.19</td>\n",
       "      <td>0.32</td>\n",
       "      <td>3.7</td>\n",
       "      <td>0.041</td>\n",
       "      <td>26.0</td>\n",
       "      <td>76.0</td>\n",
       "      <td>0.99173</td>\n",
       "      <td>2.90</td>\n",
       "      <td>0.57</td>\n",
       "      <td>10.5</td>\n",
       "    </tr>\n",
       "    <tr>\n",
       "      <td>1</td>\n",
       "      <td>6.8</td>\n",
       "      <td>0.25</td>\n",
       "      <td>0.27</td>\n",
       "      <td>10.7</td>\n",
       "      <td>0.076</td>\n",
       "      <td>47.0</td>\n",
       "      <td>154.0</td>\n",
       "      <td>0.99670</td>\n",
       "      <td>3.05</td>\n",
       "      <td>0.38</td>\n",
       "      <td>9.0</td>\n",
       "    </tr>\n",
       "    <tr>\n",
       "      <td>2</td>\n",
       "      <td>6.2</td>\n",
       "      <td>0.15</td>\n",
       "      <td>0.46</td>\n",
       "      <td>1.6</td>\n",
       "      <td>0.039</td>\n",
       "      <td>38.0</td>\n",
       "      <td>123.0</td>\n",
       "      <td>0.99300</td>\n",
       "      <td>3.38</td>\n",
       "      <td>0.51</td>\n",
       "      <td>9.7</td>\n",
       "    </tr>\n",
       "    <tr>\n",
       "      <td>3</td>\n",
       "      <td>7.5</td>\n",
       "      <td>0.50</td>\n",
       "      <td>0.36</td>\n",
       "      <td>6.1</td>\n",
       "      <td>0.071</td>\n",
       "      <td>17.0</td>\n",
       "      <td>102.0</td>\n",
       "      <td>0.99780</td>\n",
       "      <td>3.35</td>\n",
       "      <td>0.80</td>\n",
       "      <td>10.5</td>\n",
       "    </tr>\n",
       "    <tr>\n",
       "      <td>4</td>\n",
       "      <td>6.8</td>\n",
       "      <td>0.29</td>\n",
       "      <td>0.56</td>\n",
       "      <td>11.9</td>\n",
       "      <td>0.043</td>\n",
       "      <td>66.0</td>\n",
       "      <td>230.0</td>\n",
       "      <td>0.99720</td>\n",
       "      <td>3.02</td>\n",
       "      <td>0.63</td>\n",
       "      <td>9.3</td>\n",
       "    </tr>\n",
       "  </tbody>\n",
       "</table>\n",
       "</div>"
      ],
      "text/plain": [
       "   fixed_acidity  volatile_acidity  citric_acid  residual_sugar  chlorides  \\\n",
       "0            6.7              0.19         0.32             3.7      0.041   \n",
       "1            6.8              0.25         0.27            10.7      0.076   \n",
       "2            6.2              0.15         0.46             1.6      0.039   \n",
       "3            7.5              0.50         0.36             6.1      0.071   \n",
       "4            6.8              0.29         0.56            11.9      0.043   \n",
       "\n",
       "   free_sulfur_dioxide  total_sulfur_dioxide  density    pH  sulphates  \\\n",
       "0                 26.0                  76.0  0.99173  2.90       0.57   \n",
       "1                 47.0                 154.0  0.99670  3.05       0.38   \n",
       "2                 38.0                 123.0  0.99300  3.38       0.51   \n",
       "3                 17.0                 102.0  0.99780  3.35       0.80   \n",
       "4                 66.0                 230.0  0.99720  3.02       0.63   \n",
       "\n",
       "   alcohol  \n",
       "0     10.5  \n",
       "1      9.0  \n",
       "2      9.7  \n",
       "3     10.5  \n",
       "4      9.3  "
      ]
     },
     "execution_count": 48,
     "metadata": {},
     "output_type": "execute_result"
    }
   ],
   "source": [
    "caracteristicas = datos_originales.iloc[:,0:11]\n",
    "print('Resumen de muestra de características')\n",
    "caracteristicas.head()"
   ]
  },
  {
   "cell_type": "markdown",
   "metadata": {},
   "source": [
    "Ahora vamos a seleccionar la variable dependiente para nuestra predicción de calidad:"
   ]
  },
  {
   "cell_type": "code",
   "execution_count": 49,
   "metadata": {},
   "outputs": [],
   "source": [
    "depVarCalidad = datos_originales['quality']"
   ]
  },
  {
   "cell_type": "markdown",
   "metadata": {},
   "source": [
    "Una vez elegidas las variables predictoras y la variable a predecir, vamos a establecer los conjuntos de datos (entrenamiento X & Y, pruebas X & Y, 70/30)"
   ]
  },
  {
   "cell_type": "code",
   "execution_count": 51,
   "metadata": {},
   "outputs": [],
   "source": [
    "x_train, x_test, y_train, y_test = train_test_split(caracteristicas, \n",
    "                                                    depVarCalidad, test_size=0.3, random_state=101)"
   ]
  },
  {
   "cell_type": "markdown",
   "metadata": {},
   "source": [
    "Para continuar con el desarrollo de los modelos vamos a validar que el establecimiento de los conjuntos de datos de entrenamiento y pruebas estén correctos:"
   ]
  },
  {
   "cell_type": "code",
   "execution_count": 58,
   "metadata": {},
   "outputs": [
    {
     "name": "stdout",
     "output_type": "stream",
     "text": [
      "El número de observaciones en el conjunto de entrenamiento X es: Int64Index([3416, 2234, 4863, 5724, 4082,  148, 1110, 2568, 1001, 5290,\n",
      "            ...\n",
      "            5672,  973, 4079, 4171, 6141,  599, 5695, 1361, 1547, 4959],\n",
      "           dtype='int64', length=4547)\n",
      "El número de observaciones en el conjunto de pruebas X es: Int64Index([ 868, 5097, 5450, 5850, 2192, 5884, 3024, 1683, 5074,  730,\n",
      "            ...\n",
      "              48, 4500, 5938,  242, 3386, 6040, 2890,  914, 1403, 4077],\n",
      "           dtype='int64', length=1950)\n",
      "El número de observaciones en el conjunto de entrenamiento Y es: Int64Index([3416, 2234, 4863, 5724, 4082,  148, 1110, 2568, 1001, 5290,\n",
      "            ...\n",
      "            5672,  973, 4079, 4171, 6141,  599, 5695, 1361, 1547, 4959],\n",
      "           dtype='int64', length=4547)\n",
      "El número de observaciones en el conjunto de pruebas Y es: Int64Index([ 868, 5097, 5450, 5850, 2192, 5884, 3024, 1683, 5074,  730,\n",
      "            ...\n",
      "              48, 4500, 5938,  242, 3386, 6040, 2890,  914, 1403, 4077],\n",
      "           dtype='int64', length=1950)\n"
     ]
    }
   ],
   "source": [
    "x_train.head()\n",
    "x_train_count = x_train.index\n",
    "print('El número de observaciones en el conjunto de entrenamiento X es:',str(x_train_count))\n",
    "\n",
    "x_test.head()\n",
    "x_test_count = x_test.index\n",
    "print('El número de observaciones en el conjunto de pruebas X es:',str(x_test_count))\n",
    "\n",
    "y_train.head()\n",
    "y_train_count = y_train.index\n",
    "print('El número de observaciones en el conjunto de entrenamiento Y es:',str(y_train_count))\n",
    "\n",
    "y_test.head()\n",
    "y_test_count = y_test.index\n",
    "print('El número de observaciones en el conjunto de pruebas Y es:',str(y_test_count))"
   ]
  },
  {
   "cell_type": "markdown",
   "metadata": {},
   "source": [
    "Inicialmente, se desarrollaran modelos basados en el conjunto de datos originales, posteriormente se utilizarán algunos métodos de ingeniería de datos para intentar mejorar los resultados"
   ]
  },
  {
   "cell_type": "markdown",
   "metadata": {},
   "source": [
    "Se inicializan los clasificadores a utilizar"
   ]
  },
  {
   "cell_type": "code",
   "execution_count": 81,
   "metadata": {},
   "outputs": [],
   "source": [
    "modelRF = RandomForestClassifier(n_estimators=1000) #random forest\n",
    "modelLR = LogisticRegression(max_iter=100000) #regresion logistica\n",
    "modelGNB = GaussianNB() #Gaussian Naive Bayes"
   ]
  },
  {
   "cell_type": "markdown",
   "metadata": {},
   "source": [
    "Utilizando los conjuntos establecidos anteriormente los vamos a pasar como parte del modelo de entrenamiento"
   ]
  },
  {
   "cell_type": "code",
   "execution_count": 82,
   "metadata": {},
   "outputs": [
    {
     "data": {
      "text/plain": [
       "RandomForestClassifier(bootstrap=True, ccp_alpha=0.0, class_weight=None,\n",
       "                       criterion='gini', max_depth=None, max_features='auto',\n",
       "                       max_leaf_nodes=None, max_samples=None,\n",
       "                       min_impurity_decrease=0.0, min_impurity_split=None,\n",
       "                       min_samples_leaf=1, min_samples_split=2,\n",
       "                       min_weight_fraction_leaf=0.0, n_estimators=1000,\n",
       "                       n_jobs=None, oob_score=False, random_state=None,\n",
       "                       verbose=0, warm_start=False)"
      ]
     },
     "execution_count": 82,
     "metadata": {},
     "output_type": "execute_result"
    }
   ],
   "source": [
    "modelRF.fit(x_train,y_train)"
   ]
  },
  {
   "cell_type": "code",
   "execution_count": 83,
   "metadata": {},
   "outputs": [
    {
     "data": {
      "text/plain": [
       "LogisticRegression(C=1.0, class_weight=None, dual=False, fit_intercept=True,\n",
       "                   intercept_scaling=1, l1_ratio=None, max_iter=100000,\n",
       "                   multi_class='auto', n_jobs=None, penalty='l2',\n",
       "                   random_state=None, solver='lbfgs', tol=0.0001, verbose=0,\n",
       "                   warm_start=False)"
      ]
     },
     "execution_count": 83,
     "metadata": {},
     "output_type": "execute_result"
    }
   ],
   "source": [
    "modelLR.fit(x_train,y_train)"
   ]
  },
  {
   "cell_type": "code",
   "execution_count": 84,
   "metadata": {},
   "outputs": [
    {
     "data": {
      "text/plain": [
       "GaussianNB(priors=None, var_smoothing=1e-09)"
      ]
     },
     "execution_count": 84,
     "metadata": {},
     "output_type": "execute_result"
    }
   ],
   "source": [
    "modelGNB.fit(x_train,y_train)"
   ]
  },
  {
   "cell_type": "markdown",
   "metadata": {},
   "source": [
    "Una vez desarrollados los modelos con los conjuntos de datos originales, vamos a evaluar los modelos desarrollados con los conjuntos de datos originales:"
   ]
  },
  {
   "cell_type": "code",
   "execution_count": 85,
   "metadata": {},
   "outputs": [
    {
     "data": {
      "text/plain": [
       "1.0"
      ]
     },
     "execution_count": 85,
     "metadata": {},
     "output_type": "execute_result"
    }
   ],
   "source": [
    "modelRF.score(x_train,y_train)"
   ]
  },
  {
   "cell_type": "code",
   "execution_count": 86,
   "metadata": {},
   "outputs": [
    {
     "data": {
      "text/plain": [
       "0.538596877061799"
      ]
     },
     "execution_count": 86,
     "metadata": {},
     "output_type": "execute_result"
    }
   ],
   "source": [
    "modelLR.score(x_train,y_train)"
   ]
  },
  {
   "cell_type": "code",
   "execution_count": 87,
   "metadata": {
    "scrolled": true
   },
   "outputs": [
    {
     "data": {
      "text/plain": [
       "0.44160985265009894"
      ]
     },
     "execution_count": 87,
     "metadata": {},
     "output_type": "execute_result"
    }
   ],
   "source": [
    "modelGNB.score(x_train,y_train)"
   ]
  },
  {
   "cell_type": "markdown",
   "metadata": {},
   "source": [
    "Como se puede observar los modelos desarrollados con el conjunto de datos originales no presentaron resultados favorables para tener un modelo con una precisión aceptable. Vamos a generar un modelo más de Support Vector Machine, con el fin de evaluar uno más. Cabe recalcar que el modelo con el algoritmo Random Forest dió una precisión teórica del 100%, no obstante, esto solo refleja que puede existir un sobre ajuste el modelo."
   ]
  },
  {
   "cell_type": "code",
   "execution_count": 88,
   "metadata": {},
   "outputs": [],
   "source": [
    "modelSVC = SVC()"
   ]
  },
  {
   "cell_type": "code",
   "execution_count": 90,
   "metadata": {},
   "outputs": [
    {
     "data": {
      "text/plain": [
       "SVC(C=1.0, break_ties=False, cache_size=200, class_weight=None, coef0=0.0,\n",
       "    decision_function_shape='ovr', degree=3, gamma='scale', kernel='rbf',\n",
       "    max_iter=-1, probability=False, random_state=None, shrinking=True,\n",
       "    tol=0.001, verbose=False)"
      ]
     },
     "execution_count": 90,
     "metadata": {},
     "output_type": "execute_result"
    }
   ],
   "source": [
    "modelSVC.fit(x_train,y_train)"
   ]
  },
  {
   "cell_type": "code",
   "execution_count": 91,
   "metadata": {},
   "outputs": [
    {
     "data": {
      "text/plain": [
       "0.4398504508467121"
      ]
     },
     "execution_count": 91,
     "metadata": {},
     "output_type": "execute_result"
    }
   ],
   "source": [
    "modelSVC.score(x_train,y_train)"
   ]
  },
  {
   "cell_type": "markdown",
   "metadata": {},
   "source": [
    "Con el modelo con algoritmo SVM tampoco se logró un resultado favorable. Ahora vamos a realizar predicciones y ver cual tuvo un mejor comportamiento con los datos de pruebas."
   ]
  },
  {
   "cell_type": "code",
   "execution_count": 93,
   "metadata": {},
   "outputs": [
    {
     "name": "stdout",
     "output_type": "stream",
     "text": [
      "Modelo Random Forest - Datos Originales\n",
      "[[  0   0   7   4   0   0]\n",
      " [  1   6  27  13   2   0]\n",
      " [  0   0 475 176   4   0]\n",
      " [  0   1 160 664  33   0]\n",
      " [  0   0  15 142 164   1]\n",
      " [  0   0   1  14  14  26]]\n",
      "Precisión 0.6846153846153846\n"
     ]
    }
   ],
   "source": [
    "predRFOrig = modelRF.predict(x_test)\n",
    "\n",
    "cmOrigRF = confusion_matrix(y_test, predRFOrig)\n",
    "print(\"Modelo Random Forest - Datos Originales\")\n",
    "print(cmOrigRF)\n",
    "print('Precisión', accuracy_score(y_test, predRFOrig))"
   ]
  },
  {
   "cell_type": "code",
   "execution_count": 94,
   "metadata": {},
   "outputs": [
    {
     "name": "stdout",
     "output_type": "stream",
     "text": [
      "Modelo Linear Regression - Datos Originales\n",
      "[[  0   0   7   4   0   0]\n",
      " [  0   0  29  19   1   0]\n",
      " [  0   0 404 249   2   0]\n",
      " [  0   0 225 598  35   0]\n",
      " [  0   0  31 232  59   0]\n",
      " [  0   0   7  34  14   0]]\n",
      "Precisión 0.5441025641025641\n"
     ]
    }
   ],
   "source": [
    "predLROrig = modelLR.predict(x_test)\n",
    "\n",
    "cmOrigLR = confusion_matrix(y_test, predLROrig)\n",
    "print(\"Modelo Linear Regression - Datos Originales\")\n",
    "print(cmOrigLR)\n",
    "print('Precisión', accuracy_score(y_test, predLROrig))"
   ]
  },
  {
   "cell_type": "code",
   "execution_count": 96,
   "metadata": {},
   "outputs": [
    {
     "name": "stdout",
     "output_type": "stream",
     "text": [
      "Modelo Gaussian Naive Bayes - Datos Originales\n",
      "[[  0   3   3   4   1   0   0]\n",
      " [  1   4  19  19   6   0   0]\n",
      " [  3  21 317 256  58   0   0]\n",
      " [  1  27 229 359 236   5   1]\n",
      " [  1   5  40  78 191   3   4]\n",
      " [  0   0   6  14  33   2   0]\n",
      " [  0   0   0   0   0   0   0]]\n",
      "Precisión 0.44769230769230767\n"
     ]
    }
   ],
   "source": [
    "predGNBOrig = modelGNB.predict(x_test)\n",
    "\n",
    "cmOrigGNB = confusion_matrix(y_test, predGNBOrig)\n",
    "print(\"Modelo Gaussian Naive Bayes - Datos Originales\")\n",
    "print(cmOrigGNB)\n",
    "print('Precisión', accuracy_score(y_test, predGNBOrig))"
   ]
  },
  {
   "cell_type": "code",
   "execution_count": 97,
   "metadata": {},
   "outputs": [
    {
     "name": "stdout",
     "output_type": "stream",
     "text": [
      "Modelo SVM - Datos Originales\n",
      "[[  0   3   3   4   1   0   0]\n",
      " [  1   4  19  19   6   0   0]\n",
      " [  3  21 317 256  58   0   0]\n",
      " [  1  27 229 359 236   5   1]\n",
      " [  1   5  40  78 191   3   4]\n",
      " [  0   0   6  14  33   2   0]\n",
      " [  0   0   0   0   0   0   0]]\n",
      "Precisión 0.438974358974359\n"
     ]
    }
   ],
   "source": [
    "predSVCOrig = modelSVC.predict(x_test)\n",
    "\n",
    "cmOrigSVC = confusion_matrix(y_test, predSVCOrig)\n",
    "print(\"Modelo SVM - Datos Originales\")\n",
    "print(cmOrigGNB)\n",
    "print('Precisión', accuracy_score(y_test, predSVCOrig))"
   ]
  },
  {
   "cell_type": "markdown",
   "metadata": {},
   "source": [
    "De los resultados anteriores se mantuvo lo que vimos en la evaluación del modelo, no obstante, Random Forest mostró un rendimiento minimamente aceptable con una presición de un 68%. Ahora vamos a aplicar un poco de ingenieria de datos para intentar mejorar los modelos desarrollados."
   ]
  },
  {
   "cell_type": "markdown",
   "metadata": {},
   "source": [
    "#### PCA en modelos de predicción de calidad del vino"
   ]
  },
  {
   "cell_type": "markdown",
   "metadata": {},
   "source": [
    "PCA es una técnica utilizada para describir un conjunto de datos en términos de nuevas variables (\"componentes\") no correlacionadas. Los componentes se ordenan por la cantidad de varianza original que describen, por lo que la técnica es útil para reducir la dimensionalidad de un conjunto de datos.<br><br>\n",
    "No considero que PCA pueda tener un impacto importante, tomando en cuenta que el modelo de datos no tienen una dimensionalidad alta. "
   ]
  },
  {
   "cell_type": "code",
   "execution_count": 100,
   "metadata": {},
   "outputs": [],
   "source": [
    "#normalizamos los datos\n",
    "scaler=StandardScaler()\n",
    "dfPCA = datos_originales\n",
    "dfPCA = dfPCA.drop(['quality'], axis=1) # quito la variable dependiente \"Y\"\n",
    "X_train_pca = scaler.fit_transform(x_train)\n",
    "X_test_pca = scaler.transform(x_test) # se escalan los datos y se normalizan"
   ]
  },
  {
   "cell_type": "code",
   "execution_count": 101,
   "metadata": {},
   "outputs": [],
   "source": [
    "#Instanciamos objeto PCA y aplicamos\n",
    "pca=PCA(.90) #para lograr el 90%\n",
    "X_train_pca = pca.fit_transform(X_train_pca)\n",
    "X_test_pca = pca.transform(X_test_pca)"
   ]
  },
  {
   "cell_type": "code",
   "execution_count": 109,
   "metadata": {},
   "outputs": [
    {
     "name": "stdout",
     "output_type": "stream",
     "text": [
      "X_train_pca Shape (4547, 8)\n",
      "[0.2711439  0.22756852 0.14199699 0.08961923 0.06538821 0.05572947\n",
      " 0.04813865 0.04554102]\n",
      "suma: 0.8995849821267257\n"
     ]
    }
   ],
   "source": [
    "print(\"X_train_pca Shape\", X_train_pca.shape)\n",
    "expl = pca.explained_variance_ratio_\n",
    "print(expl)\n",
    "print('suma:',sum(expl[0:7]))\n",
    "#Vemos que con 8 componentes tenemos casi el 90% de varianza explicada"
   ]
  },
  {
   "cell_type": "code",
   "execution_count": 110,
   "metadata": {},
   "outputs": [
    {
     "data": {
      "image/png": "[encoded data removed]",
      "text/plain": [
       "<Figure size 648x504 with 1 Axes>"
      ]
     },
     "metadata": {},
     "output_type": "display_data"
    }
   ],
   "source": [
    "#graficamos el acumulado de varianza explicada en las nuevas dimensiones\n",
    "plt.plot(np.cumsum(pca.explained_variance_ratio_))\n",
    "plt.xlabel('cantidad de componentes')\n",
    "plt.ylabel('varianza explicativa acumulativa')\n",
    "plt.show()"
   ]
  },
  {
   "cell_type": "markdown",
   "metadata": {},
   "source": [
    "Entrenamiento y predicciones PCA - Random Forest"
   ]
  },
  {
   "cell_type": "code",
   "execution_count": 111,
   "metadata": {},
   "outputs": [],
   "source": [
    "rfClassifierPCA = RandomForestClassifier()#inicializacion\n",
    "rfClassifierPCA.fit(X_train_pca, y_train)#entrenamiento\n",
    "y_pred_pca = rfClassifierPCA.predict(X_test_pca)#prediccion"
   ]
  },
  {
   "cell_type": "markdown",
   "metadata": {},
   "source": [
    "Evaluación del desempeño modelo PCA - Random Forest"
   ]
  },
  {
   "cell_type": "code",
   "execution_count": 117,
   "metadata": {},
   "outputs": [
    {
     "name": "stdout",
     "output_type": "stream",
     "text": [
      "Modelo Random Forest - PCA\n",
      "[[  0   1   7   3   0   0]\n",
      " [  0   5  24  18   2   0]\n",
      " [  0   0 465 184   6   0]\n",
      " [  0   1 169 650  37   1]\n",
      " [  0   0  11 157 154   0]\n",
      " [  0   0   2  17  11  25]]\n",
      "Precisión 0.6661538461538462\n"
     ]
    }
   ],
   "source": [
    "RFcmPCA = confusion_matrix(y_test, y_pred_pca)\n",
    "print(\"Modelo Random Forest - PCA\")\n",
    "print(RFcmPCA)\n",
    "print('Precisión', accuracy_score(y_test, y_pred_pca))"
   ]
  },
  {
   "cell_type": "markdown",
   "metadata": {},
   "source": [
    "Entrenamiento y predicciones PCA - Logistic Regression"
   ]
  },
  {
   "cell_type": "code",
   "execution_count": 113,
   "metadata": {},
   "outputs": [],
   "source": [
    "lrClassifierPCA = LogisticRegression(max_iter=100000)\n",
    "lrClassifierPCA.fit(X_train_pca, y_train)\n",
    "y_pred_pca_LR = lrClassifierPCA.predict(X_test_pca)"
   ]
  },
  {
   "cell_type": "markdown",
   "metadata": {},
   "source": [
    "Evaluación del desempeño modelo PCA - Logistic Regression"
   ]
  },
  {
   "cell_type": "code",
   "execution_count": 118,
   "metadata": {},
   "outputs": [
    {
     "name": "stdout",
     "output_type": "stream",
     "text": [
      "Modelo Logistic Regression - PCA\n",
      "[[  0   0   7   4   0   0]\n",
      " [  0   0  26  22   1   0]\n",
      " [  0   0 384 268   3   0]\n",
      " [  0   0 233 587  38   0]\n",
      " [  0   0  29 228  65   0]\n",
      " [  0   0   8  33  14   0]]\n",
      "Precisión 0.5312820512820513\n"
     ]
    }
   ],
   "source": [
    "cmPCA_LR = confusion_matrix(y_test, y_pred_pca_LR)\n",
    "print(\"Modelo Logistic Regression - PCA\")\n",
    "print(cmPCA_LR)\n",
    "print('Precisión', accuracy_score(y_test, y_pred_pca_LR))"
   ]
  },
  {
   "cell_type": "markdown",
   "metadata": {},
   "source": [
    "Entrenamiento y predicciones PCA - Gaussian Naive Bayes"
   ]
  },
  {
   "cell_type": "code",
   "execution_count": 115,
   "metadata": {},
   "outputs": [],
   "source": [
    "GNBClassifierPCA = GaussianNB()\n",
    "GNBClassifierPCA.fit(X_train_pca, y_train)\n",
    "y_pred_pca_GNB = GNBClassifierPCA.predict(X_test_pca)"
   ]
  },
  {
   "cell_type": "markdown",
   "metadata": {},
   "source": [
    "Evaluación del desempeño modelo PCA - Gaussian Naive Bayes"
   ]
  },
  {
   "cell_type": "code",
   "execution_count": 119,
   "metadata": {},
   "outputs": [
    {
     "name": "stdout",
     "output_type": "stream",
     "text": [
      "Modelo Gaussian Naive Bayes - PCA\n",
      "[[  1   2   4   4   0   0]\n",
      " [  3   1  20  23   2   0]\n",
      " [  8   1 298 341   7   0]\n",
      " [ 10   1 184 596  65   2]\n",
      " [  3   0  19 210  90   0]\n",
      " [  1   0   7  28  17   2]]\n",
      "Precisión 0.5066666666666667\n"
     ]
    }
   ],
   "source": [
    "cmPCA_GNB = confusion_matrix(y_test, y_pred_pca_GNB)\n",
    "print(\"Modelo Gaussian Naive Bayes - PCA\")\n",
    "print(cmPCA_GNB)\n",
    "print('Precisión', accuracy_score(y_test, y_pred_pca_GNB))"
   ]
  },
  {
   "cell_type": "markdown",
   "metadata": {},
   "source": [
    "Entrenamiento y predicciones PCA - Support Vector Machine"
   ]
  },
  {
   "cell_type": "code",
   "execution_count": 120,
   "metadata": {},
   "outputs": [],
   "source": [
    "SVCClassifierPCA = SVC()\n",
    "SVCClassifierPCA.fit(X_train_pca, y_train)\n",
    "y_pred_pca_SVC = SVCClassifierPCA.predict(X_test_pca)"
   ]
  },
  {
   "cell_type": "markdown",
   "metadata": {},
   "source": [
    "Evaluación del desempeño modelo PCA - Support Vector Machine"
   ]
  },
  {
   "cell_type": "code",
   "execution_count": 121,
   "metadata": {},
   "outputs": [
    {
     "name": "stdout",
     "output_type": "stream",
     "text": [
      "Modelo Support Vector Machine - PCA\n",
      "[[  0   0   7   4   0   0]\n",
      " [  0   0  27  21   1   0]\n",
      " [  0   0 396 257   2   0]\n",
      " [  0   0 205 631  22   0]\n",
      " [  0   0  22 242  58   0]\n",
      " [  0   0   6  36  13   0]]\n",
      "Precisión 0.5564102564102564\n"
     ]
    }
   ],
   "source": [
    "cmPCA_SVC = confusion_matrix(y_test, y_pred_pca_SVC)\n",
    "print(\"Modelo Support Vector Machine - PCA\")\n",
    "print(cmPCA_SVC)\n",
    "print('Precisión', accuracy_score(y_test, y_pred_pca_SVC))"
   ]
  },
  {
   "cell_type": "markdown",
   "metadata": {},
   "source": [
    "Después de desarrollar los modelos utilizando PCA vemos que no se logró desarrollar un modelo con una precisión aceptable, los modelos con Random Forest y Logistic Regression tuvieron una pérdida de precisión poco signficativa versus los modelos con los datos originales (2% y 1% respectivamente), mientras tanto los modelos que utilizan los algoritmos Gaussian Naive Bayes y Support Vector Machine tuvieron un aumento en la precisión considerable versus los modelos con los datos originales (6% y 7% respectivamente) aunque lastimosamente no obtuvieron una precisión aceptable para este ejercicio."
   ]
  },
  {
   "cell_type": "markdown",
   "metadata": {},
   "source": [
    "### Utilización de RFE"
   ]
  },
  {
   "cell_type": "markdown",
   "metadata": {},
   "source": [
    "Como habíamos estudiado anteriormente, RFE es un algoritmo de optimización que busca encontrar el subconjunto de funciones con mejor rendimiento. Crea repetidamente modelos y deja de lado la mejor o la peor característica de rendimiento en cada iteración. Construye el siguiente modelo con las características de la izquierda hasta que se agotan todas las características, luego clasifica las características según el orden de su eliminación."
   ]
  },
  {
   "cell_type": "markdown",
   "metadata": {},
   "source": [
    "Modelo y entrenamiento RFE - Random Forest"
   ]
  },
  {
   "cell_type": "code",
   "execution_count": 122,
   "metadata": {},
   "outputs": [
    {
     "name": "stdout",
     "output_type": "stream",
     "text": [
      "# Caracteristicas: 6\n",
      "Caracteristicas seleccionadas: [False  True False False  True False  True  True  True False  True]\n",
      "Ranking de caracteristicas: [6 1 5 4 1 2 1 1 1 3 1]\n"
     ]
    }
   ],
   "source": [
    "rfeRF = RFE(modelRF, 6)\n",
    "rfeRF = rfeRF.fit(x_train, y_train)\n",
    "\n",
    "print(\"# Caracteristicas: %d\" % rfeRF.n_features_)\n",
    "print(\"Caracteristicas seleccionadas: %s\" % rfeRF.support_)\n",
    "print(\"Ranking de caracteristicas: %s\" % rfeRF.ranking_)"
   ]
  },
  {
   "cell_type": "markdown",
   "metadata": {},
   "source": [
    "Predicción RFE - Random Forest"
   ]
  },
  {
   "cell_type": "code",
   "execution_count": 123,
   "metadata": {},
   "outputs": [],
   "source": [
    "y_pred_rfe_RF = rfeRF.predict(x_test)"
   ]
  },
  {
   "cell_type": "markdown",
   "metadata": {},
   "source": [
    "Evaluación de desempeño RFE - Random Forest"
   ]
  },
  {
   "cell_type": "code",
   "execution_count": 124,
   "metadata": {},
   "outputs": [
    {
     "name": "stdout",
     "output_type": "stream",
     "text": [
      "Modelo Random Forest - RFE\n",
      "[[  0   0   7   4   0   0]\n",
      " [  1   6  20  19   3   0]\n",
      " [  0   0 462 186   7   0]\n",
      " [  0   2 162 645  49   0]\n",
      " [  0   0  19 135 167   1]\n",
      " [  0   0   1  17  11  26]]\n",
      "Precisión 0.6697435897435897\n"
     ]
    }
   ],
   "source": [
    "cmRFE_RF = confusion_matrix(y_test, y_pred_rfe_RF)\n",
    "print(\"Modelo Random Forest - RFE\")\n",
    "print(cmRFE_RF)\n",
    "print('Precisión', accuracy_score(y_test, y_pred_rfe_RF))"
   ]
  },
  {
   "cell_type": "markdown",
   "metadata": {},
   "source": [
    "Modelo y entrenamiento RFE - Logistic Regression"
   ]
  },
  {
   "cell_type": "code",
   "execution_count": 127,
   "metadata": {},
   "outputs": [
    {
     "name": "stdout",
     "output_type": "stream",
     "text": [
      "# Caracteristicas: 6\n",
      "Caracteristicas seleccionadas: [False  True  True False  True False False False  True  True  True]\n",
      "Ranking de caracteristicas: [2 1 1 4 1 5 6 3 1 1 1]\n"
     ]
    }
   ],
   "source": [
    "modelLR = LogisticRegression(max_iter = 20000)\n",
    "rfeLR = RFE(modelLR, 6)\n",
    "rfeLR = rfeLR.fit(x_train, y_train)\n",
    "\n",
    "print(\"# Caracteristicas: %d\" % rfeLR.n_features_)\n",
    "print(\"Caracteristicas seleccionadas: %s\" % rfeLR.support_)\n",
    "print(\"Ranking de caracteristicas: %s\" % rfeLR.ranking_)"
   ]
  },
  {
   "cell_type": "markdown",
   "metadata": {},
   "source": [
    "Predicción RFE - Logistic Regression"
   ]
  },
  {
   "cell_type": "code",
   "execution_count": 129,
   "metadata": {},
   "outputs": [],
   "source": [
    "y_pred_rfe_LR = rfeLR.predict(x_test)"
   ]
  },
  {
   "cell_type": "markdown",
   "metadata": {},
   "source": [
    "Evaluación de desempeño RFE - Logistic Regression"
   ]
  },
  {
   "cell_type": "code",
   "execution_count": 130,
   "metadata": {},
   "outputs": [
    {
     "name": "stdout",
     "output_type": "stream",
     "text": [
      "Modelo Logistic Regression - RFE\n",
      "[[  0   0   7   4   0   0]\n",
      " [  0   0  26  22   1   0]\n",
      " [  0   0 403 249   3   0]\n",
      " [  0   0 230 599  29   0]\n",
      " [  0   0  37 230  55   0]\n",
      " [  0   0   7  35  13   0]]\n",
      "Precisión 0.5420512820512821\n"
     ]
    }
   ],
   "source": [
    "cmRFE_LR = confusion_matrix(y_test, y_pred_rfe_LR)\n",
    "print(\"Modelo Logistic Regression - RFE\")\n",
    "print(cmRFE_LR)\n",
    "print('Precisión', accuracy_score(y_test, y_pred_rfe_LR))"
   ]
  },
  {
   "cell_type": "markdown",
   "metadata": {},
   "source": [
    "Para los modelos con RFE no se pudo utilizar los algoritmos Gaussian Naive Bayes y Support Vector Machine, por cuanto estos no exponen los coeficientes. Al no poder hacerlo buscaremos un modelo mas para evaluar realmente si RFE es una buena alternativa o no."
   ]
  },
  {
   "cell_type": "markdown",
   "metadata": {},
   "source": [
    "Para este caso puntual, se desarrollara un modelo mas utilizando Arboles de Decisiones"
   ]
  },
  {
   "cell_type": "code",
   "execution_count": 134,
   "metadata": {},
   "outputs": [
    {
     "name": "stdout",
     "output_type": "stream",
     "text": [
      "Accuracy: 0.5912820512820512\n"
     ]
    }
   ],
   "source": [
    "from sklearn.tree import DecisionTreeClassifier\n",
    "clf = DecisionTreeClassifier()\n",
    "clf = clf.fit(x_train,y_train)\n",
    "y_pred = clf.predict(x_test)\n",
    "print(\"Accuracy:\",accuracy_score(y_test, y_pred))"
   ]
  },
  {
   "cell_type": "markdown",
   "metadata": {},
   "source": [
    "Ahora procedemos utilizar RFE y comparamos con el modelo original"
   ]
  },
  {
   "cell_type": "code",
   "execution_count": 211,
   "metadata": {},
   "outputs": [
    {
     "name": "stdout",
     "output_type": "stream",
     "text": [
      "# Caracteristicas: 6\n",
      "Caracteristicas seleccionadas: [False  True False False  True  True  True False  True False  True]\n",
      "Ranking de caracteristicas: [5 1 4 3 1 1 1 6 1 2 1]\n"
     ]
    }
   ],
   "source": [
    "modelDT = DecisionTreeClassifier()\n",
    "rfeDT = RFE(modelDT, 6)\n",
    "rfeDT = rfeDT.fit(x_train, y_train)\n",
    "\n",
    "print(\"# Caracteristicas: %d\" % rfeDT.n_features_)\n",
    "print(\"Caracteristicas seleccionadas: %s\" % rfeDT.support_)\n",
    "print(\"Ranking de caracteristicas: %s\" % rfeDT.ranking_)"
   ]
  },
  {
   "cell_type": "code",
   "execution_count": 212,
   "metadata": {},
   "outputs": [],
   "source": [
    "y_pred_rfe_DT = rfeDT.predict(x_test)"
   ]
  },
  {
   "cell_type": "code",
   "execution_count": 213,
   "metadata": {
    "scrolled": true
   },
   "outputs": [
    {
     "name": "stdout",
     "output_type": "stream",
     "text": [
      "Modelo Decision Tree - RFE\n",
      "[[  0   2   4   4   1   0   0]\n",
      " [  1  11  16  15   6   0   0]\n",
      " [  2  21 429 171  29   3   0]\n",
      " [  1  26 188 514 108  21   0]\n",
      " [  0   6  35  99 165  17   0]\n",
      " [  0   1   6  10  11  25   2]\n",
      " [  0   0   0   0   0   0   0]]\n",
      "Precisión 0.5866666666666667\n"
     ]
    }
   ],
   "source": [
    "cmRFE_DT = confusion_matrix(y_test, y_pred_rfe_DT)\n",
    "print(\"Modelo Decision Tree - RFE\")\n",
    "print(cmRFE_DT)\n",
    "print('Precisión', accuracy_score(y_test, y_pred_rfe_DT))"
   ]
  },
  {
   "cell_type": "markdown",
   "metadata": {},
   "source": [
    "De igual forma, no logramos un modelo que tenga un rendimiento aceptable para los objetivos de la presente investigación."
   ]
  },
  {
   "cell_type": "markdown",
   "metadata": {},
   "source": [
    "#### AutoML en predicción de calidad del vino"
   ]
  },
  {
   "cell_type": "markdown",
   "metadata": {},
   "source": [
    "El proceso de generar modelos manualmente, estar completándolos y optimizarlos suele ser muchas veces tedioso, por tanto, como parte final de los modelos de predicción de la calidad del vino basado en las mediciones fisicoquímicas vamos a probar AutoML.<br><br>\n",
    "El aprendizaje automático (AutoML) es el proceso de automatizar una acción aplicando el aprendizaje automático común para resolver problemas reales. La automatización del proceso de aprendizaje ofrece otras ventajas, como la producción de soluciones más sencillas y una resolución más rápida. "
   ]
  },
  {
   "cell_type": "markdown",
   "metadata": {},
   "source": [
    "Lo primero que se debe hacer es iniciar la instancia H2O.ai importando h2o.ai y la instancia H2OAutoML."
   ]
  },
  {
   "cell_type": "code",
   "execution_count": 216,
   "metadata": {},
   "outputs": [
    {
     "name": "stdout",
     "output_type": "stream",
     "text": [
      "Checking whether there is an H2O instance running at http://localhost:54321 . connected.\n"
     ]
    },
    {
     "data": {
      "text/html": [
       "<div style=\"overflow:auto\"><table style=\"width:50%\"><tr><td>H2O cluster uptime:</td>\n",
       "<td>47 secs</td></tr>\n",
       "<tr><td>H2O cluster timezone:</td>\n",
       "<td>America/Regina</td></tr>\n",
       "<tr><td>H2O data parsing timezone:</td>\n",
       "<td>UTC</td></tr>\n",
       "<tr><td>H2O cluster version:</td>\n",
       "<td>3.28.1.2</td></tr>\n",
       "<tr><td>H2O cluster version age:</td>\n",
       "<td>13 days </td></tr>\n",
       "<tr><td>H2O cluster name:</td>\n",
       "<td>H2O_from_python_Marco_7nahd6</td></tr>\n",
       "<tr><td>H2O cluster total nodes:</td>\n",
       "<td>1</td></tr>\n",
       "<tr><td>H2O cluster free memory:</td>\n",
       "<td>1.754 Gb</td></tr>\n",
       "<tr><td>H2O cluster total cores:</td>\n",
       "<td>4</td></tr>\n",
       "<tr><td>H2O cluster allowed cores:</td>\n",
       "<td>4</td></tr>\n",
       "<tr><td>H2O cluster status:</td>\n",
       "<td>locked, healthy</td></tr>\n",
       "<tr><td>H2O connection url:</td>\n",
       "<td>http://localhost:54321</td></tr>\n",
       "<tr><td>H2O connection proxy:</td>\n",
       "<td>{'http': None, 'https': None}</td></tr>\n",
       "<tr><td>H2O internal security:</td>\n",
       "<td>False</td></tr>\n",
       "<tr><td>H2O API Extensions:</td>\n",
       "<td>Amazon S3, Algos, AutoML, Core V3, TargetEncoder, Core V4</td></tr>\n",
       "<tr><td>Python version:</td>\n",
       "<td>3.7.4 final</td></tr></table></div>"
      ],
      "text/plain": [
       "--------------------------  ---------------------------------------------------------\n",
       "H2O cluster uptime:         47 secs\n",
       "H2O cluster timezone:       America/Regina\n",
       "H2O data parsing timezone:  UTC\n",
       "H2O cluster version:        3.28.1.2\n",
       "H2O cluster version age:    13 days\n",
       "H2O cluster name:           H2O_from_python_Marco_7nahd6\n",
       "H2O cluster total nodes:    1\n",
       "H2O cluster free memory:    1.754 Gb\n",
       "H2O cluster total cores:    4\n",
       "H2O cluster allowed cores:  4\n",
       "H2O cluster status:         locked, healthy\n",
       "H2O connection url:         http://localhost:54321\n",
       "H2O connection proxy:       {'http': None, 'https': None}\n",
       "H2O internal security:      False\n",
       "H2O API Extensions:         Amazon S3, Algos, AutoML, Core V3, TargetEncoder, Core V4\n",
       "Python version:             3.7.4 final\n",
       "--------------------------  ---------------------------------------------------------"
      ]
     },
     "metadata": {},
     "output_type": "display_data"
    }
   ],
   "source": [
    "import h2o\n",
    "from h2o.automl import H2OAutoML\n",
    "h2o.init()"
   ]
  },
  {
   "cell_type": "markdown",
   "metadata": {},
   "source": [
    "El cuadro anterior muestra que la instalación de AutoML de H2O fue exitoso"
   ]
  },
  {
   "cell_type": "markdown",
   "metadata": {},
   "source": [
    "Ahora vamos a cargar el conjunto de datos, como se puede observar el proceso es diferente a la carga de datos normalmente utilizada, se debe cargar mediante la función h2o.import_file. Si se intenta cargar como lo hemos hecho anteriormente, el proceso fallará."
   ]
  },
  {
   "cell_type": "code",
   "execution_count": 219,
   "metadata": {},
   "outputs": [
    {
     "name": "stdout",
     "output_type": "stream",
     "text": [
      "Parse progress: |█████████████████████████████████████████████████████████| 100%\n"
     ]
    }
   ],
   "source": [
    "df = h2o.import_file('winequality-final.csv')"
   ]
  },
  {
   "cell_type": "code",
   "execution_count": 220,
   "metadata": {},
   "outputs": [
    {
     "data": {
      "text/html": [
       "<table>\n",
       "<thead>\n",
       "<tr><th style=\"text-align: right;\">  fixed_acidity</th><th style=\"text-align: right;\">  volatile_acidity</th><th style=\"text-align: right;\">  citric_acid</th><th style=\"text-align: right;\">  residual_sugar</th><th style=\"text-align: right;\">  chlorides</th><th style=\"text-align: right;\">  free_sulfur_dioxide</th><th style=\"text-align: right;\">  total_sulfur_dioxide</th><th style=\"text-align: right;\">  density</th><th style=\"text-align: right;\">  pH</th><th style=\"text-align: right;\">  sulphates</th><th style=\"text-align: right;\">  alcohol</th><th style=\"text-align: right;\">  quality</th><th>type  </th></tr>\n",
       "</thead>\n",
       "<tbody>\n",
       "<tr><td style=\"text-align: right;\">            6.7</td><td style=\"text-align: right;\">              0.19</td><td style=\"text-align: right;\">         0.32</td><td style=\"text-align: right;\">             3.7</td><td style=\"text-align: right;\">      0.041</td><td style=\"text-align: right;\">                   26</td><td style=\"text-align: right;\">                    76</td><td style=\"text-align: right;\">  0.99173</td><td style=\"text-align: right;\">2.9 </td><td style=\"text-align: right;\">       0.57</td><td style=\"text-align: right;\">  10.5   </td><td style=\"text-align: right;\">        7</td><td>White </td></tr>\n",
       "<tr><td style=\"text-align: right;\">            6.8</td><td style=\"text-align: right;\">              0.25</td><td style=\"text-align: right;\">         0.27</td><td style=\"text-align: right;\">            10.7</td><td style=\"text-align: right;\">      0.076</td><td style=\"text-align: right;\">                   47</td><td style=\"text-align: right;\">                   154</td><td style=\"text-align: right;\">  0.9967 </td><td style=\"text-align: right;\">3.05</td><td style=\"text-align: right;\">       0.38</td><td style=\"text-align: right;\">   9     </td><td style=\"text-align: right;\">        5</td><td>White </td></tr>\n",
       "<tr><td style=\"text-align: right;\">            6.2</td><td style=\"text-align: right;\">              0.15</td><td style=\"text-align: right;\">         0.46</td><td style=\"text-align: right;\">             1.6</td><td style=\"text-align: right;\">      0.039</td><td style=\"text-align: right;\">                   38</td><td style=\"text-align: right;\">                   123</td><td style=\"text-align: right;\">  0.993  </td><td style=\"text-align: right;\">3.38</td><td style=\"text-align: right;\">       0.51</td><td style=\"text-align: right;\">   9.7   </td><td style=\"text-align: right;\">        6</td><td>White </td></tr>\n",
       "<tr><td style=\"text-align: right;\">            7.5</td><td style=\"text-align: right;\">              0.5 </td><td style=\"text-align: right;\">         0.36</td><td style=\"text-align: right;\">             6.1</td><td style=\"text-align: right;\">      0.071</td><td style=\"text-align: right;\">                   17</td><td style=\"text-align: right;\">                   102</td><td style=\"text-align: right;\">  0.9978 </td><td style=\"text-align: right;\">3.35</td><td style=\"text-align: right;\">       0.8 </td><td style=\"text-align: right;\">  10.5   </td><td style=\"text-align: right;\">        5</td><td>Red   </td></tr>\n",
       "<tr><td style=\"text-align: right;\">            6.8</td><td style=\"text-align: right;\">              0.29</td><td style=\"text-align: right;\">         0.56</td><td style=\"text-align: right;\">            11.9</td><td style=\"text-align: right;\">      0.043</td><td style=\"text-align: right;\">                   66</td><td style=\"text-align: right;\">                   230</td><td style=\"text-align: right;\">  0.9972 </td><td style=\"text-align: right;\">3.02</td><td style=\"text-align: right;\">       0.63</td><td style=\"text-align: right;\">   9.3   </td><td style=\"text-align: right;\">        5</td><td>White </td></tr>\n",
       "<tr><td style=\"text-align: right;\">            6.6</td><td style=\"text-align: right;\">              0.38</td><td style=\"text-align: right;\">         0.29</td><td style=\"text-align: right;\">             2.9</td><td style=\"text-align: right;\">      0.035</td><td style=\"text-align: right;\">                   15</td><td style=\"text-align: right;\">                   101</td><td style=\"text-align: right;\">  0.98916</td><td style=\"text-align: right;\">3.04</td><td style=\"text-align: right;\">       0.37</td><td style=\"text-align: right;\">  12.5   </td><td style=\"text-align: right;\">        6</td><td>White </td></tr>\n",
       "<tr><td style=\"text-align: right;\">            6.8</td><td style=\"text-align: right;\">              0.24</td><td style=\"text-align: right;\">         0.29</td><td style=\"text-align: right;\">             2  </td><td style=\"text-align: right;\">      0.044</td><td style=\"text-align: right;\">                   15</td><td style=\"text-align: right;\">                    96</td><td style=\"text-align: right;\">  0.99232</td><td style=\"text-align: right;\">3.23</td><td style=\"text-align: right;\">       0.64</td><td style=\"text-align: right;\">  10.4   </td><td style=\"text-align: right;\">        8</td><td>White </td></tr>\n",
       "<tr><td style=\"text-align: right;\">            7.6</td><td style=\"text-align: right;\">              0.16</td><td style=\"text-align: right;\">         0.41</td><td style=\"text-align: right;\">             1.9</td><td style=\"text-align: right;\">      0.047</td><td style=\"text-align: right;\">                   27</td><td style=\"text-align: right;\">                   151</td><td style=\"text-align: right;\">  0.9937 </td><td style=\"text-align: right;\">3.2 </td><td style=\"text-align: right;\">       0.53</td><td style=\"text-align: right;\">  10.1   </td><td style=\"text-align: right;\">        6</td><td>White </td></tr>\n",
       "<tr><td style=\"text-align: right;\">            6.6</td><td style=\"text-align: right;\">              0.32</td><td style=\"text-align: right;\">         0.47</td><td style=\"text-align: right;\">            15.6</td><td style=\"text-align: right;\">      0.063</td><td style=\"text-align: right;\">                   27</td><td style=\"text-align: right;\">                   173</td><td style=\"text-align: right;\">  0.99872</td><td style=\"text-align: right;\">3.18</td><td style=\"text-align: right;\">       0.56</td><td style=\"text-align: right;\">   9     </td><td style=\"text-align: right;\">        5</td><td>White </td></tr>\n",
       "<tr><td style=\"text-align: right;\">            6  </td><td style=\"text-align: right;\">              0.17</td><td style=\"text-align: right;\">         0.33</td><td style=\"text-align: right;\">             6  </td><td style=\"text-align: right;\">      0.036</td><td style=\"text-align: right;\">                   30</td><td style=\"text-align: right;\">                   111</td><td style=\"text-align: right;\">  0.99362</td><td style=\"text-align: right;\">3.32</td><td style=\"text-align: right;\">       0.58</td><td style=\"text-align: right;\">  10.1333</td><td style=\"text-align: right;\">        7</td><td>White </td></tr>\n",
       "</tbody>\n",
       "</table>"
      ]
     },
     "metadata": {},
     "output_type": "display_data"
    },
    {
     "data": {
      "text/plain": []
     },
     "execution_count": 220,
     "metadata": {},
     "output_type": "execute_result"
    }
   ],
   "source": [
    "df.head()"
   ]
  },
  {
   "cell_type": "code",
   "execution_count": 221,
   "metadata": {
    "scrolled": false
   },
   "outputs": [
    {
     "name": "stdout",
     "output_type": "stream",
     "text": [
      "Rows:6497\n",
      "Cols:13\n",
      "\n",
      "\n"
     ]
    },
    {
     "data": {
      "text/html": [
       "<table>\n",
       "<thead>\n",
       "<tr><th>       </th><th>fixed_acidity     </th><th>volatile_acidity   </th><th>citric_acid        </th><th>residual_sugar   </th><th>chlorides          </th><th>free_sulfur_dioxide  </th><th>total_sulfur_dioxide  </th><th>density             </th><th>pH                </th><th>sulphates         </th><th>alcohol           </th><th>quality           </th><th>type  </th></tr>\n",
       "</thead>\n",
       "<tbody>\n",
       "<tr><td>type   </td><td>real              </td><td>real               </td><td>real               </td><td>real             </td><td>real               </td><td>real                 </td><td>real                  </td><td>real                </td><td>real              </td><td>real              </td><td>real              </td><td>int               </td><td>enum  </td></tr>\n",
       "<tr><td>mins   </td><td>3.8               </td><td>0.08               </td><td>0.0                </td><td>0.6              </td><td>0.009              </td><td>1.0                  </td><td>6.0                   </td><td>0.98711             </td><td>2.72              </td><td>0.22              </td><td>8.0               </td><td>3.0               </td><td>      </td></tr>\n",
       "<tr><td>mean   </td><td>7.215307064799139 </td><td>0.33966599969216565</td><td>0.3186332153301524 </td><td>5.443235339387411</td><td>0.05603386178236109</td><td>30.525319378174533   </td><td>115.7445744189626     </td><td>0.9946966338309989  </td><td>3.2185008465445586</td><td>0.5312682776666153</td><td>10.491800831152837</td><td>5.818377712790521 </td><td>      </td></tr>\n",
       "<tr><td>maxs   </td><td>15.9              </td><td>1.58               </td><td>1.66               </td><td>65.8             </td><td>0.611              </td><td>289.0                </td><td>440.0                 </td><td>1.03898             </td><td>4.01              </td><td>2.0               </td><td>14.9              </td><td>9.0               </td><td>      </td></tr>\n",
       "<tr><td>sigma  </td><td>1.2964337577998153</td><td>0.16463647408467877</td><td>0.14531786489759155</td><td>4.757803743147418</td><td>0.03503360137245907</td><td>17.749399772002498   </td><td>56.52185452263029     </td><td>0.002998673003719046</td><td>0.1607872021039876</td><td>0.1488058736144903</td><td>1.192711748870993 </td><td>0.8732552715311248</td><td>      </td></tr>\n",
       "<tr><td>zeros  </td><td>0                 </td><td>0                  </td><td>151                </td><td>0                </td><td>0                  </td><td>0                    </td><td>0                     </td><td>0                   </td><td>0                 </td><td>0                 </td><td>0                 </td><td>0                 </td><td>      </td></tr>\n",
       "<tr><td>missing</td><td>0                 </td><td>0                  </td><td>0                  </td><td>0                </td><td>0                  </td><td>0                    </td><td>0                     </td><td>0                   </td><td>0                 </td><td>0                 </td><td>0                 </td><td>0                 </td><td>0     </td></tr>\n",
       "<tr><td>0      </td><td>6.7               </td><td>0.19               </td><td>0.32               </td><td>3.7              </td><td>0.041              </td><td>26.0                 </td><td>76.0                  </td><td>0.99173             </td><td>2.9               </td><td>0.57              </td><td>10.5              </td><td>7.0               </td><td>White </td></tr>\n",
       "<tr><td>1      </td><td>6.8               </td><td>0.25               </td><td>0.27               </td><td>10.7             </td><td>0.076              </td><td>47.0                 </td><td>154.0                 </td><td>0.9967              </td><td>3.05              </td><td>0.38              </td><td>9.0               </td><td>5.0               </td><td>White </td></tr>\n",
       "<tr><td>2      </td><td>6.2               </td><td>0.15               </td><td>0.46               </td><td>1.6              </td><td>0.039              </td><td>38.0                 </td><td>123.0                 </td><td>0.993               </td><td>3.38              </td><td>0.51              </td><td>9.7               </td><td>6.0               </td><td>White </td></tr>\n",
       "<tr><td>3      </td><td>7.5               </td><td>0.5                </td><td>0.36               </td><td>6.1              </td><td>0.071              </td><td>17.0                 </td><td>102.0                 </td><td>0.9978              </td><td>3.35              </td><td>0.8               </td><td>10.5              </td><td>5.0               </td><td>Red   </td></tr>\n",
       "<tr><td>4      </td><td>6.8               </td><td>0.29               </td><td>0.56               </td><td>11.9             </td><td>0.043              </td><td>66.0                 </td><td>230.0                 </td><td>0.9972              </td><td>3.02              </td><td>0.63              </td><td>9.3               </td><td>5.0               </td><td>White </td></tr>\n",
       "<tr><td>5      </td><td>6.6               </td><td>0.38               </td><td>0.29               </td><td>2.9              </td><td>0.035              </td><td>15.0                 </td><td>101.0                 </td><td>0.98916             </td><td>3.04              </td><td>0.37              </td><td>12.5              </td><td>6.0               </td><td>White </td></tr>\n",
       "<tr><td>6      </td><td>6.8               </td><td>0.24               </td><td>0.29               </td><td>2.0              </td><td>0.044              </td><td>15.0                 </td><td>96.0                  </td><td>0.99232             </td><td>3.23              </td><td>0.64              </td><td>10.4              </td><td>8.0               </td><td>White </td></tr>\n",
       "<tr><td>7      </td><td>7.6               </td><td>0.16               </td><td>0.41               </td><td>1.9              </td><td>0.047              </td><td>27.0                 </td><td>151.0                 </td><td>0.9937              </td><td>3.2               </td><td>0.53              </td><td>10.1              </td><td>6.0               </td><td>White </td></tr>\n",
       "<tr><td>8      </td><td>6.6               </td><td>0.32               </td><td>0.47               </td><td>15.6             </td><td>0.063              </td><td>27.0                 </td><td>173.0                 </td><td>0.99872             </td><td>3.18              </td><td>0.56              </td><td>9.0               </td><td>5.0               </td><td>White </td></tr>\n",
       "<tr><td>9      </td><td>6.0               </td><td>0.17               </td><td>0.33               </td><td>6.0              </td><td>0.036              </td><td>30.0                 </td><td>111.0                 </td><td>0.99362             </td><td>3.32              </td><td>0.58              </td><td>10.1333333333333  </td><td>7.0               </td><td>White </td></tr>\n",
       "</tbody>\n",
       "</table>"
      ]
     },
     "metadata": {},
     "output_type": "display_data"
    }
   ],
   "source": [
    "df.describe()"
   ]
  },
  {
   "cell_type": "markdown",
   "metadata": {},
   "source": [
    "En el proceso de carga de datos la calidad es catalogada como un numero entero, no obstante, como vimos anteriormente, no debería ser un número entero por cuanto no hay calificaciones menores a cero o negativas, ni mayores que 10, por tanto, vamos a convertir el atributo calidad a tipo enum (factor)."
   ]
  },
  {
   "cell_type": "code",
   "execution_count": 223,
   "metadata": {},
   "outputs": [],
   "source": [
    "df['quality'] = df['quality'].asfactor()\n",
    "df['type'] = df['type'].asfactor()"
   ]
  },
  {
   "cell_type": "markdown",
   "metadata": {},
   "source": [
    "Se hace una separación del conjunto de datos cargado en conjuntos para entrenamiento y para pruebas, en este caso lo haremos en un 80/20."
   ]
  },
  {
   "cell_type": "code",
   "execution_count": 236,
   "metadata": {},
   "outputs": [],
   "source": [
    "splits = df.split_frame(ratios=[0.8],seed=1)\n",
    "train = splits[0]\n",
    "test = splits[1]"
   ]
  },
  {
   "cell_type": "markdown",
   "metadata": {},
   "source": [
    "Ahora se deben separar las características y las variables de destino. Las funciones de AutoML toman características y el objetivo en variables x & y."
   ]
  },
  {
   "cell_type": "code",
   "execution_count": 217,
   "metadata": {},
   "outputs": [],
   "source": [
    "y = \"quality\"\n",
    "x = ['fixed_acidity','volatile_acidity','citric_acid','residual_sugar',\n",
    "    'chlorides','free_sulfur_dioxide','total_sulfur_dioxide',\n",
    "    'density','pH','sulphates','alcohol']"
   ]
  },
  {
   "cell_type": "markdown",
   "metadata": {},
   "source": [
    "Una vez realizados estos pasos, es posible proceder a ejecutar el AutoML"
   ]
  },
  {
   "cell_type": "markdown",
   "metadata": {},
   "source": [
    "Es posible configurar valores para max_runtime_secs y max_models para establecer límites explícitos de tiempo o número de modelos para la ejecución. El modelo se entrenará con los parámetros proporcionados anteriormente."
   ]
  },
  {
   "cell_type": "code",
   "execution_count": 237,
   "metadata": {},
   "outputs": [
    {
     "name": "stdout",
     "output_type": "stream",
     "text": [
      "AutoML progress: |█\n",
      "22:12:54.268: AutoML: XGBoost is not available; skipping it.\n",
      "\n",
      "███████████████████████████████████████████████████████| 100%\n"
     ]
    }
   ],
   "source": [
    "aml_quality = H2OAutoML(max_runtime_secs=120, seed = 1)\n",
    "aml_quality.train(x = x, y = y, training_frame = train)"
   ]
  },
  {
   "cell_type": "markdown",
   "metadata": {},
   "source": [
    "Una vez que el modelo está entrenado, puede acceder al ranking de modelos generados (leaderboard). La tabla de clasificación almacena la instantánea de los mejores modelos. Los mejores modelos suelen ser los conjuntos apilados, ya que pueden superar fácilmente a un solo modelo entrenado."
   ]
  },
  {
   "cell_type": "code",
   "execution_count": 238,
   "metadata": {},
   "outputs": [
    {
     "data": {
      "text/html": [
       "<table>\n",
       "<thead>\n",
       "<tr><th>model_id                                           </th><th style=\"text-align: right;\">  mean_per_class_error</th><th style=\"text-align: right;\">  logloss</th><th style=\"text-align: right;\">    rmse</th><th style=\"text-align: right;\">     mse</th></tr>\n",
       "</thead>\n",
       "<tbody>\n",
       "<tr><td>StackedEnsemble_BestOfFamily_AutoML_20200330_221254</td><td style=\"text-align: right;\">              0.641472</td><td style=\"text-align: right;\"> 0.839054</td><td style=\"text-align: right;\">0.526347</td><td style=\"text-align: right;\">0.277042</td></tr>\n",
       "<tr><td>StackedEnsemble_AllModels_AutoML_20200330_221254   </td><td style=\"text-align: right;\">              0.645238</td><td style=\"text-align: right;\"> 0.839461</td><td style=\"text-align: right;\">0.52647 </td><td style=\"text-align: right;\">0.277171</td></tr>\n",
       "<tr><td>XRT_1_AutoML_20200330_221254                       </td><td style=\"text-align: right;\">              0.650474</td><td style=\"text-align: right;\"> 1.23426 </td><td style=\"text-align: right;\">0.535864</td><td style=\"text-align: right;\">0.287151</td></tr>\n",
       "<tr><td>GBM_4_AutoML_20200330_221254                       </td><td style=\"text-align: right;\">              0.651837</td><td style=\"text-align: right;\"> 0.915994</td><td style=\"text-align: right;\">0.52644 </td><td style=\"text-align: right;\">0.277139</td></tr>\n",
       "<tr><td>DRF_1_AutoML_20200330_221254                       </td><td style=\"text-align: right;\">              0.652897</td><td style=\"text-align: right;\"> 1.25597 </td><td style=\"text-align: right;\">0.534957</td><td style=\"text-align: right;\">0.286179</td></tr>\n",
       "<tr><td>GBM_3_AutoML_20200330_221254                       </td><td style=\"text-align: right;\">              0.658228</td><td style=\"text-align: right;\"> 0.91414 </td><td style=\"text-align: right;\">0.532179</td><td style=\"text-align: right;\">0.283214</td></tr>\n",
       "<tr><td>GBM_1_AutoML_20200330_221254                       </td><td style=\"text-align: right;\">              0.661544</td><td style=\"text-align: right;\"> 0.930413</td><td style=\"text-align: right;\">0.540275</td><td style=\"text-align: right;\">0.291897</td></tr>\n",
       "<tr><td>GBM_2_AutoML_20200330_221254                       </td><td style=\"text-align: right;\">              0.663732</td><td style=\"text-align: right;\"> 0.920389</td><td style=\"text-align: right;\">0.538942</td><td style=\"text-align: right;\">0.290458</td></tr>\n",
       "<tr><td>GBM_grid__1_AutoML_20200330_221254_model_1         </td><td style=\"text-align: right;\">              0.689317</td><td style=\"text-align: right;\"> 0.981804</td><td style=\"text-align: right;\">0.579317</td><td style=\"text-align: right;\">0.335609</td></tr>\n",
       "<tr><td>GBM_5_AutoML_20200330_221254                       </td><td style=\"text-align: right;\">              0.709193</td><td style=\"text-align: right;\"> 0.956556</td><td style=\"text-align: right;\">0.563023</td><td style=\"text-align: right;\">0.316995</td></tr>\n",
       "</tbody>\n",
       "</table>"
      ]
     },
     "metadata": {},
     "output_type": "display_data"
    },
    {
     "data": {
      "text/plain": []
     },
     "execution_count": 238,
     "metadata": {},
     "output_type": "execute_result"
    }
   ],
   "source": [
    "lb = aml_quality.leaderboard\n",
    "lb.head()"
   ]
  },
  {
   "cell_type": "code",
   "execution_count": 239,
   "metadata": {
    "scrolled": false
   },
   "outputs": [
    {
     "data": {
      "text/html": [
       "<table>\n",
       "<thead>\n",
       "<tr><th>model_id                                           </th><th style=\"text-align: right;\">  mean_per_class_error</th><th style=\"text-align: right;\">  logloss</th><th style=\"text-align: right;\">    rmse</th><th style=\"text-align: right;\">     mse</th></tr>\n",
       "</thead>\n",
       "<tbody>\n",
       "<tr><td>StackedEnsemble_BestOfFamily_AutoML_20200330_221254</td><td style=\"text-align: right;\">              0.641472</td><td style=\"text-align: right;\"> 0.839054</td><td style=\"text-align: right;\">0.526347</td><td style=\"text-align: right;\">0.277042</td></tr>\n",
       "<tr><td>StackedEnsemble_AllModels_AutoML_20200330_221254   </td><td style=\"text-align: right;\">              0.645238</td><td style=\"text-align: right;\"> 0.839461</td><td style=\"text-align: right;\">0.52647 </td><td style=\"text-align: right;\">0.277171</td></tr>\n",
       "<tr><td>XRT_1_AutoML_20200330_221254                       </td><td style=\"text-align: right;\">              0.650474</td><td style=\"text-align: right;\"> 1.23426 </td><td style=\"text-align: right;\">0.535864</td><td style=\"text-align: right;\">0.287151</td></tr>\n",
       "<tr><td>GBM_4_AutoML_20200330_221254                       </td><td style=\"text-align: right;\">              0.651837</td><td style=\"text-align: right;\"> 0.915994</td><td style=\"text-align: right;\">0.52644 </td><td style=\"text-align: right;\">0.277139</td></tr>\n",
       "<tr><td>DRF_1_AutoML_20200330_221254                       </td><td style=\"text-align: right;\">              0.652897</td><td style=\"text-align: right;\"> 1.25597 </td><td style=\"text-align: right;\">0.534957</td><td style=\"text-align: right;\">0.286179</td></tr>\n",
       "<tr><td>GBM_3_AutoML_20200330_221254                       </td><td style=\"text-align: right;\">              0.658228</td><td style=\"text-align: right;\"> 0.91414 </td><td style=\"text-align: right;\">0.532179</td><td style=\"text-align: right;\">0.283214</td></tr>\n",
       "<tr><td>GBM_1_AutoML_20200330_221254                       </td><td style=\"text-align: right;\">              0.661544</td><td style=\"text-align: right;\"> 0.930413</td><td style=\"text-align: right;\">0.540275</td><td style=\"text-align: right;\">0.291897</td></tr>\n",
       "<tr><td>GBM_2_AutoML_20200330_221254                       </td><td style=\"text-align: right;\">              0.663732</td><td style=\"text-align: right;\"> 0.920389</td><td style=\"text-align: right;\">0.538942</td><td style=\"text-align: right;\">0.290458</td></tr>\n",
       "<tr><td>GBM_grid__1_AutoML_20200330_221254_model_1         </td><td style=\"text-align: right;\">              0.689317</td><td style=\"text-align: right;\"> 0.981804</td><td style=\"text-align: right;\">0.579317</td><td style=\"text-align: right;\">0.335609</td></tr>\n",
       "<tr><td>GBM_5_AutoML_20200330_221254                       </td><td style=\"text-align: right;\">              0.709193</td><td style=\"text-align: right;\"> 0.956556</td><td style=\"text-align: right;\">0.563023</td><td style=\"text-align: right;\">0.316995</td></tr>\n",
       "<tr><td>GBM_grid__1_AutoML_20200330_221254_model_2         </td><td style=\"text-align: right;\">              0.76913 </td><td style=\"text-align: right;\"> 1.93315 </td><td style=\"text-align: right;\">0.855299</td><td style=\"text-align: right;\">0.731536</td></tr>\n",
       "<tr><td>DeepLearning_1_AutoML_20200330_221254              </td><td style=\"text-align: right;\">              0.769944</td><td style=\"text-align: right;\"> 1.07413 </td><td style=\"text-align: right;\">0.61048 </td><td style=\"text-align: right;\">0.372685</td></tr>\n",
       "<tr><td>GLM_1_AutoML_20200330_221254                       </td><td style=\"text-align: right;\">              0.7825  </td><td style=\"text-align: right;\"> 1.07671 </td><td style=\"text-align: right;\">0.610571</td><td style=\"text-align: right;\">0.372797</td></tr>\n",
       "<tr><td>GBM_grid__1_AutoML_20200330_221254_model_3         </td><td style=\"text-align: right;\">              0.791018</td><td style=\"text-align: right;\"> 1.81531 </td><td style=\"text-align: right;\">0.836054</td><td style=\"text-align: right;\">0.698987</td></tr>\n",
       "</tbody>\n",
       "</table>"
      ]
     },
     "metadata": {},
     "output_type": "display_data"
    },
    {
     "data": {
      "text/plain": []
     },
     "execution_count": 239,
     "metadata": {},
     "output_type": "execute_result"
    }
   ],
   "source": [
    "lb.head(rows=lb.nrows) # Muestra la tabla completa"
   ]
  },
  {
   "cell_type": "markdown",
   "metadata": {},
   "source": [
    "Si se desean ver mas detalles del mejor algoritmo seleccionado por AutoML, está almacenado el dato leader del AutoML"
   ]
  },
  {
   "cell_type": "code",
   "execution_count": 243,
   "metadata": {},
   "outputs": [
    {
     "name": "stdout",
     "output_type": "stream",
     "text": [
      "Model Details\n",
      "=============\n",
      "H2OStackedEnsembleEstimator :  Stacked Ensemble\n",
      "Model Key:  StackedEnsemble_BestOfFamily_AutoML_20200330_221254\n",
      "\n",
      "No model summary for this model\n",
      "\n",
      "ModelMetricsMultinomialGLM: stackedensemble\n",
      "** Reported on train data. **\n",
      "\n",
      "MSE: 0.029041400594948502\n",
      "RMSE: 0.17041537663881304\n",
      "\n",
      "ModelMetricsMultinomialGLM: stackedensemble\n",
      "** Reported on cross-validation data. **\n",
      "\n",
      "MSE: 0.2770416635886352\n",
      "RMSE: 0.5263474741923202\n"
     ]
    },
    {
     "data": {
      "text/plain": []
     },
     "execution_count": 243,
     "metadata": {},
     "output_type": "execute_result"
    }
   ],
   "source": [
    "aml_quality.leader"
   ]
  },
  {
   "cell_type": "markdown",
   "metadata": {},
   "source": [
    "Ya que AutoML escogió el mejor modelo, es posible hacer la predicción utilizando el conjunto de datos de pruebas. Se imprimen los primeros registros para validar que la primer columna es la predicción."
   ]
  },
  {
   "cell_type": "code",
   "execution_count": 240,
   "metadata": {
    "scrolled": true
   },
   "outputs": [
    {
     "name": "stdout",
     "output_type": "stream",
     "text": [
      "stackedensemble prediction progress: |████████████████████████████████████| 100%\n"
     ]
    },
    {
     "data": {
      "text/html": [
       "<table>\n",
       "<thead>\n",
       "<tr><th style=\"text-align: right;\">  predict</th><th style=\"text-align: right;\">        p3</th><th style=\"text-align: right;\">        p4</th><th style=\"text-align: right;\">       p5</th><th style=\"text-align: right;\">       p6</th><th style=\"text-align: right;\">        p7</th><th style=\"text-align: right;\">        p8</th><th style=\"text-align: right;\">         p9</th></tr>\n",
       "</thead>\n",
       "<tbody>\n",
       "<tr><td style=\"text-align: right;\">        6</td><td style=\"text-align: right;\">0.00550578</td><td style=\"text-align: right;\">0.0143641 </td><td style=\"text-align: right;\">0.10683  </td><td style=\"text-align: right;\">0.653774 </td><td style=\"text-align: right;\">0.199834  </td><td style=\"text-align: right;\">0.0187241 </td><td style=\"text-align: right;\">0.000967695</td></tr>\n",
       "<tr><td style=\"text-align: right;\">        7</td><td style=\"text-align: right;\">0.00249721</td><td style=\"text-align: right;\">0.00762134</td><td style=\"text-align: right;\">0.0146471</td><td style=\"text-align: right;\">0.120107 </td><td style=\"text-align: right;\">0.828494  </td><td style=\"text-align: right;\">0.0262037 </td><td style=\"text-align: right;\">0.000429278</td></tr>\n",
       "<tr><td style=\"text-align: right;\">        5</td><td style=\"text-align: right;\">0.00513231</td><td style=\"text-align: right;\">0.291305  </td><td style=\"text-align: right;\">0.500622 </td><td style=\"text-align: right;\">0.179614 </td><td style=\"text-align: right;\">0.0127784 </td><td style=\"text-align: right;\">0.00979341</td><td style=\"text-align: right;\">0.000755878</td></tr>\n",
       "<tr><td style=\"text-align: right;\">        6</td><td style=\"text-align: right;\">0.00899761</td><td style=\"text-align: right;\">0.113425  </td><td style=\"text-align: right;\">0.105556 </td><td style=\"text-align: right;\">0.399214 </td><td style=\"text-align: right;\">0.342916  </td><td style=\"text-align: right;\">0.0285308 </td><td style=\"text-align: right;\">0.00136046 </td></tr>\n",
       "<tr><td style=\"text-align: right;\">        7</td><td style=\"text-align: right;\">0.00677997</td><td style=\"text-align: right;\">0.0171191 </td><td style=\"text-align: right;\">0.0733468</td><td style=\"text-align: right;\">0.393637 </td><td style=\"text-align: right;\">0.448766  </td><td style=\"text-align: right;\">0.0591661 </td><td style=\"text-align: right;\">0.00118468 </td></tr>\n",
       "<tr><td style=\"text-align: right;\">        5</td><td style=\"text-align: right;\">0.00149207</td><td style=\"text-align: right;\">0.0171721 </td><td style=\"text-align: right;\">0.909329 </td><td style=\"text-align: right;\">0.0643555</td><td style=\"text-align: right;\">0.00426467</td><td style=\"text-align: right;\">0.00313107</td><td style=\"text-align: right;\">0.000255801</td></tr>\n",
       "<tr><td style=\"text-align: right;\">        6</td><td style=\"text-align: right;\">0.00801107</td><td style=\"text-align: right;\">0.0207083 </td><td style=\"text-align: right;\">0.130577 </td><td style=\"text-align: right;\">0.608044 </td><td style=\"text-align: right;\">0.155745  </td><td style=\"text-align: right;\">0.075516  </td><td style=\"text-align: right;\">0.00139947 </td></tr>\n",
       "<tr><td style=\"text-align: right;\">        6</td><td style=\"text-align: right;\">0.00413516</td><td style=\"text-align: right;\">0.0123673 </td><td style=\"text-align: right;\">0.120478 </td><td style=\"text-align: right;\">0.807058 </td><td style=\"text-align: right;\">0.0449067 </td><td style=\"text-align: right;\">0.0103286 </td><td style=\"text-align: right;\">0.00072581 </td></tr>\n",
       "<tr><td style=\"text-align: right;\">        5</td><td style=\"text-align: right;\">0.00422543</td><td style=\"text-align: right;\">0.0356627 </td><td style=\"text-align: right;\">0.646204 </td><td style=\"text-align: right;\">0.28078  </td><td style=\"text-align: right;\">0.0230575 </td><td style=\"text-align: right;\">0.00937161</td><td style=\"text-align: right;\">0.000698296</td></tr>\n",
       "<tr><td style=\"text-align: right;\">        7</td><td style=\"text-align: right;\">0.00200647</td><td style=\"text-align: right;\">0.00503386</td><td style=\"text-align: right;\">0.0115676</td><td style=\"text-align: right;\">0.11273  </td><td style=\"text-align: right;\">0.853354  </td><td style=\"text-align: right;\">0.0149555 </td><td style=\"text-align: right;\">0.000352565</td></tr>\n",
       "</tbody>\n",
       "</table>"
      ]
     },
     "metadata": {},
     "output_type": "display_data"
    },
    {
     "data": {
      "text/plain": []
     },
     "execution_count": 240,
     "metadata": {},
     "output_type": "execute_result"
    }
   ],
   "source": [
    "pred = aml_quality.predict(test)\n",
    "pred.head()"
   ]
  },
  {
   "cell_type": "markdown",
   "metadata": {},
   "source": [
    "Si se quiere evaluar las predicciones versus el conjunto de datos de pruebas, se puede realizar de la siguiente forma, en la cual muestra que es un modelo no tan certero, tampoco siendo un pésimo modelo."
   ]
  },
  {
   "cell_type": "code",
   "execution_count": 252,
   "metadata": {
    "scrolled": true
   },
   "outputs": [
    {
     "data": {
      "text/plain": [
       "[0.6772445820433437]"
      ]
     },
     "execution_count": 252,
     "metadata": {},
     "output_type": "execute_result"
    }
   ],
   "source": [
    "(pred[\"predict\"] == test[\"quality\"]).mean()"
   ]
  },
  {
   "cell_type": "markdown",
   "metadata": {},
   "source": [
    "### Modelo de predicción de tipo de vino"
   ]
  },
  {
   "cell_type": "markdown",
   "metadata": {},
   "source": [
    "Se procede a realizar prácticamente los mismos pasos anteriores para generar un modelo capaz de predecir el tipo de vino (tinto o blanco), basado en sus características fisicoquímicas"
   ]
  },
  {
   "cell_type": "markdown",
   "metadata": {},
   "source": [
    "En este caso, la variable dependiente o a predecir para los siguientes modelos será el tipo"
   ]
  },
  {
   "cell_type": "code",
   "execution_count": 253,
   "metadata": {},
   "outputs": [],
   "source": [
    "depVarTipo = datos_originales['type']"
   ]
  },
  {
   "cell_type": "markdown",
   "metadata": {},
   "source": [
    "Las variables predictoras se mantienen y la variable a predecir ya se estableció, por tanto, vamos a establecer los conjuntos de datos (entrenamiento X & Y, pruebas X & Y, 70/30)"
   ]
  },
  {
   "cell_type": "code",
   "execution_count": 254,
   "metadata": {},
   "outputs": [],
   "source": [
    "x_train, x_test, y_train, y_test = train_test_split(caracteristicas, \n",
    "                                                    depVarTipo, test_size=0.3, random_state=101)"
   ]
  },
  {
   "cell_type": "markdown",
   "metadata": {},
   "source": [
    "Los algoritmos a utilizar serán los mismos:"
   ]
  },
  {
   "cell_type": "code",
   "execution_count": 255,
   "metadata": {},
   "outputs": [],
   "source": [
    "type_modelRF = RandomForestClassifier(n_estimators=1000) #random forest\n",
    "type_modelLR = LogisticRegression(max_iter=100000) #regresion logistica\n",
    "type_modelGNB = GaussianNB() #Gaussian Naive Bayes"
   ]
  },
  {
   "cell_type": "markdown",
   "metadata": {},
   "source": [
    "Ahora se entrenan los modelos inicializados anteriormente:"
   ]
  },
  {
   "cell_type": "code",
   "execution_count": 256,
   "metadata": {},
   "outputs": [
    {
     "data": {
      "text/plain": [
       "RandomForestClassifier(bootstrap=True, ccp_alpha=0.0, class_weight=None,\n",
       "                       criterion='gini', max_depth=None, max_features='auto',\n",
       "                       max_leaf_nodes=None, max_samples=None,\n",
       "                       min_impurity_decrease=0.0, min_impurity_split=None,\n",
       "                       min_samples_leaf=1, min_samples_split=2,\n",
       "                       min_weight_fraction_leaf=0.0, n_estimators=1000,\n",
       "                       n_jobs=None, oob_score=False, random_state=None,\n",
       "                       verbose=0, warm_start=False)"
      ]
     },
     "execution_count": 256,
     "metadata": {},
     "output_type": "execute_result"
    }
   ],
   "source": [
    "type_modelRF.fit(x_train,y_train)"
   ]
  },
  {
   "cell_type": "code",
   "execution_count": 257,
   "metadata": {},
   "outputs": [
    {
     "data": {
      "text/plain": [
       "LogisticRegression(C=1.0, class_weight=None, dual=False, fit_intercept=True,\n",
       "                   intercept_scaling=1, l1_ratio=None, max_iter=100000,\n",
       "                   multi_class='auto', n_jobs=None, penalty='l2',\n",
       "                   random_state=None, solver='lbfgs', tol=0.0001, verbose=0,\n",
       "                   warm_start=False)"
      ]
     },
     "execution_count": 257,
     "metadata": {},
     "output_type": "execute_result"
    }
   ],
   "source": [
    "type_modelLR.fit(x_train,y_train)"
   ]
  },
  {
   "cell_type": "code",
   "execution_count": 258,
   "metadata": {},
   "outputs": [
    {
     "data": {
      "text/plain": [
       "GaussianNB(priors=None, var_smoothing=1e-09)"
      ]
     },
     "execution_count": 258,
     "metadata": {},
     "output_type": "execute_result"
    }
   ],
   "source": [
    "type_modelGNB.fit(x_train,y_train)"
   ]
  },
  {
   "cell_type": "markdown",
   "metadata": {},
   "source": [
    "Una vez desarrollados los modelos con los conjuntos de datos originales, vamos a evaluar los modelos desarrollados con los conjuntos de datos originales:"
   ]
  },
  {
   "cell_type": "code",
   "execution_count": 259,
   "metadata": {},
   "outputs": [
    {
     "data": {
      "text/plain": [
       "0.9997800747745766"
      ]
     },
     "execution_count": 259,
     "metadata": {},
     "output_type": "execute_result"
    }
   ],
   "source": [
    "type_modelRF.score(x_train,y_train)"
   ]
  },
  {
   "cell_type": "code",
   "execution_count": 260,
   "metadata": {},
   "outputs": [
    {
     "data": {
      "text/plain": [
       "0.984605234220365"
      ]
     },
     "execution_count": 260,
     "metadata": {},
     "output_type": "execute_result"
    }
   ],
   "source": [
    "type_modelLR.score(x_train,y_train)"
   ]
  },
  {
   "cell_type": "code",
   "execution_count": 261,
   "metadata": {},
   "outputs": [
    {
     "data": {
      "text/plain": [
       "0.9703100945678469"
      ]
     },
     "execution_count": 261,
     "metadata": {},
     "output_type": "execute_result"
    }
   ],
   "source": [
    "type_modelGNB.score(x_train,y_train)"
   ]
  },
  {
   "cell_type": "markdown",
   "metadata": {},
   "source": [
    "Los 3 modelos con los el conjunto de datos originales tienen una calificación muy buena, lo cual hace pensar o que realmente es muy fácil predecir si un vino es tinto o blanco basado en sus mediciones o, que existe un sobre ajuste"
   ]
  },
  {
   "cell_type": "markdown",
   "metadata": {},
   "source": [
    "Ahora vamos a realizar las predicciones y validar si realmente el modelo es bueno o es simplemente un sobre ajuste:"
   ]
  },
  {
   "cell_type": "code",
   "execution_count": 262,
   "metadata": {},
   "outputs": [
    {
     "name": "stdout",
     "output_type": "stream",
     "text": [
      "Modelo Random Forest - Datos Originales\n",
      "[[ 467    7]\n",
      " [   1 1475]]\n",
      "Precisión 0.9958974358974358\n"
     ]
    }
   ],
   "source": [
    "predRFOrigType = type_modelRF.predict(x_test)\n",
    "cmOrigRFType = confusion_matrix(y_test, predRFOrigType)\n",
    "print(\"Modelo Random Forest - Datos Originales\")\n",
    "print(cmOrigRFType)\n",
    "print('Precisión', accuracy_score(y_test, predRFOrigType))"
   ]
  },
  {
   "cell_type": "code",
   "execution_count": 263,
   "metadata": {},
   "outputs": [
    {
     "name": "stdout",
     "output_type": "stream",
     "text": [
      "Modelo Logistic Regression - Datos Originales\n",
      "[[ 459   15]\n",
      " [   9 1467]]\n",
      "Precisión 0.9876923076923076\n"
     ]
    }
   ],
   "source": [
    "predLROrigType = type_modelLR.predict(x_test)\n",
    "cmOrigLRType = confusion_matrix(y_test, predLROrigType)\n",
    "print(\"Modelo Logistic Regression - Datos Originales\")\n",
    "print(cmOrigLRType)\n",
    "print('Precisión', accuracy_score(y_test, predLROrigType))"
   ]
  },
  {
   "cell_type": "code",
   "execution_count": 264,
   "metadata": {},
   "outputs": [
    {
     "name": "stdout",
     "output_type": "stream",
     "text": [
      "Modelo Gaussian Naive Bayes - Datos Originales\n",
      "[[ 463   11]\n",
      " [  42 1434]]\n",
      "Precisión 0.9728205128205129\n"
     ]
    }
   ],
   "source": [
    "predGNBOrigType = type_modelGNB.predict(x_test)\n",
    "cmOrigGNBType = confusion_matrix(y_test, predGNBOrigType)\n",
    "print(\"Modelo Gaussian Naive Bayes - Datos Originales\")\n",
    "print(cmOrigGNBType)\n",
    "print('Precisión', accuracy_score(y_test, predGNBOrigType))"
   ]
  },
  {
   "cell_type": "markdown",
   "metadata": {},
   "source": [
    "Como se puede apreciar, también las predicciones muestran resultados muy favorables para la determinación del tipo de vino, parece que realmente los modelos desarrollados cumplen con la expectativa y sus resultados no obedecen a un sobre ajuste"
   ]
  },
  {
   "cell_type": "markdown",
   "metadata": {},
   "source": [
    "En aras del ejercicio aplicaremos PCA para analizar el comportamiento, no obstante, los modelos desarrollados con el conjunto de datos original presentan un excelente comportamiento y no considero que puedan mejorar aplicando PCA."
   ]
  },
  {
   "cell_type": "markdown",
   "metadata": {},
   "source": [
    "#### PCA en modelo de predicción de tipo de vino"
   ]
  },
  {
   "cell_type": "code",
   "execution_count": 265,
   "metadata": {},
   "outputs": [],
   "source": [
    "#normalizamos los datos\n",
    "scaler=StandardScaler()\n",
    "dftPCA = datos_originales\n",
    "dftPCA = dfPCA.drop(['type'], axis=1) # quito la variable dependiente \"Y\"\n",
    "X_train_pca_t = scaler.fit_transform(x_train)\n",
    "X_test_pca_t = scaler.transform(x_test) # se escalan los datos y se normalizan"
   ]
  },
  {
   "cell_type": "code",
   "execution_count": 266,
   "metadata": {},
   "outputs": [],
   "source": [
    "#Instanciamos objeto PCA y aplicamos\n",
    "pca=PCA(.90) #para lograr el 90%\n",
    "X_train_pca_t = pca.fit_transform(X_train_pca_t)\n",
    "X_test_pca_t = pca.transform(X_test_pca_t)"
   ]
  },
  {
   "cell_type": "code",
   "execution_count": 267,
   "metadata": {},
   "outputs": [
    {
     "name": "stdout",
     "output_type": "stream",
     "text": [
      "X_train_pca Shape (4547, 8)\n",
      "[0.2711439  0.22756852 0.14199699 0.08961923 0.06538821 0.05572947\n",
      " 0.04813865 0.04554102]\n",
      "suma: 0.8995849821267257\n"
     ]
    }
   ],
   "source": [
    "print(\"X_train_pca Shape\", X_train_pca_t.shape)\n",
    "expl = pca.explained_variance_ratio_\n",
    "print(expl)\n",
    "print('suma:',sum(expl[0:7]))\n",
    "#Vemos que con 8 componentes tenemos casi el 90% de varianza explicada"
   ]
  },
  {
   "cell_type": "code",
   "execution_count": 268,
   "metadata": {},
   "outputs": [
    {
     "data": {
      "image/png": "[encoded data removed]",
      "text/plain": [
       "<Figure size 648x504 with 1 Axes>"
      ]
     },
     "metadata": {},
     "output_type": "display_data"
    }
   ],
   "source": [
    "#graficamos el acumulado de varianza explicada en las nuevas dimensiones\n",
    "plt.plot(np.cumsum(pca.explained_variance_ratio_))\n",
    "plt.xlabel('cantidad de componentes')\n",
    "plt.ylabel('varianza explicativa acumulativa')\n",
    "plt.show()"
   ]
  },
  {
   "cell_type": "markdown",
   "metadata": {},
   "source": [
    "Entrenamiento y predicciones PCA - Random Forest"
   ]
  },
  {
   "cell_type": "code",
   "execution_count": 269,
   "metadata": {},
   "outputs": [],
   "source": [
    "rfTClassifierPCA = RandomForestClassifier()#inicializacion\n",
    "rfTClassifierPCA.fit(X_train_pca_t, y_train)#entrenamiento\n",
    "y_pred_pca_t = rfTClassifierPCA.predict(X_test_pca_t)#prediccion"
   ]
  },
  {
   "cell_type": "markdown",
   "metadata": {},
   "source": [
    "Evaluación del desempeño modelo PCA - Random Forest"
   ]
  },
  {
   "cell_type": "code",
   "execution_count": 270,
   "metadata": {
    "scrolled": true
   },
   "outputs": [
    {
     "name": "stdout",
     "output_type": "stream",
     "text": [
      "Modelo Random Forest - PCA\n",
      "[[ 467    7]\n",
      " [  10 1466]]\n",
      "Precisión 0.9912820512820513\n"
     ]
    }
   ],
   "source": [
    "RFTcmPCA = confusion_matrix(y_test, y_pred_pca_t)\n",
    "print(\"Modelo Random Forest - PCA\")\n",
    "print(RFTcmPCA)\n",
    "print('Precisión', accuracy_score(y_test, y_pred_pca_t))"
   ]
  },
  {
   "cell_type": "markdown",
   "metadata": {},
   "source": [
    "Entrenamiento y predicciones PCA - Logistic Regression"
   ]
  },
  {
   "cell_type": "code",
   "execution_count": 272,
   "metadata": {},
   "outputs": [],
   "source": [
    "lrTClassifierPCA = LogisticRegression(max_iter=100000)#inicializacion\n",
    "lrTClassifierPCA.fit(X_train_pca_t, y_train)#entrenamiento\n",
    "y_pred_pca_t = lrTClassifierPCA.predict(X_test_pca_t)#prediccion"
   ]
  },
  {
   "cell_type": "markdown",
   "metadata": {},
   "source": [
    "Evaluación del desempeño modelo PCA - Logistic Regression"
   ]
  },
  {
   "cell_type": "code",
   "execution_count": 273,
   "metadata": {},
   "outputs": [
    {
     "name": "stdout",
     "output_type": "stream",
     "text": [
      "Modelo Logistic Regression - PCA\n",
      "[[ 464   10]\n",
      " [   8 1468]]\n",
      "Precisión 0.9907692307692307\n"
     ]
    }
   ],
   "source": [
    "LRTcmPCA = confusion_matrix(y_test, y_pred_pca_t)\n",
    "print(\"Modelo Logistic Regression - PCA\")\n",
    "print(LRTcmPCA)\n",
    "print('Precisión', accuracy_score(y_test, y_pred_pca_t))"
   ]
  },
  {
   "cell_type": "markdown",
   "metadata": {},
   "source": [
    "Entrenamiento y predicciones PCA - Gaussian Naive Vayes"
   ]
  },
  {
   "cell_type": "code",
   "execution_count": 275,
   "metadata": {},
   "outputs": [],
   "source": [
    "gnbTClassifierPCA = GaussianNB()#inicializacion\n",
    "gnbTClassifierPCA.fit(X_train_pca_t, y_train)#entrenamiento\n",
    "y_pred_pca_t = gnbTClassifierPCA.predict(X_test_pca_t)#prediccion"
   ]
  },
  {
   "cell_type": "markdown",
   "metadata": {},
   "source": [
    "Evaluación del desempeño modelo PCA - Gaussian Naive Bayes"
   ]
  },
  {
   "cell_type": "code",
   "execution_count": 276,
   "metadata": {
    "scrolled": true
   },
   "outputs": [
    {
     "name": "stdout",
     "output_type": "stream",
     "text": [
      "Modelo Gaussian Naive Bayes - PCA\n",
      "[[ 451   23]\n",
      " [  20 1456]]\n",
      "Precisión 0.977948717948718\n"
     ]
    }
   ],
   "source": [
    "GNVTcmPCA = confusion_matrix(y_test, y_pred_pca_t)\n",
    "print(\"Modelo Gaussian Naive Bayes - PCA\")\n",
    "print(GNVTcmPCA)\n",
    "print('Precisión', accuracy_score(y_test, y_pred_pca_t))"
   ]
  },
  {
   "cell_type": "markdown",
   "metadata": {},
   "source": [
    "Como se habia mencionado anteriormente, difícilmente PCA podía mejorar la precisión. Pero si es importante notar como tampoco disminuyó la precisión utilizando menos atributos. Por último, en este caso el rendimiento no se ve tan mejorado considerando que son muy pocos los atributos."
   ]
  },
  {
   "cell_type": "markdown",
   "metadata": {},
   "source": [
    "Al tener tan buenos resultados tanto con el conjunto de datos originales como con PCA es innecesario aplicar RFE. Si vamos a aplicar AutoML para ver si existen mejores algoritmos a utiliziar que los utilizados manualmente."
   ]
  },
  {
   "cell_type": "markdown",
   "metadata": {},
   "source": [
    "#### AutoML en predicción del tipo de vino"
   ]
  },
  {
   "cell_type": "markdown",
   "metadata": {},
   "source": [
    "Para este caso, volveremos a utilizar AutoML para desarrollar un modelo óptimo para predecir el tipo de vino en base a sus características fisicoquímicas. Vamos a reutilizar el conjunto de datos cargado anteriormente y solo vamos a cambiar la variable a predecir. Es imporatante recalcar que este ejercicio en términos de AutoML es diferente al anterior, cuando intentamos predecir la calidad del vino hicimos una clasificación múltiple (diferentes calidades de vino), mientras en este caso vamos a hacer una clasificación binaria (solo tinto o blanco). Esto lo veremos reflejado en las estadísticas que AutoML presenta en el ranking de modelos."
   ]
  },
  {
   "cell_type": "markdown",
   "metadata": {},
   "source": [
    "Establecemos nuevamente las variables predictoras (X) y la variable dependiente o a predecir (Y)"
   ]
  },
  {
   "cell_type": "code",
   "execution_count": 277,
   "metadata": {},
   "outputs": [],
   "source": [
    "y = \"type\"\n",
    "x = ['fixed_acidity','volatile_acidity','citric_acid','residual_sugar',\n",
    "    'chlorides','free_sulfur_dioxide','total_sulfur_dioxide',\n",
    "    'density','pH','sulphates','alcohol']"
   ]
  },
  {
   "cell_type": "markdown",
   "metadata": {},
   "source": [
    "Estamos listos para utilizar el AutoML, se hará de la misma forma que se hizo anteriormente"
   ]
  },
  {
   "cell_type": "code",
   "execution_count": 278,
   "metadata": {},
   "outputs": [
    {
     "name": "stdout",
     "output_type": "stream",
     "text": [
      "AutoML progress: |█\n",
      "19:09:41.922: AutoML: XGBoost is not available; skipping it.\n",
      "\n",
      "█████████████████Failed polling AutoML progress log: [WinError 32] El proceso no tiene acceso al archivo porque está siendo utilizado por otro proceso: 'C:\\\\Users\\\\Marco\\\\AppData\\\\Local\\\\Temp\\\\tmpmkrx0mnm.csv'\n",
      "██████████████████████████████████████| 100%\n"
     ]
    }
   ],
   "source": [
    "aml_type = H2OAutoML(max_runtime_secs=120, seed = 1)\n",
    "aml_type.train(x = x, y = y, training_frame = train)"
   ]
  },
  {
   "cell_type": "markdown",
   "metadata": {},
   "source": [
    "Una vez que el modelo está entrenado, puede acceder al ranking de modelos generados (leaderboard)."
   ]
  },
  {
   "cell_type": "code",
   "execution_count": 279,
   "metadata": {},
   "outputs": [
    {
     "data": {
      "text/html": [
       "<table>\n",
       "<thead>\n",
       "<tr><th>model_id                                           </th><th style=\"text-align: right;\">     auc</th><th style=\"text-align: right;\">  logloss</th><th style=\"text-align: right;\">   aucpr</th><th style=\"text-align: right;\">  mean_per_class_error</th><th style=\"text-align: right;\">     rmse</th><th style=\"text-align: right;\">       mse</th></tr>\n",
       "</thead>\n",
       "<tbody>\n",
       "<tr><td>GBM_4_AutoML_20200331_190941                       </td><td style=\"text-align: right;\">0.998982</td><td style=\"text-align: right;\">0.0224611</td><td style=\"text-align: right;\">0.891345</td><td style=\"text-align: right;\">            0.00780088</td><td style=\"text-align: right;\">0.0668684</td><td style=\"text-align: right;\">0.00447139</td></tr>\n",
       "<tr><td>GBM_2_AutoML_20200331_190941                       </td><td style=\"text-align: right;\">0.998928</td><td style=\"text-align: right;\">0.0224968</td><td style=\"text-align: right;\">0.850599</td><td style=\"text-align: right;\">            0.00766467</td><td style=\"text-align: right;\">0.0668284</td><td style=\"text-align: right;\">0.00446603</td></tr>\n",
       "<tr><td>GBM_1_AutoML_20200331_190941                       </td><td style=\"text-align: right;\">0.998889</td><td style=\"text-align: right;\">0.02464  </td><td style=\"text-align: right;\">0.986052</td><td style=\"text-align: right;\">            0.00936461</td><td style=\"text-align: right;\">0.0708422</td><td style=\"text-align: right;\">0.00501862</td></tr>\n",
       "<tr><td>GBM_3_AutoML_20200331_190941                       </td><td style=\"text-align: right;\">0.998878</td><td style=\"text-align: right;\">0.0238277</td><td style=\"text-align: right;\">0.934883</td><td style=\"text-align: right;\">            0.00831031</td><td style=\"text-align: right;\">0.0702081</td><td style=\"text-align: right;\">0.00492918</td></tr>\n",
       "<tr><td>GBM_grid__1_AutoML_20200331_190941_model_1         </td><td style=\"text-align: right;\">0.998552</td><td style=\"text-align: right;\">0.023686 </td><td style=\"text-align: right;\">0.986671</td><td style=\"text-align: right;\">            0.00831917</td><td style=\"text-align: right;\">0.0678611</td><td style=\"text-align: right;\">0.00460513</td></tr>\n",
       "<tr><td>GBM_5_AutoML_20200331_190941                       </td><td style=\"text-align: right;\">0.99851 </td><td style=\"text-align: right;\">0.021844 </td><td style=\"text-align: right;\">0.823327</td><td style=\"text-align: right;\">            0.0097644 </td><td style=\"text-align: right;\">0.0678272</td><td style=\"text-align: right;\">0.00460053</td></tr>\n",
       "<tr><td>XRT_1_AutoML_20200331_190941                       </td><td style=\"text-align: right;\">0.9977  </td><td style=\"text-align: right;\">0.0544641</td><td style=\"text-align: right;\">0.20136 </td><td style=\"text-align: right;\">            0.00895595</td><td style=\"text-align: right;\">0.0805789</td><td style=\"text-align: right;\">0.00649296</td></tr>\n",
       "<tr><td>StackedEnsemble_BestOfFamily_AutoML_20200331_190941</td><td style=\"text-align: right;\">0.997462</td><td style=\"text-align: right;\">0.0208785</td><td style=\"text-align: right;\">0.916943</td><td style=\"text-align: right;\">            0.00740995</td><td style=\"text-align: right;\">0.0632818</td><td style=\"text-align: right;\">0.00400458</td></tr>\n",
       "<tr><td>StackedEnsemble_AllModels_AutoML_20200331_190941   </td><td style=\"text-align: right;\">0.997459</td><td style=\"text-align: right;\">0.0212116</td><td style=\"text-align: right;\">0.985785</td><td style=\"text-align: right;\">            0.0079371 </td><td style=\"text-align: right;\">0.0631953</td><td style=\"text-align: right;\">0.00399365</td></tr>\n",
       "<tr><td>DRF_1_AutoML_20200331_190941                       </td><td style=\"text-align: right;\">0.997197</td><td style=\"text-align: right;\">0.0607972</td><td style=\"text-align: right;\">0.264908</td><td style=\"text-align: right;\">            0.0102738 </td><td style=\"text-align: right;\">0.0820769</td><td style=\"text-align: right;\">0.00673662</td></tr>\n",
       "</tbody>\n",
       "</table>"
      ]
     },
     "metadata": {},
     "output_type": "display_data"
    },
    {
     "data": {
      "text/plain": []
     },
     "execution_count": 279,
     "metadata": {},
     "output_type": "execute_result"
    }
   ],
   "source": [
    "lbT = aml_type.leaderboard\n",
    "lbT.head()"
   ]
  },
  {
   "cell_type": "markdown",
   "metadata": {},
   "source": [
    "Como se puede observar y se mencionó anteriormente, al ser una clasificación binaria la métrica utilizada por AutoML para puntuar los modelos es el AUC."
   ]
  },
  {
   "cell_type": "markdown",
   "metadata": {},
   "source": [
    "Para entender que es el AUC, primero hay que entender la curva ROC (curva de característica operativa del recepto). Sin entrar en mucho detalle, la curva ROC es un gráfico que muestra el rendimiento de un modelo de clasificación en todos los umbrales de clasificación. Esta curva representa dos parámetros:<br>\n",
    "1. Tasa de verdaderos positivos\n",
    "2. Tasa de falsos positivos\n",
    "<br>\n",
    "<br>\n",
    "Ahora, volviendo a la métrica utilizada por AutoML, AUC significa \"área bajo la curva ROC\". Esto significa que el AUC mide toda el área bidimensional por debajo de la curva ROC completa.<br>\n",
    "Una forma de interpretar el AUC es como la probabilidad de que el modelo clasifique un ejemplo positivo aleatorio más alto que un ejemplo negativo aleatorio.<br>\n",
    "El AUC oscila en valor del 0 al 1. Un modelo cuyas predicciones son un 100% incorrectas tiene un AUC de 0; otro cuyas predicciones son un 100% correctas tiene un AUC de 1. De esta forma podemos decir que entre mayor sea el AUC menos probabilidad de \"equivocarse\" tendrá el modelo."
   ]
  },
  {
   "cell_type": "markdown",
   "metadata": {},
   "source": [
    "Vamos a ver los detalles del mejor algoritmo seleccionado por AutoML, está almacenado el dato leader del AutoML"
   ]
  },
  {
   "cell_type": "code",
   "execution_count": 280,
   "metadata": {
    "scrolled": false
   },
   "outputs": [
    {
     "name": "stdout",
     "output_type": "stream",
     "text": [
      "Model Details\n",
      "=============\n",
      "H2OGradientBoostingEstimator :  Gradient Boosting Machine\n",
      "Model Key:  GBM_4_AutoML_20200331_190941\n",
      "\n",
      "\n",
      "Model Summary: \n"
     ]
    },
    {
     "data": {
      "text/html": [
       "<div>\n",
       "<style scoped>\n",
       "    .dataframe tbody tr th:only-of-type {\n",
       "        vertical-align: middle;\n",
       "    }\n",
       "\n",
       "    .dataframe tbody tr th {\n",
       "        vertical-align: top;\n",
       "    }\n",
       "\n",
       "    .dataframe thead th {\n",
       "        text-align: right;\n",
       "    }\n",
       "</style>\n",
       "<table border=\"1\" class=\"dataframe\">\n",
       "  <thead>\n",
       "    <tr style=\"text-align: right;\">\n",
       "      <th></th>\n",
       "      <th></th>\n",
       "      <th>number_of_trees</th>\n",
       "      <th>number_of_internal_trees</th>\n",
       "      <th>model_size_in_bytes</th>\n",
       "      <th>min_depth</th>\n",
       "      <th>max_depth</th>\n",
       "      <th>mean_depth</th>\n",
       "      <th>min_leaves</th>\n",
       "      <th>max_leaves</th>\n",
       "      <th>mean_leaves</th>\n",
       "    </tr>\n",
       "  </thead>\n",
       "  <tbody>\n",
       "    <tr>\n",
       "      <td>0</td>\n",
       "      <td></td>\n",
       "      <td>93.0</td>\n",
       "      <td>93.0</td>\n",
       "      <td>93672.0</td>\n",
       "      <td>10.0</td>\n",
       "      <td>10.0</td>\n",
       "      <td>10.0</td>\n",
       "      <td>54.0</td>\n",
       "      <td>112.0</td>\n",
       "      <td>75.39785</td>\n",
       "    </tr>\n",
       "  </tbody>\n",
       "</table>\n",
       "</div>"
      ],
      "text/plain": [
       "     number_of_trees  number_of_internal_trees  model_size_in_bytes  \\\n",
       "0               93.0                      93.0              93672.0   \n",
       "\n",
       "   min_depth  max_depth  mean_depth  min_leaves  max_leaves  mean_leaves  \n",
       "0       10.0       10.0        10.0        54.0       112.0     75.39785  "
      ]
     },
     "metadata": {},
     "output_type": "display_data"
    },
    {
     "name": "stdout",
     "output_type": "stream",
     "text": [
      "\n",
      "\n",
      "ModelMetricsBinomial: gbm\n",
      "** Reported on train data. **\n",
      "\n",
      "MSE: 0.0001982470577098202\n",
      "RMSE: 0.01408002335615322\n",
      "LogLoss: 0.0009180416202988866\n",
      "Mean Per-Class Error: 0.00025471217524197787\n",
      "AUC: 0.9999996017010552\n",
      "AUCPR: 0.9880283980400764\n",
      "Gini: 0.9999992034021103\n",
      "\n",
      "Confusion Matrix (Act/Pred) for max f1 @ threshold = 0.5426980002397999: \n"
     ]
    },
    {
     "data": {
      "text/html": [
       "<div>\n",
       "<style scoped>\n",
       "    .dataframe tbody tr th:only-of-type {\n",
       "        vertical-align: middle;\n",
       "    }\n",
       "\n",
       "    .dataframe tbody tr th {\n",
       "        vertical-align: top;\n",
       "    }\n",
       "\n",
       "    .dataframe thead th {\n",
       "        text-align: right;\n",
       "    }\n",
       "</style>\n",
       "<table border=\"1\" class=\"dataframe\">\n",
       "  <thead>\n",
       "    <tr style=\"text-align: right;\">\n",
       "      <th></th>\n",
       "      <th></th>\n",
       "      <th>Red</th>\n",
       "      <th>White</th>\n",
       "      <th>Error</th>\n",
       "      <th>Rate</th>\n",
       "    </tr>\n",
       "  </thead>\n",
       "  <tbody>\n",
       "    <tr>\n",
       "      <td>0</td>\n",
       "      <td>Red</td>\n",
       "      <td>1277.0</td>\n",
       "      <td>2.0</td>\n",
       "      <td>0.0016</td>\n",
       "      <td>(2.0/1279.0)</td>\n",
       "    </tr>\n",
       "    <tr>\n",
       "      <td>1</td>\n",
       "      <td>White</td>\n",
       "      <td>0.0</td>\n",
       "      <td>3926.0</td>\n",
       "      <td>0.0</td>\n",
       "      <td>(0.0/3926.0)</td>\n",
       "    </tr>\n",
       "    <tr>\n",
       "      <td>2</td>\n",
       "      <td>Total</td>\n",
       "      <td>1277.0</td>\n",
       "      <td>3928.0</td>\n",
       "      <td>0.0004</td>\n",
       "      <td>(2.0/5205.0)</td>\n",
       "    </tr>\n",
       "  </tbody>\n",
       "</table>\n",
       "</div>"
      ],
      "text/plain": [
       "             Red   White   Error           Rate\n",
       "0    Red  1277.0     2.0  0.0016   (2.0/1279.0)\n",
       "1  White     0.0  3926.0     0.0   (0.0/3926.0)\n",
       "2  Total  1277.0  3928.0  0.0004   (2.0/5205.0)"
      ]
     },
     "metadata": {},
     "output_type": "display_data"
    },
    {
     "name": "stdout",
     "output_type": "stream",
     "text": [
      "\n",
      "Maximum Metrics: Maximum metrics at their respective thresholds\n"
     ]
    },
    {
     "data": {
      "text/html": [
       "<div>\n",
       "<style scoped>\n",
       "    .dataframe tbody tr th:only-of-type {\n",
       "        vertical-align: middle;\n",
       "    }\n",
       "\n",
       "    .dataframe tbody tr th {\n",
       "        vertical-align: top;\n",
       "    }\n",
       "\n",
       "    .dataframe thead th {\n",
       "        text-align: right;\n",
       "    }\n",
       "</style>\n",
       "<table border=\"1\" class=\"dataframe\">\n",
       "  <thead>\n",
       "    <tr style=\"text-align: right;\">\n",
       "      <th></th>\n",
       "      <th>metric</th>\n",
       "      <th>threshold</th>\n",
       "      <th>value</th>\n",
       "      <th>idx</th>\n",
       "    </tr>\n",
       "  </thead>\n",
       "  <tbody>\n",
       "    <tr>\n",
       "      <td>0</td>\n",
       "      <td>max f1</td>\n",
       "      <td>0.542698</td>\n",
       "      <td>0.999745</td>\n",
       "      <td>225.0</td>\n",
       "    </tr>\n",
       "    <tr>\n",
       "      <td>1</td>\n",
       "      <td>max f2</td>\n",
       "      <td>0.542698</td>\n",
       "      <td>0.999898</td>\n",
       "      <td>225.0</td>\n",
       "    </tr>\n",
       "    <tr>\n",
       "      <td>2</td>\n",
       "      <td>max f0point5</td>\n",
       "      <td>0.964193</td>\n",
       "      <td>0.999898</td>\n",
       "      <td>223.0</td>\n",
       "    </tr>\n",
       "    <tr>\n",
       "      <td>3</td>\n",
       "      <td>max accuracy</td>\n",
       "      <td>0.964193</td>\n",
       "      <td>0.999616</td>\n",
       "      <td>223.0</td>\n",
       "    </tr>\n",
       "    <tr>\n",
       "      <td>4</td>\n",
       "      <td>max precision</td>\n",
       "      <td>0.999959</td>\n",
       "      <td>1.000000</td>\n",
       "      <td>0.0</td>\n",
       "    </tr>\n",
       "    <tr>\n",
       "      <td>5</td>\n",
       "      <td>max recall</td>\n",
       "      <td>0.542698</td>\n",
       "      <td>1.000000</td>\n",
       "      <td>225.0</td>\n",
       "    </tr>\n",
       "    <tr>\n",
       "      <td>6</td>\n",
       "      <td>max specificity</td>\n",
       "      <td>0.999959</td>\n",
       "      <td>1.000000</td>\n",
       "      <td>0.0</td>\n",
       "    </tr>\n",
       "    <tr>\n",
       "      <td>7</td>\n",
       "      <td>max absolute_mcc</td>\n",
       "      <td>0.964193</td>\n",
       "      <td>0.998965</td>\n",
       "      <td>223.0</td>\n",
       "    </tr>\n",
       "    <tr>\n",
       "      <td>8</td>\n",
       "      <td>max min_per_class_accuracy</td>\n",
       "      <td>0.964193</td>\n",
       "      <td>0.999491</td>\n",
       "      <td>223.0</td>\n",
       "    </tr>\n",
       "    <tr>\n",
       "      <td>9</td>\n",
       "      <td>max mean_per_class_accuracy</td>\n",
       "      <td>0.964193</td>\n",
       "      <td>0.999745</td>\n",
       "      <td>223.0</td>\n",
       "    </tr>\n",
       "    <tr>\n",
       "      <td>10</td>\n",
       "      <td>max tns</td>\n",
       "      <td>0.999959</td>\n",
       "      <td>1279.000000</td>\n",
       "      <td>0.0</td>\n",
       "    </tr>\n",
       "    <tr>\n",
       "      <td>11</td>\n",
       "      <td>max fns</td>\n",
       "      <td>0.999959</td>\n",
       "      <td>3879.000000</td>\n",
       "      <td>0.0</td>\n",
       "    </tr>\n",
       "    <tr>\n",
       "      <td>12</td>\n",
       "      <td>max fps</td>\n",
       "      <td>0.000078</td>\n",
       "      <td>1279.000000</td>\n",
       "      <td>399.0</td>\n",
       "    </tr>\n",
       "    <tr>\n",
       "      <td>13</td>\n",
       "      <td>max tps</td>\n",
       "      <td>0.542698</td>\n",
       "      <td>3926.000000</td>\n",
       "      <td>225.0</td>\n",
       "    </tr>\n",
       "    <tr>\n",
       "      <td>14</td>\n",
       "      <td>max tnr</td>\n",
       "      <td>0.999959</td>\n",
       "      <td>1.000000</td>\n",
       "      <td>0.0</td>\n",
       "    </tr>\n",
       "    <tr>\n",
       "      <td>15</td>\n",
       "      <td>max fnr</td>\n",
       "      <td>0.999959</td>\n",
       "      <td>0.988029</td>\n",
       "      <td>0.0</td>\n",
       "    </tr>\n",
       "    <tr>\n",
       "      <td>16</td>\n",
       "      <td>max fpr</td>\n",
       "      <td>0.000078</td>\n",
       "      <td>1.000000</td>\n",
       "      <td>399.0</td>\n",
       "    </tr>\n",
       "    <tr>\n",
       "      <td>17</td>\n",
       "      <td>max tpr</td>\n",
       "      <td>0.542698</td>\n",
       "      <td>1.000000</td>\n",
       "      <td>225.0</td>\n",
       "    </tr>\n",
       "  </tbody>\n",
       "</table>\n",
       "</div>"
      ],
      "text/plain": [
       "                         metric  threshold        value    idx\n",
       "0                        max f1   0.542698     0.999745  225.0\n",
       "1                        max f2   0.542698     0.999898  225.0\n",
       "2                  max f0point5   0.964193     0.999898  223.0\n",
       "3                  max accuracy   0.964193     0.999616  223.0\n",
       "4                 max precision   0.999959     1.000000    0.0\n",
       "5                    max recall   0.542698     1.000000  225.0\n",
       "6               max specificity   0.999959     1.000000    0.0\n",
       "7              max absolute_mcc   0.964193     0.998965  223.0\n",
       "8    max min_per_class_accuracy   0.964193     0.999491  223.0\n",
       "9   max mean_per_class_accuracy   0.964193     0.999745  223.0\n",
       "10                      max tns   0.999959  1279.000000    0.0\n",
       "11                      max fns   0.999959  3879.000000    0.0\n",
       "12                      max fps   0.000078  1279.000000  399.0\n",
       "13                      max tps   0.542698  3926.000000  225.0\n",
       "14                      max tnr   0.999959     1.000000    0.0\n",
       "15                      max fnr   0.999959     0.988029    0.0\n",
       "16                      max fpr   0.000078     1.000000  399.0\n",
       "17                      max tpr   0.542698     1.000000  225.0"
      ]
     },
     "metadata": {},
     "output_type": "display_data"
    },
    {
     "name": "stdout",
     "output_type": "stream",
     "text": [
      "\n",
      "Gains/Lift Table: Avg response rate: 75.43 %, avg score: 75.43 %\n"
     ]
    },
    {
     "data": {
      "text/html": [
       "<div>\n",
       "<style scoped>\n",
       "    .dataframe tbody tr th:only-of-type {\n",
       "        vertical-align: middle;\n",
       "    }\n",
       "\n",
       "    .dataframe tbody tr th {\n",
       "        vertical-align: top;\n",
       "    }\n",
       "\n",
       "    .dataframe thead th {\n",
       "        text-align: right;\n",
       "    }\n",
       "</style>\n",
       "<table border=\"1\" class=\"dataframe\">\n",
       "  <thead>\n",
       "    <tr style=\"text-align: right;\">\n",
       "      <th></th>\n",
       "      <th></th>\n",
       "      <th>group</th>\n",
       "      <th>cumulative_data_fraction</th>\n",
       "      <th>lower_threshold</th>\n",
       "      <th>lift</th>\n",
       "      <th>cumulative_lift</th>\n",
       "      <th>response_rate</th>\n",
       "      <th>score</th>\n",
       "      <th>cumulative_response_rate</th>\n",
       "      <th>cumulative_score</th>\n",
       "      <th>capture_rate</th>\n",
       "      <th>cumulative_capture_rate</th>\n",
       "      <th>gain</th>\n",
       "      <th>cumulative_gain</th>\n",
       "    </tr>\n",
       "  </thead>\n",
       "  <tbody>\n",
       "    <tr>\n",
       "      <td>0</td>\n",
       "      <td></td>\n",
       "      <td>1</td>\n",
       "      <td>0.010375</td>\n",
       "      <td>0.999957</td>\n",
       "      <td>1.325777</td>\n",
       "      <td>1.325777</td>\n",
       "      <td>1.000000</td>\n",
       "      <td>0.999959</td>\n",
       "      <td>1.000000</td>\n",
       "      <td>0.999959</td>\n",
       "      <td>0.013754</td>\n",
       "      <td>0.013754</td>\n",
       "      <td>32.577687</td>\n",
       "      <td>32.577687</td>\n",
       "    </tr>\n",
       "    <tr>\n",
       "      <td>1</td>\n",
       "      <td></td>\n",
       "      <td>2</td>\n",
       "      <td>0.020173</td>\n",
       "      <td>0.999955</td>\n",
       "      <td>1.325777</td>\n",
       "      <td>1.325777</td>\n",
       "      <td>1.000000</td>\n",
       "      <td>0.999956</td>\n",
       "      <td>1.000000</td>\n",
       "      <td>0.999957</td>\n",
       "      <td>0.012990</td>\n",
       "      <td>0.026745</td>\n",
       "      <td>32.577687</td>\n",
       "      <td>32.577687</td>\n",
       "    </tr>\n",
       "    <tr>\n",
       "      <td>2</td>\n",
       "      <td></td>\n",
       "      <td>3</td>\n",
       "      <td>0.030163</td>\n",
       "      <td>0.999954</td>\n",
       "      <td>1.325777</td>\n",
       "      <td>1.325777</td>\n",
       "      <td>1.000000</td>\n",
       "      <td>0.999954</td>\n",
       "      <td>1.000000</td>\n",
       "      <td>0.999956</td>\n",
       "      <td>0.013245</td>\n",
       "      <td>0.039990</td>\n",
       "      <td>32.577687</td>\n",
       "      <td>32.577687</td>\n",
       "    </tr>\n",
       "    <tr>\n",
       "      <td>3</td>\n",
       "      <td></td>\n",
       "      <td>4</td>\n",
       "      <td>0.040154</td>\n",
       "      <td>0.999952</td>\n",
       "      <td>1.325777</td>\n",
       "      <td>1.325777</td>\n",
       "      <td>1.000000</td>\n",
       "      <td>0.999953</td>\n",
       "      <td>1.000000</td>\n",
       "      <td>0.999956</td>\n",
       "      <td>0.013245</td>\n",
       "      <td>0.053235</td>\n",
       "      <td>32.577687</td>\n",
       "      <td>32.577687</td>\n",
       "    </tr>\n",
       "    <tr>\n",
       "      <td>4</td>\n",
       "      <td></td>\n",
       "      <td>5</td>\n",
       "      <td>0.050144</td>\n",
       "      <td>0.999951</td>\n",
       "      <td>1.325777</td>\n",
       "      <td>1.325777</td>\n",
       "      <td>1.000000</td>\n",
       "      <td>0.999952</td>\n",
       "      <td>1.000000</td>\n",
       "      <td>0.999955</td>\n",
       "      <td>0.013245</td>\n",
       "      <td>0.066480</td>\n",
       "      <td>32.577687</td>\n",
       "      <td>32.577687</td>\n",
       "    </tr>\n",
       "    <tr>\n",
       "      <td>5</td>\n",
       "      <td></td>\n",
       "      <td>6</td>\n",
       "      <td>0.100096</td>\n",
       "      <td>0.999947</td>\n",
       "      <td>1.325777</td>\n",
       "      <td>1.325777</td>\n",
       "      <td>1.000000</td>\n",
       "      <td>0.999949</td>\n",
       "      <td>1.000000</td>\n",
       "      <td>0.999952</td>\n",
       "      <td>0.066225</td>\n",
       "      <td>0.132705</td>\n",
       "      <td>32.577687</td>\n",
       "      <td>32.577687</td>\n",
       "    </tr>\n",
       "    <tr>\n",
       "      <td>6</td>\n",
       "      <td></td>\n",
       "      <td>7</td>\n",
       "      <td>0.150048</td>\n",
       "      <td>0.999944</td>\n",
       "      <td>1.325777</td>\n",
       "      <td>1.325777</td>\n",
       "      <td>1.000000</td>\n",
       "      <td>0.999946</td>\n",
       "      <td>1.000000</td>\n",
       "      <td>0.999950</td>\n",
       "      <td>0.066225</td>\n",
       "      <td>0.198930</td>\n",
       "      <td>32.577687</td>\n",
       "      <td>32.577687</td>\n",
       "    </tr>\n",
       "    <tr>\n",
       "      <td>7</td>\n",
       "      <td></td>\n",
       "      <td>8</td>\n",
       "      <td>0.200192</td>\n",
       "      <td>0.999941</td>\n",
       "      <td>1.325777</td>\n",
       "      <td>1.325777</td>\n",
       "      <td>1.000000</td>\n",
       "      <td>0.999942</td>\n",
       "      <td>1.000000</td>\n",
       "      <td>0.999948</td>\n",
       "      <td>0.066480</td>\n",
       "      <td>0.265410</td>\n",
       "      <td>32.577687</td>\n",
       "      <td>32.577687</td>\n",
       "    </tr>\n",
       "    <tr>\n",
       "      <td>8</td>\n",
       "      <td></td>\n",
       "      <td>9</td>\n",
       "      <td>0.300096</td>\n",
       "      <td>0.999932</td>\n",
       "      <td>1.325777</td>\n",
       "      <td>1.325777</td>\n",
       "      <td>1.000000</td>\n",
       "      <td>0.999937</td>\n",
       "      <td>1.000000</td>\n",
       "      <td>0.999944</td>\n",
       "      <td>0.132450</td>\n",
       "      <td>0.397860</td>\n",
       "      <td>32.577687</td>\n",
       "      <td>32.577687</td>\n",
       "    </tr>\n",
       "    <tr>\n",
       "      <td>9</td>\n",
       "      <td></td>\n",
       "      <td>10</td>\n",
       "      <td>0.400000</td>\n",
       "      <td>0.999920</td>\n",
       "      <td>1.325777</td>\n",
       "      <td>1.325777</td>\n",
       "      <td>1.000000</td>\n",
       "      <td>0.999927</td>\n",
       "      <td>1.000000</td>\n",
       "      <td>0.999940</td>\n",
       "      <td>0.132450</td>\n",
       "      <td>0.530311</td>\n",
       "      <td>32.577687</td>\n",
       "      <td>32.577687</td>\n",
       "    </tr>\n",
       "    <tr>\n",
       "      <td>10</td>\n",
       "      <td></td>\n",
       "      <td>11</td>\n",
       "      <td>0.500096</td>\n",
       "      <td>0.999899</td>\n",
       "      <td>1.325777</td>\n",
       "      <td>1.325777</td>\n",
       "      <td>1.000000</td>\n",
       "      <td>0.999911</td>\n",
       "      <td>1.000000</td>\n",
       "      <td>0.999934</td>\n",
       "      <td>0.132705</td>\n",
       "      <td>0.663016</td>\n",
       "      <td>32.577687</td>\n",
       "      <td>32.577687</td>\n",
       "    </tr>\n",
       "    <tr>\n",
       "      <td>11</td>\n",
       "      <td></td>\n",
       "      <td>12</td>\n",
       "      <td>0.600192</td>\n",
       "      <td>0.999843</td>\n",
       "      <td>1.325777</td>\n",
       "      <td>1.325777</td>\n",
       "      <td>1.000000</td>\n",
       "      <td>0.999876</td>\n",
       "      <td>1.000000</td>\n",
       "      <td>0.999924</td>\n",
       "      <td>0.132705</td>\n",
       "      <td>0.795721</td>\n",
       "      <td>32.577687</td>\n",
       "      <td>32.577687</td>\n",
       "    </tr>\n",
       "    <tr>\n",
       "      <td>12</td>\n",
       "      <td></td>\n",
       "      <td>13</td>\n",
       "      <td>0.699904</td>\n",
       "      <td>0.999515</td>\n",
       "      <td>1.325777</td>\n",
       "      <td>1.325777</td>\n",
       "      <td>1.000000</td>\n",
       "      <td>0.999742</td>\n",
       "      <td>1.000000</td>\n",
       "      <td>0.999898</td>\n",
       "      <td>0.132196</td>\n",
       "      <td>0.927916</td>\n",
       "      <td>32.577687</td>\n",
       "      <td>32.577687</td>\n",
       "    </tr>\n",
       "    <tr>\n",
       "      <td>13</td>\n",
       "      <td></td>\n",
       "      <td>14</td>\n",
       "      <td>0.800000</td>\n",
       "      <td>0.000457</td>\n",
       "      <td>0.720144</td>\n",
       "      <td>1.250000</td>\n",
       "      <td>0.543186</td>\n",
       "      <td>0.543865</td>\n",
       "      <td>0.942843</td>\n",
       "      <td>0.942839</td>\n",
       "      <td>0.072084</td>\n",
       "      <td>1.000000</td>\n",
       "      <td>-27.985632</td>\n",
       "      <td>25.000000</td>\n",
       "    </tr>\n",
       "    <tr>\n",
       "      <td>14</td>\n",
       "      <td></td>\n",
       "      <td>15</td>\n",
       "      <td>0.899904</td>\n",
       "      <td>0.000121</td>\n",
       "      <td>0.000000</td>\n",
       "      <td>1.111230</td>\n",
       "      <td>0.000000</td>\n",
       "      <td>0.000218</td>\n",
       "      <td>0.838173</td>\n",
       "      <td>0.838193</td>\n",
       "      <td>0.000000</td>\n",
       "      <td>1.000000</td>\n",
       "      <td>-100.000000</td>\n",
       "      <td>11.122972</td>\n",
       "    </tr>\n",
       "    <tr>\n",
       "      <td>15</td>\n",
       "      <td></td>\n",
       "      <td>16</td>\n",
       "      <td>1.000000</td>\n",
       "      <td>0.000073</td>\n",
       "      <td>0.000000</td>\n",
       "      <td>1.000000</td>\n",
       "      <td>0.000000</td>\n",
       "      <td>0.000097</td>\n",
       "      <td>0.754275</td>\n",
       "      <td>0.754303</td>\n",
       "      <td>0.000000</td>\n",
       "      <td>1.000000</td>\n",
       "      <td>-100.000000</td>\n",
       "      <td>0.000000</td>\n",
       "    </tr>\n",
       "  </tbody>\n",
       "</table>\n",
       "</div>"
      ],
      "text/plain": [
       "      group  cumulative_data_fraction  lower_threshold      lift  \\\n",
       "0         1                  0.010375         0.999957  1.325777   \n",
       "1         2                  0.020173         0.999955  1.325777   \n",
       "2         3                  0.030163         0.999954  1.325777   \n",
       "3         4                  0.040154         0.999952  1.325777   \n",
       "4         5                  0.050144         0.999951  1.325777   \n",
       "5         6                  0.100096         0.999947  1.325777   \n",
       "6         7                  0.150048         0.999944  1.325777   \n",
       "7         8                  0.200192         0.999941  1.325777   \n",
       "8         9                  0.300096         0.999932  1.325777   \n",
       "9        10                  0.400000         0.999920  1.325777   \n",
       "10       11                  0.500096         0.999899  1.325777   \n",
       "11       12                  0.600192         0.999843  1.325777   \n",
       "12       13                  0.699904         0.999515  1.325777   \n",
       "13       14                  0.800000         0.000457  0.720144   \n",
       "14       15                  0.899904         0.000121  0.000000   \n",
       "15       16                  1.000000         0.000073  0.000000   \n",
       "\n",
       "    cumulative_lift  response_rate     score  cumulative_response_rate  \\\n",
       "0          1.325777       1.000000  0.999959                  1.000000   \n",
       "1          1.325777       1.000000  0.999956                  1.000000   \n",
       "2          1.325777       1.000000  0.999954                  1.000000   \n",
       "3          1.325777       1.000000  0.999953                  1.000000   \n",
       "4          1.325777       1.000000  0.999952                  1.000000   \n",
       "5          1.325777       1.000000  0.999949                  1.000000   \n",
       "6          1.325777       1.000000  0.999946                  1.000000   \n",
       "7          1.325777       1.000000  0.999942                  1.000000   \n",
       "8          1.325777       1.000000  0.999937                  1.000000   \n",
       "9          1.325777       1.000000  0.999927                  1.000000   \n",
       "10         1.325777       1.000000  0.999911                  1.000000   \n",
       "11         1.325777       1.000000  0.999876                  1.000000   \n",
       "12         1.325777       1.000000  0.999742                  1.000000   \n",
       "13         1.250000       0.543186  0.543865                  0.942843   \n",
       "14         1.111230       0.000000  0.000218                  0.838173   \n",
       "15         1.000000       0.000000  0.000097                  0.754275   \n",
       "\n",
       "    cumulative_score  capture_rate  cumulative_capture_rate        gain  \\\n",
       "0           0.999959      0.013754                 0.013754   32.577687   \n",
       "1           0.999957      0.012990                 0.026745   32.577687   \n",
       "2           0.999956      0.013245                 0.039990   32.577687   \n",
       "3           0.999956      0.013245                 0.053235   32.577687   \n",
       "4           0.999955      0.013245                 0.066480   32.577687   \n",
       "5           0.999952      0.066225                 0.132705   32.577687   \n",
       "6           0.999950      0.066225                 0.198930   32.577687   \n",
       "7           0.999948      0.066480                 0.265410   32.577687   \n",
       "8           0.999944      0.132450                 0.397860   32.577687   \n",
       "9           0.999940      0.132450                 0.530311   32.577687   \n",
       "10          0.999934      0.132705                 0.663016   32.577687   \n",
       "11          0.999924      0.132705                 0.795721   32.577687   \n",
       "12          0.999898      0.132196                 0.927916   32.577687   \n",
       "13          0.942839      0.072084                 1.000000  -27.985632   \n",
       "14          0.838193      0.000000                 1.000000 -100.000000   \n",
       "15          0.754303      0.000000                 1.000000 -100.000000   \n",
       "\n",
       "    cumulative_gain  \n",
       "0         32.577687  \n",
       "1         32.577687  \n",
       "2         32.577687  \n",
       "3         32.577687  \n",
       "4         32.577687  \n",
       "5         32.577687  \n",
       "6         32.577687  \n",
       "7         32.577687  \n",
       "8         32.577687  \n",
       "9         32.577687  \n",
       "10        32.577687  \n",
       "11        32.577687  \n",
       "12        32.577687  \n",
       "13        25.000000  \n",
       "14        11.122972  \n",
       "15         0.000000  "
      ]
     },
     "metadata": {},
     "output_type": "display_data"
    },
    {
     "name": "stdout",
     "output_type": "stream",
     "text": [
      "\n",
      "\n",
      "ModelMetricsBinomial: gbm\n",
      "** Reported on cross-validation data. **\n",
      "\n",
      "MSE: 0.004471386087353537\n",
      "RMSE: 0.06686842369424852\n",
      "LogLoss: 0.022461062074659203\n",
      "Mean Per-Class Error: 0.007774297530108498\n",
      "AUC: 0.9989820474716581\n",
      "AUCPR: 0.891344561471526\n",
      "Gini: 0.9979640949433162\n",
      "\n",
      "Confusion Matrix (Act/Pred) for max f1 @ threshold = 0.5452251989451493: \n"
     ]
    },
    {
     "data": {
      "text/html": [
       "<div>\n",
       "<style scoped>\n",
       "    .dataframe tbody tr th:only-of-type {\n",
       "        vertical-align: middle;\n",
       "    }\n",
       "\n",
       "    .dataframe tbody tr th {\n",
       "        vertical-align: top;\n",
       "    }\n",
       "\n",
       "    .dataframe thead th {\n",
       "        text-align: right;\n",
       "    }\n",
       "</style>\n",
       "<table border=\"1\" class=\"dataframe\">\n",
       "  <thead>\n",
       "    <tr style=\"text-align: right;\">\n",
       "      <th></th>\n",
       "      <th></th>\n",
       "      <th>Red</th>\n",
       "      <th>White</th>\n",
       "      <th>Error</th>\n",
       "      <th>Rate</th>\n",
       "    </tr>\n",
       "  </thead>\n",
       "  <tbody>\n",
       "    <tr>\n",
       "      <td>0</td>\n",
       "      <td>Red</td>\n",
       "      <td>1261.0</td>\n",
       "      <td>18.0</td>\n",
       "      <td>0.0141</td>\n",
       "      <td>(18.0/1279.0)</td>\n",
       "    </tr>\n",
       "    <tr>\n",
       "      <td>1</td>\n",
       "      <td>White</td>\n",
       "      <td>6.0</td>\n",
       "      <td>3920.0</td>\n",
       "      <td>0.0015</td>\n",
       "      <td>(6.0/3926.0)</td>\n",
       "    </tr>\n",
       "    <tr>\n",
       "      <td>2</td>\n",
       "      <td>Total</td>\n",
       "      <td>1267.0</td>\n",
       "      <td>3938.0</td>\n",
       "      <td>0.0046</td>\n",
       "      <td>(24.0/5205.0)</td>\n",
       "    </tr>\n",
       "  </tbody>\n",
       "</table>\n",
       "</div>"
      ],
      "text/plain": [
       "             Red   White   Error            Rate\n",
       "0    Red  1261.0    18.0  0.0141   (18.0/1279.0)\n",
       "1  White     6.0  3920.0  0.0015    (6.0/3926.0)\n",
       "2  Total  1267.0  3938.0  0.0046   (24.0/5205.0)"
      ]
     },
     "metadata": {},
     "output_type": "display_data"
    },
    {
     "name": "stdout",
     "output_type": "stream",
     "text": [
      "\n",
      "Maximum Metrics: Maximum metrics at their respective thresholds\n"
     ]
    },
    {
     "data": {
      "text/html": [
       "<div>\n",
       "<style scoped>\n",
       "    .dataframe tbody tr th:only-of-type {\n",
       "        vertical-align: middle;\n",
       "    }\n",
       "\n",
       "    .dataframe tbody tr th {\n",
       "        vertical-align: top;\n",
       "    }\n",
       "\n",
       "    .dataframe thead th {\n",
       "        text-align: right;\n",
       "    }\n",
       "</style>\n",
       "<table border=\"1\" class=\"dataframe\">\n",
       "  <thead>\n",
       "    <tr style=\"text-align: right;\">\n",
       "      <th></th>\n",
       "      <th>metric</th>\n",
       "      <th>threshold</th>\n",
       "      <th>value</th>\n",
       "      <th>idx</th>\n",
       "    </tr>\n",
       "  </thead>\n",
       "  <tbody>\n",
       "    <tr>\n",
       "      <td>0</td>\n",
       "      <td>max f1</td>\n",
       "      <td>0.545225</td>\n",
       "      <td>0.996948</td>\n",
       "      <td>220.0</td>\n",
       "    </tr>\n",
       "    <tr>\n",
       "      <td>1</td>\n",
       "      <td>max f2</td>\n",
       "      <td>0.162453</td>\n",
       "      <td>0.998067</td>\n",
       "      <td>236.0</td>\n",
       "    </tr>\n",
       "    <tr>\n",
       "      <td>2</td>\n",
       "      <td>max f0point5</td>\n",
       "      <td>0.922309</td>\n",
       "      <td>0.996179</td>\n",
       "      <td>208.0</td>\n",
       "    </tr>\n",
       "    <tr>\n",
       "      <td>3</td>\n",
       "      <td>max accuracy</td>\n",
       "      <td>0.545225</td>\n",
       "      <td>0.995389</td>\n",
       "      <td>220.0</td>\n",
       "    </tr>\n",
       "    <tr>\n",
       "      <td>4</td>\n",
       "      <td>max precision</td>\n",
       "      <td>0.999992</td>\n",
       "      <td>1.000000</td>\n",
       "      <td>0.0</td>\n",
       "    </tr>\n",
       "    <tr>\n",
       "      <td>5</td>\n",
       "      <td>max recall</td>\n",
       "      <td>0.024596</td>\n",
       "      <td>1.000000</td>\n",
       "      <td>262.0</td>\n",
       "    </tr>\n",
       "    <tr>\n",
       "      <td>6</td>\n",
       "      <td>max specificity</td>\n",
       "      <td>0.999992</td>\n",
       "      <td>1.000000</td>\n",
       "      <td>0.0</td>\n",
       "    </tr>\n",
       "    <tr>\n",
       "      <td>7</td>\n",
       "      <td>max absolute_mcc</td>\n",
       "      <td>0.545225</td>\n",
       "      <td>0.987541</td>\n",
       "      <td>220.0</td>\n",
       "    </tr>\n",
       "    <tr>\n",
       "      <td>8</td>\n",
       "      <td>max min_per_class_accuracy</td>\n",
       "      <td>0.974494</td>\n",
       "      <td>0.990321</td>\n",
       "      <td>184.0</td>\n",
       "    </tr>\n",
       "    <tr>\n",
       "      <td>9</td>\n",
       "      <td>max mean_per_class_accuracy</td>\n",
       "      <td>0.922309</td>\n",
       "      <td>0.992226</td>\n",
       "      <td>208.0</td>\n",
       "    </tr>\n",
       "    <tr>\n",
       "      <td>10</td>\n",
       "      <td>max tns</td>\n",
       "      <td>0.999992</td>\n",
       "      <td>1279.000000</td>\n",
       "      <td>0.0</td>\n",
       "    </tr>\n",
       "    <tr>\n",
       "      <td>11</td>\n",
       "      <td>max fns</td>\n",
       "      <td>0.999992</td>\n",
       "      <td>3501.000000</td>\n",
       "      <td>0.0</td>\n",
       "    </tr>\n",
       "    <tr>\n",
       "      <td>12</td>\n",
       "      <td>max fps</td>\n",
       "      <td>0.000013</td>\n",
       "      <td>1279.000000</td>\n",
       "      <td>399.0</td>\n",
       "    </tr>\n",
       "    <tr>\n",
       "      <td>13</td>\n",
       "      <td>max tps</td>\n",
       "      <td>0.024596</td>\n",
       "      <td>3926.000000</td>\n",
       "      <td>262.0</td>\n",
       "    </tr>\n",
       "    <tr>\n",
       "      <td>14</td>\n",
       "      <td>max tnr</td>\n",
       "      <td>0.999992</td>\n",
       "      <td>1.000000</td>\n",
       "      <td>0.0</td>\n",
       "    </tr>\n",
       "    <tr>\n",
       "      <td>15</td>\n",
       "      <td>max fnr</td>\n",
       "      <td>0.999992</td>\n",
       "      <td>0.891747</td>\n",
       "      <td>0.0</td>\n",
       "    </tr>\n",
       "    <tr>\n",
       "      <td>16</td>\n",
       "      <td>max fpr</td>\n",
       "      <td>0.000013</td>\n",
       "      <td>1.000000</td>\n",
       "      <td>399.0</td>\n",
       "    </tr>\n",
       "    <tr>\n",
       "      <td>17</td>\n",
       "      <td>max tpr</td>\n",
       "      <td>0.024596</td>\n",
       "      <td>1.000000</td>\n",
       "      <td>262.0</td>\n",
       "    </tr>\n",
       "  </tbody>\n",
       "</table>\n",
       "</div>"
      ],
      "text/plain": [
       "                         metric  threshold        value    idx\n",
       "0                        max f1   0.545225     0.996948  220.0\n",
       "1                        max f2   0.162453     0.998067  236.0\n",
       "2                  max f0point5   0.922309     0.996179  208.0\n",
       "3                  max accuracy   0.545225     0.995389  220.0\n",
       "4                 max precision   0.999992     1.000000    0.0\n",
       "5                    max recall   0.024596     1.000000  262.0\n",
       "6               max specificity   0.999992     1.000000    0.0\n",
       "7              max absolute_mcc   0.545225     0.987541  220.0\n",
       "8    max min_per_class_accuracy   0.974494     0.990321  184.0\n",
       "9   max mean_per_class_accuracy   0.922309     0.992226  208.0\n",
       "10                      max tns   0.999992  1279.000000    0.0\n",
       "11                      max fns   0.999992  3501.000000    0.0\n",
       "12                      max fps   0.000013  1279.000000  399.0\n",
       "13                      max tps   0.024596  3926.000000  262.0\n",
       "14                      max tnr   0.999992     1.000000    0.0\n",
       "15                      max fnr   0.999992     0.891747    0.0\n",
       "16                      max fpr   0.000013     1.000000  399.0\n",
       "17                      max tpr   0.024596     1.000000  262.0"
      ]
     },
     "metadata": {},
     "output_type": "display_data"
    },
    {
     "name": "stdout",
     "output_type": "stream",
     "text": [
      "\n",
      "Gains/Lift Table: Avg response rate: 75.43 %, avg score: 75.67 %\n"
     ]
    },
    {
     "data": {
      "text/html": [
       "<div>\n",
       "<style scoped>\n",
       "    .dataframe tbody tr th:only-of-type {\n",
       "        vertical-align: middle;\n",
       "    }\n",
       "\n",
       "    .dataframe tbody tr th {\n",
       "        vertical-align: top;\n",
       "    }\n",
       "\n",
       "    .dataframe thead th {\n",
       "        text-align: right;\n",
       "    }\n",
       "</style>\n",
       "<table border=\"1\" class=\"dataframe\">\n",
       "  <thead>\n",
       "    <tr style=\"text-align: right;\">\n",
       "      <th></th>\n",
       "      <th></th>\n",
       "      <th>group</th>\n",
       "      <th>cumulative_data_fraction</th>\n",
       "      <th>lower_threshold</th>\n",
       "      <th>lift</th>\n",
       "      <th>cumulative_lift</th>\n",
       "      <th>response_rate</th>\n",
       "      <th>score</th>\n",
       "      <th>cumulative_response_rate</th>\n",
       "      <th>cumulative_score</th>\n",
       "      <th>capture_rate</th>\n",
       "      <th>cumulative_capture_rate</th>\n",
       "      <th>gain</th>\n",
       "      <th>cumulative_gain</th>\n",
       "    </tr>\n",
       "  </thead>\n",
       "  <tbody>\n",
       "    <tr>\n",
       "      <td>0</td>\n",
       "      <td></td>\n",
       "      <td>1</td>\n",
       "      <td>0.010183</td>\n",
       "      <td>0.999994</td>\n",
       "      <td>1.325777</td>\n",
       "      <td>1.325777</td>\n",
       "      <td>1.000000</td>\n",
       "      <td>0.999994</td>\n",
       "      <td>1.000000</td>\n",
       "      <td>0.999994</td>\n",
       "      <td>0.013500</td>\n",
       "      <td>0.013500</td>\n",
       "      <td>32.577687</td>\n",
       "      <td>32.577687</td>\n",
       "    </tr>\n",
       "    <tr>\n",
       "      <td>1</td>\n",
       "      <td></td>\n",
       "      <td>2</td>\n",
       "      <td>0.020173</td>\n",
       "      <td>0.999993</td>\n",
       "      <td>1.325777</td>\n",
       "      <td>1.325777</td>\n",
       "      <td>1.000000</td>\n",
       "      <td>0.999994</td>\n",
       "      <td>1.000000</td>\n",
       "      <td>0.999994</td>\n",
       "      <td>0.013245</td>\n",
       "      <td>0.026745</td>\n",
       "      <td>32.577687</td>\n",
       "      <td>32.577687</td>\n",
       "    </tr>\n",
       "    <tr>\n",
       "      <td>2</td>\n",
       "      <td></td>\n",
       "      <td>3</td>\n",
       "      <td>0.030163</td>\n",
       "      <td>0.999993</td>\n",
       "      <td>1.325777</td>\n",
       "      <td>1.325777</td>\n",
       "      <td>1.000000</td>\n",
       "      <td>0.999993</td>\n",
       "      <td>1.000000</td>\n",
       "      <td>0.999994</td>\n",
       "      <td>0.013245</td>\n",
       "      <td>0.039990</td>\n",
       "      <td>32.577687</td>\n",
       "      <td>32.577687</td>\n",
       "    </tr>\n",
       "    <tr>\n",
       "      <td>3</td>\n",
       "      <td></td>\n",
       "      <td>4</td>\n",
       "      <td>0.040154</td>\n",
       "      <td>0.999992</td>\n",
       "      <td>1.325777</td>\n",
       "      <td>1.325777</td>\n",
       "      <td>1.000000</td>\n",
       "      <td>0.999993</td>\n",
       "      <td>1.000000</td>\n",
       "      <td>0.999993</td>\n",
       "      <td>0.013245</td>\n",
       "      <td>0.053235</td>\n",
       "      <td>32.577687</td>\n",
       "      <td>32.577687</td>\n",
       "    </tr>\n",
       "    <tr>\n",
       "      <td>4</td>\n",
       "      <td></td>\n",
       "      <td>5</td>\n",
       "      <td>0.050336</td>\n",
       "      <td>0.999992</td>\n",
       "      <td>1.325777</td>\n",
       "      <td>1.325777</td>\n",
       "      <td>1.000000</td>\n",
       "      <td>0.999992</td>\n",
       "      <td>1.000000</td>\n",
       "      <td>0.999993</td>\n",
       "      <td>0.013500</td>\n",
       "      <td>0.066735</td>\n",
       "      <td>32.577687</td>\n",
       "      <td>32.577687</td>\n",
       "    </tr>\n",
       "    <tr>\n",
       "      <td>5</td>\n",
       "      <td></td>\n",
       "      <td>6</td>\n",
       "      <td>0.100096</td>\n",
       "      <td>0.999988</td>\n",
       "      <td>1.325777</td>\n",
       "      <td>1.325777</td>\n",
       "      <td>1.000000</td>\n",
       "      <td>0.999990</td>\n",
       "      <td>1.000000</td>\n",
       "      <td>0.999991</td>\n",
       "      <td>0.065970</td>\n",
       "      <td>0.132705</td>\n",
       "      <td>32.577687</td>\n",
       "      <td>32.577687</td>\n",
       "    </tr>\n",
       "    <tr>\n",
       "      <td>6</td>\n",
       "      <td></td>\n",
       "      <td>7</td>\n",
       "      <td>0.150048</td>\n",
       "      <td>0.999984</td>\n",
       "      <td>1.325777</td>\n",
       "      <td>1.325777</td>\n",
       "      <td>1.000000</td>\n",
       "      <td>0.999986</td>\n",
       "      <td>1.000000</td>\n",
       "      <td>0.999990</td>\n",
       "      <td>0.066225</td>\n",
       "      <td>0.198930</td>\n",
       "      <td>32.577687</td>\n",
       "      <td>32.577687</td>\n",
       "    </tr>\n",
       "    <tr>\n",
       "      <td>7</td>\n",
       "      <td></td>\n",
       "      <td>8</td>\n",
       "      <td>0.200000</td>\n",
       "      <td>0.999977</td>\n",
       "      <td>1.325777</td>\n",
       "      <td>1.325777</td>\n",
       "      <td>1.000000</td>\n",
       "      <td>0.999981</td>\n",
       "      <td>1.000000</td>\n",
       "      <td>0.999987</td>\n",
       "      <td>0.066225</td>\n",
       "      <td>0.265155</td>\n",
       "      <td>32.577687</td>\n",
       "      <td>32.577687</td>\n",
       "    </tr>\n",
       "    <tr>\n",
       "      <td>8</td>\n",
       "      <td></td>\n",
       "      <td>9</td>\n",
       "      <td>0.300096</td>\n",
       "      <td>0.999935</td>\n",
       "      <td>1.325777</td>\n",
       "      <td>1.325777</td>\n",
       "      <td>1.000000</td>\n",
       "      <td>0.999954</td>\n",
       "      <td>1.000000</td>\n",
       "      <td>0.999976</td>\n",
       "      <td>0.132705</td>\n",
       "      <td>0.397860</td>\n",
       "      <td>32.577687</td>\n",
       "      <td>32.577687</td>\n",
       "    </tr>\n",
       "    <tr>\n",
       "      <td>9</td>\n",
       "      <td></td>\n",
       "      <td>10</td>\n",
       "      <td>0.400000</td>\n",
       "      <td>0.999909</td>\n",
       "      <td>1.323227</td>\n",
       "      <td>1.325140</td>\n",
       "      <td>0.998077</td>\n",
       "      <td>0.999922</td>\n",
       "      <td>0.999520</td>\n",
       "      <td>0.999963</td>\n",
       "      <td>0.132196</td>\n",
       "      <td>0.530056</td>\n",
       "      <td>32.322730</td>\n",
       "      <td>32.514009</td>\n",
       "    </tr>\n",
       "    <tr>\n",
       "      <td>10</td>\n",
       "      <td></td>\n",
       "      <td>11</td>\n",
       "      <td>0.500096</td>\n",
       "      <td>0.999811</td>\n",
       "      <td>1.325777</td>\n",
       "      <td>1.325268</td>\n",
       "      <td>1.000000</td>\n",
       "      <td>0.999872</td>\n",
       "      <td>0.999616</td>\n",
       "      <td>0.999945</td>\n",
       "      <td>0.132705</td>\n",
       "      <td>0.662761</td>\n",
       "      <td>32.577687</td>\n",
       "      <td>32.526755</td>\n",
       "    </tr>\n",
       "    <tr>\n",
       "      <td>11</td>\n",
       "      <td></td>\n",
       "      <td>12</td>\n",
       "      <td>0.600000</td>\n",
       "      <td>0.999483</td>\n",
       "      <td>1.323227</td>\n",
       "      <td>1.324928</td>\n",
       "      <td>0.998077</td>\n",
       "      <td>0.999604</td>\n",
       "      <td>0.999360</td>\n",
       "      <td>0.999888</td>\n",
       "      <td>0.132196</td>\n",
       "      <td>0.794957</td>\n",
       "      <td>32.322730</td>\n",
       "      <td>32.492783</td>\n",
       "    </tr>\n",
       "    <tr>\n",
       "      <td>12</td>\n",
       "      <td></td>\n",
       "      <td>13</td>\n",
       "      <td>0.699904</td>\n",
       "      <td>0.998683</td>\n",
       "      <td>1.323227</td>\n",
       "      <td>1.324685</td>\n",
       "      <td>0.998077</td>\n",
       "      <td>0.999269</td>\n",
       "      <td>0.999177</td>\n",
       "      <td>0.999800</td>\n",
       "      <td>0.132196</td>\n",
       "      <td>0.927152</td>\n",
       "      <td>32.322730</td>\n",
       "      <td>32.468510</td>\n",
       "    </tr>\n",
       "    <tr>\n",
       "      <td>13</td>\n",
       "      <td></td>\n",
       "      <td>14</td>\n",
       "      <td>0.800000</td>\n",
       "      <td>0.001512</td>\n",
       "      <td>0.727778</td>\n",
       "      <td>1.250000</td>\n",
       "      <td>0.548944</td>\n",
       "      <td>0.568324</td>\n",
       "      <td>0.942843</td>\n",
       "      <td>0.945813</td>\n",
       "      <td>0.072848</td>\n",
       "      <td>1.000000</td>\n",
       "      <td>-27.222229</td>\n",
       "      <td>25.000000</td>\n",
       "    </tr>\n",
       "    <tr>\n",
       "      <td>14</td>\n",
       "      <td></td>\n",
       "      <td>15</td>\n",
       "      <td>0.899904</td>\n",
       "      <td>0.000173</td>\n",
       "      <td>0.000000</td>\n",
       "      <td>1.111230</td>\n",
       "      <td>0.000000</td>\n",
       "      <td>0.000630</td>\n",
       "      <td>0.838173</td>\n",
       "      <td>0.840883</td>\n",
       "      <td>0.000000</td>\n",
       "      <td>1.000000</td>\n",
       "      <td>-100.000000</td>\n",
       "      <td>11.122972</td>\n",
       "    </tr>\n",
       "    <tr>\n",
       "      <td>15</td>\n",
       "      <td></td>\n",
       "      <td>16</td>\n",
       "      <td>1.000000</td>\n",
       "      <td>0.000011</td>\n",
       "      <td>0.000000</td>\n",
       "      <td>1.000000</td>\n",
       "      <td>0.000000</td>\n",
       "      <td>0.000065</td>\n",
       "      <td>0.754275</td>\n",
       "      <td>0.756720</td>\n",
       "      <td>0.000000</td>\n",
       "      <td>1.000000</td>\n",
       "      <td>-100.000000</td>\n",
       "      <td>0.000000</td>\n",
       "    </tr>\n",
       "  </tbody>\n",
       "</table>\n",
       "</div>"
      ],
      "text/plain": [
       "      group  cumulative_data_fraction  lower_threshold      lift  \\\n",
       "0         1                  0.010183         0.999994  1.325777   \n",
       "1         2                  0.020173         0.999993  1.325777   \n",
       "2         3                  0.030163         0.999993  1.325777   \n",
       "3         4                  0.040154         0.999992  1.325777   \n",
       "4         5                  0.050336         0.999992  1.325777   \n",
       "5         6                  0.100096         0.999988  1.325777   \n",
       "6         7                  0.150048         0.999984  1.325777   \n",
       "7         8                  0.200000         0.999977  1.325777   \n",
       "8         9                  0.300096         0.999935  1.325777   \n",
       "9        10                  0.400000         0.999909  1.323227   \n",
       "10       11                  0.500096         0.999811  1.325777   \n",
       "11       12                  0.600000         0.999483  1.323227   \n",
       "12       13                  0.699904         0.998683  1.323227   \n",
       "13       14                  0.800000         0.001512  0.727778   \n",
       "14       15                  0.899904         0.000173  0.000000   \n",
       "15       16                  1.000000         0.000011  0.000000   \n",
       "\n",
       "    cumulative_lift  response_rate     score  cumulative_response_rate  \\\n",
       "0          1.325777       1.000000  0.999994                  1.000000   \n",
       "1          1.325777       1.000000  0.999994                  1.000000   \n",
       "2          1.325777       1.000000  0.999993                  1.000000   \n",
       "3          1.325777       1.000000  0.999993                  1.000000   \n",
       "4          1.325777       1.000000  0.999992                  1.000000   \n",
       "5          1.325777       1.000000  0.999990                  1.000000   \n",
       "6          1.325777       1.000000  0.999986                  1.000000   \n",
       "7          1.325777       1.000000  0.999981                  1.000000   \n",
       "8          1.325777       1.000000  0.999954                  1.000000   \n",
       "9          1.325140       0.998077  0.999922                  0.999520   \n",
       "10         1.325268       1.000000  0.999872                  0.999616   \n",
       "11         1.324928       0.998077  0.999604                  0.999360   \n",
       "12         1.324685       0.998077  0.999269                  0.999177   \n",
       "13         1.250000       0.548944  0.568324                  0.942843   \n",
       "14         1.111230       0.000000  0.000630                  0.838173   \n",
       "15         1.000000       0.000000  0.000065                  0.754275   \n",
       "\n",
       "    cumulative_score  capture_rate  cumulative_capture_rate        gain  \\\n",
       "0           0.999994      0.013500                 0.013500   32.577687   \n",
       "1           0.999994      0.013245                 0.026745   32.577687   \n",
       "2           0.999994      0.013245                 0.039990   32.577687   \n",
       "3           0.999993      0.013245                 0.053235   32.577687   \n",
       "4           0.999993      0.013500                 0.066735   32.577687   \n",
       "5           0.999991      0.065970                 0.132705   32.577687   \n",
       "6           0.999990      0.066225                 0.198930   32.577687   \n",
       "7           0.999987      0.066225                 0.265155   32.577687   \n",
       "8           0.999976      0.132705                 0.397860   32.577687   \n",
       "9           0.999963      0.132196                 0.530056   32.322730   \n",
       "10          0.999945      0.132705                 0.662761   32.577687   \n",
       "11          0.999888      0.132196                 0.794957   32.322730   \n",
       "12          0.999800      0.132196                 0.927152   32.322730   \n",
       "13          0.945813      0.072848                 1.000000  -27.222229   \n",
       "14          0.840883      0.000000                 1.000000 -100.000000   \n",
       "15          0.756720      0.000000                 1.000000 -100.000000   \n",
       "\n",
       "    cumulative_gain  \n",
       "0         32.577687  \n",
       "1         32.577687  \n",
       "2         32.577687  \n",
       "3         32.577687  \n",
       "4         32.577687  \n",
       "5         32.577687  \n",
       "6         32.577687  \n",
       "7         32.577687  \n",
       "8         32.577687  \n",
       "9         32.514009  \n",
       "10        32.526755  \n",
       "11        32.492783  \n",
       "12        32.468510  \n",
       "13        25.000000  \n",
       "14        11.122972  \n",
       "15         0.000000  "
      ]
     },
     "metadata": {},
     "output_type": "display_data"
    },
    {
     "name": "stdout",
     "output_type": "stream",
     "text": [
      "\n",
      "\n",
      "Cross-Validation Metrics Summary: \n"
     ]
    },
    {
     "data": {
      "text/html": [
       "<div>\n",
       "<style scoped>\n",
       "    .dataframe tbody tr th:only-of-type {\n",
       "        vertical-align: middle;\n",
       "    }\n",
       "\n",
       "    .dataframe tbody tr th {\n",
       "        vertical-align: top;\n",
       "    }\n",
       "\n",
       "    .dataframe thead th {\n",
       "        text-align: right;\n",
       "    }\n",
       "</style>\n",
       "<table border=\"1\" class=\"dataframe\">\n",
       "  <thead>\n",
       "    <tr style=\"text-align: right;\">\n",
       "      <th></th>\n",
       "      <th></th>\n",
       "      <th>mean</th>\n",
       "      <th>sd</th>\n",
       "      <th>cv_1_valid</th>\n",
       "      <th>cv_2_valid</th>\n",
       "      <th>cv_3_valid</th>\n",
       "      <th>cv_4_valid</th>\n",
       "      <th>cv_5_valid</th>\n",
       "    </tr>\n",
       "  </thead>\n",
       "  <tbody>\n",
       "    <tr>\n",
       "      <td>0</td>\n",
       "      <td>accuracy</td>\n",
       "      <td>0.99558115</td>\n",
       "      <td>0.0021046016</td>\n",
       "      <td>0.99231505</td>\n",
       "      <td>0.9961575</td>\n",
       "      <td>0.99807876</td>\n",
       "      <td>0.99519694</td>\n",
       "      <td>0.9961575</td>\n",
       "    </tr>\n",
       "    <tr>\n",
       "      <td>1</td>\n",
       "      <td>auc</td>\n",
       "      <td>0.9982977</td>\n",
       "      <td>0.0020563933</td>\n",
       "      <td>0.99579036</td>\n",
       "      <td>0.99988914</td>\n",
       "      <td>0.9963251</td>\n",
       "      <td>0.9996139</td>\n",
       "      <td>0.99986994</td>\n",
       "    </tr>\n",
       "    <tr>\n",
       "      <td>2</td>\n",
       "      <td>aucpr</td>\n",
       "      <td>0.9948259</td>\n",
       "      <td>0.0026402764</td>\n",
       "      <td>0.99667484</td>\n",
       "      <td>0.9925235</td>\n",
       "      <td>0.9915024</td>\n",
       "      <td>0.99601203</td>\n",
       "      <td>0.9974167</td>\n",
       "    </tr>\n",
       "    <tr>\n",
       "      <td>3</td>\n",
       "      <td>err</td>\n",
       "      <td>0.004418828</td>\n",
       "      <td>0.0021046016</td>\n",
       "      <td>0.007684918</td>\n",
       "      <td>0.003842459</td>\n",
       "      <td>0.0019212295</td>\n",
       "      <td>0.004803074</td>\n",
       "      <td>0.003842459</td>\n",
       "    </tr>\n",
       "    <tr>\n",
       "      <td>4</td>\n",
       "      <td>err_count</td>\n",
       "      <td>4.6</td>\n",
       "      <td>2.1908903</td>\n",
       "      <td>8.0</td>\n",
       "      <td>4.0</td>\n",
       "      <td>2.0</td>\n",
       "      <td>5.0</td>\n",
       "      <td>4.0</td>\n",
       "    </tr>\n",
       "    <tr>\n",
       "      <td>5</td>\n",
       "      <td>f0point5</td>\n",
       "      <td>0.9960894</td>\n",
       "      <td>0.0018943127</td>\n",
       "      <td>0.9934194</td>\n",
       "      <td>0.9975186</td>\n",
       "      <td>0.997921</td>\n",
       "      <td>0.9948849</td>\n",
       "      <td>0.996703</td>\n",
       "    </tr>\n",
       "    <tr>\n",
       "      <td>6</td>\n",
       "      <td>f1</td>\n",
       "      <td>0.99708146</td>\n",
       "      <td>0.0013840839</td>\n",
       "      <td>0.99493027</td>\n",
       "      <td>0.9975186</td>\n",
       "      <td>0.9986996</td>\n",
       "      <td>0.9967969</td>\n",
       "      <td>0.9974619</td>\n",
       "    </tr>\n",
       "    <tr>\n",
       "      <td>7</td>\n",
       "      <td>f2</td>\n",
       "      <td>0.99807644</td>\n",
       "      <td>0.0011585746</td>\n",
       "      <td>0.9964458</td>\n",
       "      <td>0.9975186</td>\n",
       "      <td>0.9994794</td>\n",
       "      <td>0.9987163</td>\n",
       "      <td>0.998222</td>\n",
       "    </tr>\n",
       "    <tr>\n",
       "      <td>8</td>\n",
       "      <td>lift_top_group</td>\n",
       "      <td>1.3261135</td>\n",
       "      <td>0.023561297</td>\n",
       "      <td>1.3227446</td>\n",
       "      <td>1.2915633</td>\n",
       "      <td>1.3554688</td>\n",
       "      <td>1.3380463</td>\n",
       "      <td>1.3227446</td>\n",
       "    </tr>\n",
       "    <tr>\n",
       "      <td>9</td>\n",
       "      <td>logloss</td>\n",
       "      <td>0.022461062</td>\n",
       "      <td>0.011536177</td>\n",
       "      <td>0.041473262</td>\n",
       "      <td>0.01378806</td>\n",
       "      <td>0.018601716</td>\n",
       "      <td>0.024687394</td>\n",
       "      <td>0.013754876</td>\n",
       "    </tr>\n",
       "    <tr>\n",
       "      <td>10</td>\n",
       "      <td>max_per_class_error</td>\n",
       "      <td>0.014056224</td>\n",
       "      <td>0.0070204893</td>\n",
       "      <td>0.023622047</td>\n",
       "      <td>0.008510638</td>\n",
       "      <td>0.0073260074</td>\n",
       "      <td>0.019011406</td>\n",
       "      <td>0.011811024</td>\n",
       "    </tr>\n",
       "    <tr>\n",
       "      <td>11</td>\n",
       "      <td>mcc</td>\n",
       "      <td>0.9880013</td>\n",
       "      <td>0.005755524</td>\n",
       "      <td>0.9791114</td>\n",
       "      <td>0.98900795</td>\n",
       "      <td>0.99503547</td>\n",
       "      <td>0.98728126</td>\n",
       "      <td>0.9895703</td>\n",
       "    </tr>\n",
       "    <tr>\n",
       "      <td>12</td>\n",
       "      <td>mean_per_class_accuracy</td>\n",
       "      <td>0.99234253</td>\n",
       "      <td>0.0036983935</td>\n",
       "      <td>0.98691833</td>\n",
       "      <td>0.994504</td>\n",
       "      <td>0.996337</td>\n",
       "      <td>0.9904943</td>\n",
       "      <td>0.99345917</td>\n",
       "    </tr>\n",
       "    <tr>\n",
       "      <td>13</td>\n",
       "      <td>mean_per_class_error</td>\n",
       "      <td>0.0076574455</td>\n",
       "      <td>0.0036983935</td>\n",
       "      <td>0.013081672</td>\n",
       "      <td>0.005496014</td>\n",
       "      <td>0.0036630037</td>\n",
       "      <td>0.009505703</td>\n",
       "      <td>0.006540836</td>\n",
       "    </tr>\n",
       "    <tr>\n",
       "      <td>14</td>\n",
       "      <td>mse</td>\n",
       "      <td>0.0044713863</td>\n",
       "      <td>0.0019126243</td>\n",
       "      <td>0.0074643665</td>\n",
       "      <td>0.0036776785</td>\n",
       "      <td>0.0023658215</td>\n",
       "      <td>0.004975364</td>\n",
       "      <td>0.0038736998</td>\n",
       "    </tr>\n",
       "    <tr>\n",
       "      <td>15</td>\n",
       "      <td>pr_auc</td>\n",
       "      <td>0.9948259</td>\n",
       "      <td>0.0026402764</td>\n",
       "      <td>0.99667484</td>\n",
       "      <td>0.9925235</td>\n",
       "      <td>0.9915024</td>\n",
       "      <td>0.99601203</td>\n",
       "      <td>0.9974167</td>\n",
       "    </tr>\n",
       "    <tr>\n",
       "      <td>16</td>\n",
       "      <td>precision</td>\n",
       "      <td>0.9954296</td>\n",
       "      <td>0.0023039002</td>\n",
       "      <td>0.99241465</td>\n",
       "      <td>0.9975186</td>\n",
       "      <td>0.9974026</td>\n",
       "      <td>0.9936143</td>\n",
       "      <td>0.9961977</td>\n",
       "    </tr>\n",
       "    <tr>\n",
       "      <td>17</td>\n",
       "      <td>r2</td>\n",
       "      <td>0.9757829</td>\n",
       "      <td>0.010401165</td>\n",
       "      <td>0.9595344</td>\n",
       "      <td>0.9789587</td>\n",
       "      <td>0.98777187</td>\n",
       "      <td>0.9736494</td>\n",
       "      <td>0.97900003</td>\n",
       "    </tr>\n",
       "    <tr>\n",
       "      <td>18</td>\n",
       "      <td>recall</td>\n",
       "      <td>0.9987413</td>\n",
       "      <td>0.0012558679</td>\n",
       "      <td>0.9974587</td>\n",
       "      <td>0.9975186</td>\n",
       "      <td>1.0</td>\n",
       "      <td>1.0</td>\n",
       "      <td>0.99872935</td>\n",
       "    </tr>\n",
       "    <tr>\n",
       "      <td>19</td>\n",
       "      <td>rmse</td>\n",
       "      <td>0.06569109</td>\n",
       "      <td>0.01396722</td>\n",
       "      <td>0.08639657</td>\n",
       "      <td>0.060643867</td>\n",
       "      <td>0.04863971</td>\n",
       "      <td>0.07053626</td>\n",
       "      <td>0.062239055</td>\n",
       "    </tr>\n",
       "  </tbody>\n",
       "</table>\n",
       "</div>"
      ],
      "text/plain": [
       "                                     mean            sd    cv_1_valid  \\\n",
       "0                  accuracy    0.99558115  0.0021046016    0.99231505   \n",
       "1                       auc     0.9982977  0.0020563933    0.99579036   \n",
       "2                     aucpr     0.9948259  0.0026402764    0.99667484   \n",
       "3                       err   0.004418828  0.0021046016   0.007684918   \n",
       "4                 err_count           4.6     2.1908903           8.0   \n",
       "5                  f0point5     0.9960894  0.0018943127     0.9934194   \n",
       "6                        f1    0.99708146  0.0013840839    0.99493027   \n",
       "7                        f2    0.99807644  0.0011585746     0.9964458   \n",
       "8            lift_top_group     1.3261135   0.023561297     1.3227446   \n",
       "9                   logloss   0.022461062   0.011536177   0.041473262   \n",
       "10      max_per_class_error   0.014056224  0.0070204893   0.023622047   \n",
       "11                      mcc     0.9880013   0.005755524     0.9791114   \n",
       "12  mean_per_class_accuracy    0.99234253  0.0036983935    0.98691833   \n",
       "13     mean_per_class_error  0.0076574455  0.0036983935   0.013081672   \n",
       "14                      mse  0.0044713863  0.0019126243  0.0074643665   \n",
       "15                   pr_auc     0.9948259  0.0026402764    0.99667484   \n",
       "16                precision     0.9954296  0.0023039002    0.99241465   \n",
       "17                       r2     0.9757829   0.010401165     0.9595344   \n",
       "18                   recall     0.9987413  0.0012558679     0.9974587   \n",
       "19                     rmse    0.06569109    0.01396722    0.08639657   \n",
       "\n",
       "      cv_2_valid    cv_3_valid   cv_4_valid    cv_5_valid  \n",
       "0      0.9961575    0.99807876   0.99519694     0.9961575  \n",
       "1     0.99988914     0.9963251    0.9996139    0.99986994  \n",
       "2      0.9925235     0.9915024   0.99601203     0.9974167  \n",
       "3    0.003842459  0.0019212295  0.004803074   0.003842459  \n",
       "4            4.0           2.0          5.0           4.0  \n",
       "5      0.9975186      0.997921    0.9948849      0.996703  \n",
       "6      0.9975186     0.9986996    0.9967969     0.9974619  \n",
       "7      0.9975186     0.9994794    0.9987163      0.998222  \n",
       "8      1.2915633     1.3554688    1.3380463     1.3227446  \n",
       "9     0.01378806   0.018601716  0.024687394   0.013754876  \n",
       "10   0.008510638  0.0073260074  0.019011406   0.011811024  \n",
       "11    0.98900795    0.99503547   0.98728126     0.9895703  \n",
       "12      0.994504      0.996337    0.9904943    0.99345917  \n",
       "13   0.005496014  0.0036630037  0.009505703   0.006540836  \n",
       "14  0.0036776785  0.0023658215  0.004975364  0.0038736998  \n",
       "15     0.9925235     0.9915024   0.99601203     0.9974167  \n",
       "16     0.9975186     0.9974026    0.9936143     0.9961977  \n",
       "17     0.9789587    0.98777187    0.9736494    0.97900003  \n",
       "18     0.9975186           1.0          1.0    0.99872935  \n",
       "19   0.060643867    0.04863971   0.07053626   0.062239055  "
      ]
     },
     "metadata": {},
     "output_type": "display_data"
    },
    {
     "name": "stdout",
     "output_type": "stream",
     "text": [
      "\n",
      "See the whole table with table.as_data_frame()\n",
      "\n",
      "Scoring History: \n"
     ]
    },
    {
     "data": {
      "text/html": [
       "<div>\n",
       "<style scoped>\n",
       "    .dataframe tbody tr th:only-of-type {\n",
       "        vertical-align: middle;\n",
       "    }\n",
       "\n",
       "    .dataframe tbody tr th {\n",
       "        vertical-align: top;\n",
       "    }\n",
       "\n",
       "    .dataframe thead th {\n",
       "        text-align: right;\n",
       "    }\n",
       "</style>\n",
       "<table border=\"1\" class=\"dataframe\">\n",
       "  <thead>\n",
       "    <tr style=\"text-align: right;\">\n",
       "      <th></th>\n",
       "      <th></th>\n",
       "      <th>timestamp</th>\n",
       "      <th>duration</th>\n",
       "      <th>number_of_trees</th>\n",
       "      <th>training_rmse</th>\n",
       "      <th>training_logloss</th>\n",
       "      <th>training_auc</th>\n",
       "      <th>training_pr_auc</th>\n",
       "      <th>training_lift</th>\n",
       "      <th>training_classification_error</th>\n",
       "    </tr>\n",
       "  </thead>\n",
       "  <tbody>\n",
       "    <tr>\n",
       "      <td>0</td>\n",
       "      <td></td>\n",
       "      <td>2020-03-31 19:10:25</td>\n",
       "      <td>8.366 sec</td>\n",
       "      <td>0.0</td>\n",
       "      <td>0.430516</td>\n",
       "      <td>0.557590</td>\n",
       "      <td>0.500000</td>\n",
       "      <td>0.000000</td>\n",
       "      <td>1.000000</td>\n",
       "      <td>0.245725</td>\n",
       "    </tr>\n",
       "    <tr>\n",
       "      <td>1</td>\n",
       "      <td></td>\n",
       "      <td>2020-03-31 19:10:25</td>\n",
       "      <td>8.427 sec</td>\n",
       "      <td>5.0</td>\n",
       "      <td>0.265335</td>\n",
       "      <td>0.278652</td>\n",
       "      <td>0.999567</td>\n",
       "      <td>0.999598</td>\n",
       "      <td>1.325777</td>\n",
       "      <td>0.004803</td>\n",
       "    </tr>\n",
       "    <tr>\n",
       "      <td>2</td>\n",
       "      <td></td>\n",
       "      <td>2020-03-31 19:10:25</td>\n",
       "      <td>8.513 sec</td>\n",
       "      <td>10.0</td>\n",
       "      <td>0.170924</td>\n",
       "      <td>0.163128</td>\n",
       "      <td>0.999665</td>\n",
       "      <td>0.998864</td>\n",
       "      <td>1.325777</td>\n",
       "      <td>0.003842</td>\n",
       "    </tr>\n",
       "    <tr>\n",
       "      <td>3</td>\n",
       "      <td></td>\n",
       "      <td>2020-03-31 19:10:25</td>\n",
       "      <td>8.598 sec</td>\n",
       "      <td>15.0</td>\n",
       "      <td>0.115947</td>\n",
       "      <td>0.101713</td>\n",
       "      <td>0.999648</td>\n",
       "      <td>0.998596</td>\n",
       "      <td>1.325777</td>\n",
       "      <td>0.002690</td>\n",
       "    </tr>\n",
       "    <tr>\n",
       "      <td>4</td>\n",
       "      <td></td>\n",
       "      <td>2020-03-31 19:10:25</td>\n",
       "      <td>8.664 sec</td>\n",
       "      <td>20.0</td>\n",
       "      <td>0.082646</td>\n",
       "      <td>0.065087</td>\n",
       "      <td>0.999702</td>\n",
       "      <td>0.999633</td>\n",
       "      <td>1.325777</td>\n",
       "      <td>0.002690</td>\n",
       "    </tr>\n",
       "    <tr>\n",
       "      <td>5</td>\n",
       "      <td></td>\n",
       "      <td>2020-03-31 19:10:25</td>\n",
       "      <td>8.739 sec</td>\n",
       "      <td>25.0</td>\n",
       "      <td>0.061964</td>\n",
       "      <td>0.042638</td>\n",
       "      <td>0.999917</td>\n",
       "      <td>0.999717</td>\n",
       "      <td>1.325777</td>\n",
       "      <td>0.001537</td>\n",
       "    </tr>\n",
       "    <tr>\n",
       "      <td>6</td>\n",
       "      <td></td>\n",
       "      <td>2020-03-31 19:10:25</td>\n",
       "      <td>8.813 sec</td>\n",
       "      <td>30.0</td>\n",
       "      <td>0.047782</td>\n",
       "      <td>0.028236</td>\n",
       "      <td>0.999964</td>\n",
       "      <td>0.999479</td>\n",
       "      <td>1.325777</td>\n",
       "      <td>0.000961</td>\n",
       "    </tr>\n",
       "    <tr>\n",
       "      <td>7</td>\n",
       "      <td></td>\n",
       "      <td>2020-03-31 19:10:25</td>\n",
       "      <td>8.877 sec</td>\n",
       "      <td>35.0</td>\n",
       "      <td>0.039313</td>\n",
       "      <td>0.019193</td>\n",
       "      <td>0.999990</td>\n",
       "      <td>0.998723</td>\n",
       "      <td>1.325777</td>\n",
       "      <td>0.000576</td>\n",
       "    </tr>\n",
       "    <tr>\n",
       "      <td>8</td>\n",
       "      <td></td>\n",
       "      <td>2020-03-31 19:10:25</td>\n",
       "      <td>8.954 sec</td>\n",
       "      <td>40.0</td>\n",
       "      <td>0.031968</td>\n",
       "      <td>0.013133</td>\n",
       "      <td>0.999997</td>\n",
       "      <td>0.998471</td>\n",
       "      <td>1.325777</td>\n",
       "      <td>0.000576</td>\n",
       "    </tr>\n",
       "    <tr>\n",
       "      <td>9</td>\n",
       "      <td></td>\n",
       "      <td>2020-03-31 19:10:25</td>\n",
       "      <td>9.016 sec</td>\n",
       "      <td>45.0</td>\n",
       "      <td>0.027095</td>\n",
       "      <td>0.009151</td>\n",
       "      <td>0.999999</td>\n",
       "      <td>0.997453</td>\n",
       "      <td>1.325777</td>\n",
       "      <td>0.000384</td>\n",
       "    </tr>\n",
       "    <tr>\n",
       "      <td>10</td>\n",
       "      <td></td>\n",
       "      <td>2020-03-31 19:10:25</td>\n",
       "      <td>9.097 sec</td>\n",
       "      <td>50.0</td>\n",
       "      <td>0.023631</td>\n",
       "      <td>0.006659</td>\n",
       "      <td>1.000000</td>\n",
       "      <td>0.998981</td>\n",
       "      <td>1.325777</td>\n",
       "      <td>0.000384</td>\n",
       "    </tr>\n",
       "    <tr>\n",
       "      <td>11</td>\n",
       "      <td></td>\n",
       "      <td>2020-03-31 19:10:26</td>\n",
       "      <td>9.169 sec</td>\n",
       "      <td>55.0</td>\n",
       "      <td>0.020063</td>\n",
       "      <td>0.004812</td>\n",
       "      <td>1.000000</td>\n",
       "      <td>0.998726</td>\n",
       "      <td>1.325777</td>\n",
       "      <td>0.000384</td>\n",
       "    </tr>\n",
       "    <tr>\n",
       "      <td>12</td>\n",
       "      <td></td>\n",
       "      <td>2020-03-31 19:10:26</td>\n",
       "      <td>9.248 sec</td>\n",
       "      <td>60.0</td>\n",
       "      <td>0.018016</td>\n",
       "      <td>0.003654</td>\n",
       "      <td>1.000000</td>\n",
       "      <td>0.990321</td>\n",
       "      <td>1.325777</td>\n",
       "      <td>0.000384</td>\n",
       "    </tr>\n",
       "    <tr>\n",
       "      <td>13</td>\n",
       "      <td></td>\n",
       "      <td>2020-03-31 19:10:26</td>\n",
       "      <td>9.312 sec</td>\n",
       "      <td>65.0</td>\n",
       "      <td>0.016590</td>\n",
       "      <td>0.002774</td>\n",
       "      <td>1.000000</td>\n",
       "      <td>0.994396</td>\n",
       "      <td>1.325777</td>\n",
       "      <td>0.000384</td>\n",
       "    </tr>\n",
       "    <tr>\n",
       "      <td>14</td>\n",
       "      <td></td>\n",
       "      <td>2020-03-31 19:10:26</td>\n",
       "      <td>9.391 sec</td>\n",
       "      <td>70.0</td>\n",
       "      <td>0.015427</td>\n",
       "      <td>0.002132</td>\n",
       "      <td>1.000000</td>\n",
       "      <td>0.995924</td>\n",
       "      <td>1.325777</td>\n",
       "      <td>0.000384</td>\n",
       "    </tr>\n",
       "    <tr>\n",
       "      <td>15</td>\n",
       "      <td></td>\n",
       "      <td>2020-03-31 19:10:26</td>\n",
       "      <td>9.463 sec</td>\n",
       "      <td>75.0</td>\n",
       "      <td>0.014775</td>\n",
       "      <td>0.001684</td>\n",
       "      <td>1.000000</td>\n",
       "      <td>0.994396</td>\n",
       "      <td>1.325777</td>\n",
       "      <td>0.000384</td>\n",
       "    </tr>\n",
       "    <tr>\n",
       "      <td>16</td>\n",
       "      <td></td>\n",
       "      <td>2020-03-31 19:10:26</td>\n",
       "      <td>9.534 sec</td>\n",
       "      <td>80.0</td>\n",
       "      <td>0.014441</td>\n",
       "      <td>0.001368</td>\n",
       "      <td>1.000000</td>\n",
       "      <td>0.998472</td>\n",
       "      <td>1.325777</td>\n",
       "      <td>0.000384</td>\n",
       "    </tr>\n",
       "    <tr>\n",
       "      <td>17</td>\n",
       "      <td></td>\n",
       "      <td>2020-03-31 19:10:26</td>\n",
       "      <td>9.609 sec</td>\n",
       "      <td>85.0</td>\n",
       "      <td>0.014224</td>\n",
       "      <td>0.001131</td>\n",
       "      <td>1.000000</td>\n",
       "      <td>0.992104</td>\n",
       "      <td>1.325777</td>\n",
       "      <td>0.000384</td>\n",
       "    </tr>\n",
       "    <tr>\n",
       "      <td>18</td>\n",
       "      <td></td>\n",
       "      <td>2020-03-31 19:10:26</td>\n",
       "      <td>9.679 sec</td>\n",
       "      <td>90.0</td>\n",
       "      <td>0.014109</td>\n",
       "      <td>0.000989</td>\n",
       "      <td>1.000000</td>\n",
       "      <td>0.996434</td>\n",
       "      <td>1.325777</td>\n",
       "      <td>0.000384</td>\n",
       "    </tr>\n",
       "    <tr>\n",
       "      <td>19</td>\n",
       "      <td></td>\n",
       "      <td>2020-03-31 19:10:26</td>\n",
       "      <td>9.732 sec</td>\n",
       "      <td>93.0</td>\n",
       "      <td>0.014080</td>\n",
       "      <td>0.000918</td>\n",
       "      <td>1.000000</td>\n",
       "      <td>0.988028</td>\n",
       "      <td>1.325777</td>\n",
       "      <td>0.000384</td>\n",
       "    </tr>\n",
       "  </tbody>\n",
       "</table>\n",
       "</div>"
      ],
      "text/plain": [
       "                timestamp    duration  number_of_trees  training_rmse  \\\n",
       "0     2020-03-31 19:10:25   8.366 sec              0.0       0.430516   \n",
       "1     2020-03-31 19:10:25   8.427 sec              5.0       0.265335   \n",
       "2     2020-03-31 19:10:25   8.513 sec             10.0       0.170924   \n",
       "3     2020-03-31 19:10:25   8.598 sec             15.0       0.115947   \n",
       "4     2020-03-31 19:10:25   8.664 sec             20.0       0.082646   \n",
       "5     2020-03-31 19:10:25   8.739 sec             25.0       0.061964   \n",
       "6     2020-03-31 19:10:25   8.813 sec             30.0       0.047782   \n",
       "7     2020-03-31 19:10:25   8.877 sec             35.0       0.039313   \n",
       "8     2020-03-31 19:10:25   8.954 sec             40.0       0.031968   \n",
       "9     2020-03-31 19:10:25   9.016 sec             45.0       0.027095   \n",
       "10    2020-03-31 19:10:25   9.097 sec             50.0       0.023631   \n",
       "11    2020-03-31 19:10:26   9.169 sec             55.0       0.020063   \n",
       "12    2020-03-31 19:10:26   9.248 sec             60.0       0.018016   \n",
       "13    2020-03-31 19:10:26   9.312 sec             65.0       0.016590   \n",
       "14    2020-03-31 19:10:26   9.391 sec             70.0       0.015427   \n",
       "15    2020-03-31 19:10:26   9.463 sec             75.0       0.014775   \n",
       "16    2020-03-31 19:10:26   9.534 sec             80.0       0.014441   \n",
       "17    2020-03-31 19:10:26   9.609 sec             85.0       0.014224   \n",
       "18    2020-03-31 19:10:26   9.679 sec             90.0       0.014109   \n",
       "19    2020-03-31 19:10:26   9.732 sec             93.0       0.014080   \n",
       "\n",
       "    training_logloss  training_auc  training_pr_auc  training_lift  \\\n",
       "0           0.557590      0.500000         0.000000       1.000000   \n",
       "1           0.278652      0.999567         0.999598       1.325777   \n",
       "2           0.163128      0.999665         0.998864       1.325777   \n",
       "3           0.101713      0.999648         0.998596       1.325777   \n",
       "4           0.065087      0.999702         0.999633       1.325777   \n",
       "5           0.042638      0.999917         0.999717       1.325777   \n",
       "6           0.028236      0.999964         0.999479       1.325777   \n",
       "7           0.019193      0.999990         0.998723       1.325777   \n",
       "8           0.013133      0.999997         0.998471       1.325777   \n",
       "9           0.009151      0.999999         0.997453       1.325777   \n",
       "10          0.006659      1.000000         0.998981       1.325777   \n",
       "11          0.004812      1.000000         0.998726       1.325777   \n",
       "12          0.003654      1.000000         0.990321       1.325777   \n",
       "13          0.002774      1.000000         0.994396       1.325777   \n",
       "14          0.002132      1.000000         0.995924       1.325777   \n",
       "15          0.001684      1.000000         0.994396       1.325777   \n",
       "16          0.001368      1.000000         0.998472       1.325777   \n",
       "17          0.001131      1.000000         0.992104       1.325777   \n",
       "18          0.000989      1.000000         0.996434       1.325777   \n",
       "19          0.000918      1.000000         0.988028       1.325777   \n",
       "\n",
       "    training_classification_error  \n",
       "0                        0.245725  \n",
       "1                        0.004803  \n",
       "2                        0.003842  \n",
       "3                        0.002690  \n",
       "4                        0.002690  \n",
       "5                        0.001537  \n",
       "6                        0.000961  \n",
       "7                        0.000576  \n",
       "8                        0.000576  \n",
       "9                        0.000384  \n",
       "10                       0.000384  \n",
       "11                       0.000384  \n",
       "12                       0.000384  \n",
       "13                       0.000384  \n",
       "14                       0.000384  \n",
       "15                       0.000384  \n",
       "16                       0.000384  \n",
       "17                       0.000384  \n",
       "18                       0.000384  \n",
       "19                       0.000384  "
      ]
     },
     "metadata": {},
     "output_type": "display_data"
    },
    {
     "name": "stdout",
     "output_type": "stream",
     "text": [
      "\n",
      "Variable Importances: \n"
     ]
    },
    {
     "data": {
      "text/html": [
       "<div>\n",
       "<style scoped>\n",
       "    .dataframe tbody tr th:only-of-type {\n",
       "        vertical-align: middle;\n",
       "    }\n",
       "\n",
       "    .dataframe tbody tr th {\n",
       "        vertical-align: top;\n",
       "    }\n",
       "\n",
       "    .dataframe thead th {\n",
       "        text-align: right;\n",
       "    }\n",
       "</style>\n",
       "<table border=\"1\" class=\"dataframe\">\n",
       "  <thead>\n",
       "    <tr style=\"text-align: right;\">\n",
       "      <th></th>\n",
       "      <th>variable</th>\n",
       "      <th>relative_importance</th>\n",
       "      <th>scaled_importance</th>\n",
       "      <th>percentage</th>\n",
       "    </tr>\n",
       "  </thead>\n",
       "  <tbody>\n",
       "    <tr>\n",
       "      <td>0</td>\n",
       "      <td>chlorides</td>\n",
       "      <td>1886.477417</td>\n",
       "      <td>1.000000</td>\n",
       "      <td>0.407254</td>\n",
       "    </tr>\n",
       "    <tr>\n",
       "      <td>1</td>\n",
       "      <td>total_sulfur_dioxide</td>\n",
       "      <td>1238.903198</td>\n",
       "      <td>0.656728</td>\n",
       "      <td>0.267455</td>\n",
       "    </tr>\n",
       "    <tr>\n",
       "      <td>2</td>\n",
       "      <td>volatile_acidity</td>\n",
       "      <td>578.601440</td>\n",
       "      <td>0.306710</td>\n",
       "      <td>0.124909</td>\n",
       "    </tr>\n",
       "    <tr>\n",
       "      <td>3</td>\n",
       "      <td>density</td>\n",
       "      <td>278.295044</td>\n",
       "      <td>0.147521</td>\n",
       "      <td>0.060078</td>\n",
       "    </tr>\n",
       "    <tr>\n",
       "      <td>4</td>\n",
       "      <td>residual_sugar</td>\n",
       "      <td>197.502930</td>\n",
       "      <td>0.104694</td>\n",
       "      <td>0.042637</td>\n",
       "    </tr>\n",
       "    <tr>\n",
       "      <td>5</td>\n",
       "      <td>sulphates</td>\n",
       "      <td>129.286606</td>\n",
       "      <td>0.068533</td>\n",
       "      <td>0.027910</td>\n",
       "    </tr>\n",
       "    <tr>\n",
       "      <td>6</td>\n",
       "      <td>fixed_acidity</td>\n",
       "      <td>81.658905</td>\n",
       "      <td>0.043286</td>\n",
       "      <td>0.017629</td>\n",
       "    </tr>\n",
       "    <tr>\n",
       "      <td>7</td>\n",
       "      <td>free_sulfur_dioxide</td>\n",
       "      <td>77.222618</td>\n",
       "      <td>0.040935</td>\n",
       "      <td>0.016671</td>\n",
       "    </tr>\n",
       "    <tr>\n",
       "      <td>8</td>\n",
       "      <td>pH</td>\n",
       "      <td>72.484039</td>\n",
       "      <td>0.038423</td>\n",
       "      <td>0.015648</td>\n",
       "    </tr>\n",
       "    <tr>\n",
       "      <td>9</td>\n",
       "      <td>alcohol</td>\n",
       "      <td>56.326656</td>\n",
       "      <td>0.029858</td>\n",
       "      <td>0.012160</td>\n",
       "    </tr>\n",
       "    <tr>\n",
       "      <td>10</td>\n",
       "      <td>citric_acid</td>\n",
       "      <td>35.435280</td>\n",
       "      <td>0.018784</td>\n",
       "      <td>0.007650</td>\n",
       "    </tr>\n",
       "  </tbody>\n",
       "</table>\n",
       "</div>"
      ],
      "text/plain": [
       "                variable  relative_importance  scaled_importance  percentage\n",
       "0              chlorides          1886.477417           1.000000    0.407254\n",
       "1   total_sulfur_dioxide          1238.903198           0.656728    0.267455\n",
       "2       volatile_acidity           578.601440           0.306710    0.124909\n",
       "3                density           278.295044           0.147521    0.060078\n",
       "4         residual_sugar           197.502930           0.104694    0.042637\n",
       "5              sulphates           129.286606           0.068533    0.027910\n",
       "6          fixed_acidity            81.658905           0.043286    0.017629\n",
       "7    free_sulfur_dioxide            77.222618           0.040935    0.016671\n",
       "8                     pH            72.484039           0.038423    0.015648\n",
       "9                alcohol            56.326656           0.029858    0.012160\n",
       "10           citric_acid            35.435280           0.018784    0.007650"
      ]
     },
     "metadata": {},
     "output_type": "display_data"
    },
    {
     "data": {
      "text/plain": []
     },
     "execution_count": 280,
     "metadata": {},
     "output_type": "execute_result"
    }
   ],
   "source": [
    "aml_type.leader"
   ]
  },
  {
   "cell_type": "markdown",
   "metadata": {},
   "source": [
    "Como se puede observar los detalles que ofrece AutoML en una clasificación binaria es mucho mayor a la clasificación múltiple, lo cual nos hace pensar en que si aplicamos simple ingenieria de datos a la clasificación de calidad podemos obtener resultados distintos, por ejemplo, podemos clasificar los vinos en 3 categorias: malos, regulares y buenos y con esto podemos facilitar el trabajo del modelo."
   ]
  },
  {
   "cell_type": "markdown",
   "metadata": {},
   "source": [
    "Ahora, vamos a llevar a cabo la predicción utilizando el modelo elegido por AutoML"
   ]
  },
  {
   "cell_type": "code",
   "execution_count": 281,
   "metadata": {},
   "outputs": [
    {
     "name": "stdout",
     "output_type": "stream",
     "text": [
      "gbm prediction progress: |████████████████████████████████████████████████| 100%\n"
     ]
    },
    {
     "data": {
      "text/html": [
       "<table>\n",
       "<thead>\n",
       "<tr><th>predict  </th><th style=\"text-align: right;\">        Red</th><th style=\"text-align: right;\">      White</th></tr>\n",
       "</thead>\n",
       "<tbody>\n",
       "<tr><td>White    </td><td style=\"text-align: right;\">6.72078e-05</td><td style=\"text-align: right;\">0.999933   </td></tr>\n",
       "<tr><td>White    </td><td style=\"text-align: right;\">6.59336e-05</td><td style=\"text-align: right;\">0.999934   </td></tr>\n",
       "<tr><td>Red      </td><td style=\"text-align: right;\">0.999904   </td><td style=\"text-align: right;\">9.62582e-05</td></tr>\n",
       "<tr><td>White    </td><td style=\"text-align: right;\">7.14181e-05</td><td style=\"text-align: right;\">0.999929   </td></tr>\n",
       "<tr><td>Red      </td><td style=\"text-align: right;\">0.999589   </td><td style=\"text-align: right;\">0.000411167</td></tr>\n",
       "<tr><td>Red      </td><td style=\"text-align: right;\">0.999884   </td><td style=\"text-align: right;\">0.000115987</td></tr>\n",
       "<tr><td>White    </td><td style=\"text-align: right;\">0.00515224 </td><td style=\"text-align: right;\">0.994848   </td></tr>\n",
       "<tr><td>Red      </td><td style=\"text-align: right;\">0.999914   </td><td style=\"text-align: right;\">8.60946e-05</td></tr>\n",
       "<tr><td>Red      </td><td style=\"text-align: right;\">0.999836   </td><td style=\"text-align: right;\">0.000163644</td></tr>\n",
       "<tr><td>White    </td><td style=\"text-align: right;\">5.62814e-05</td><td style=\"text-align: right;\">0.999944   </td></tr>\n",
       "</tbody>\n",
       "</table>"
      ]
     },
     "metadata": {},
     "output_type": "display_data"
    },
    {
     "data": {
      "text/plain": []
     },
     "execution_count": 281,
     "metadata": {},
     "output_type": "execute_result"
    }
   ],
   "source": [
    "pred = aml_type.predict(test)\n",
    "pred.head()"
   ]
  },
  {
   "cell_type": "markdown",
   "metadata": {},
   "source": [
    "Igual que el modelo anterior podemos evaluar la precisión de la predicción contra el conjunto de pruebas"
   ]
  },
  {
   "cell_type": "code",
   "execution_count": 282,
   "metadata": {},
   "outputs": [
    {
     "data": {
      "text/plain": [
       "[0.9976780185758514]"
      ]
     },
     "execution_count": 282,
     "metadata": {},
     "output_type": "execute_result"
    }
   ],
   "source": [
    "(pred[\"predict\"] == test[\"type\"]).mean()"
   ]
  },
  {
   "cell_type": "markdown",
   "metadata": {},
   "source": [
    "Dados los resultados presentados, tanto los modelos manuales como los modelos generados por AutoML son altamente precisos, por tanto se consideran como válidos."
   ]
  },
  {
   "cell_type": "markdown",
   "metadata": {},
   "source": [
    "#### Optimización de modelo de predicción de calidad de vino"
   ]
  },
  {
   "cell_type": "markdown",
   "metadata": {},
   "source": [
    "Considerando que el modelo podría llegar a predecir 11 calificaciones distintas (0 a 10) esto dificulta que el modelo pueda tener una precisión alta. Por tanto, se considera reducir las calificaciones a malo (calificación 0 a 3), regular (calificación 4 a 7) y bueno (calificación 8 a 10)."
   ]
  },
  {
   "cell_type": "markdown",
   "metadata": {},
   "source": [
    "Primero hay que modificar el conjunto de datos para cambiar de 11 calificaciones a 3"
   ]
  },
  {
   "cell_type": "code",
   "execution_count": 338,
   "metadata": {},
   "outputs": [],
   "source": [
    "datos_originales = pd.read_csv('winequality-final.csv', header=0)"
   ]
  },
  {
   "cell_type": "code",
   "execution_count": 345,
   "metadata": {},
   "outputs": [],
   "source": [
    "df2 = datos_originales.copy()"
   ]
  },
  {
   "cell_type": "code",
   "execution_count": 346,
   "metadata": {},
   "outputs": [],
   "source": [
    "df2[\"quality\"].replace({0:\"Malo\",1:\"Malo\",2:\"Malo\",3:\"Malo\",\n",
    "                       4:\"Regular\",5:\"Regular\",6:\"Regular\",7:\"Regular\",\n",
    "                       8:\"Bueno\",9:\"Bueno\",10:\"Bueno\"}, inplace=True)"
   ]
  },
  {
   "cell_type": "code",
   "execution_count": 354,
   "metadata": {},
   "outputs": [],
   "source": [
    "df2['quality'] = df2['quality'].astype('category')\n",
    "df2['type'] = df2['type'].astype('category')"
   ]
  },
  {
   "cell_type": "markdown",
   "metadata": {},
   "source": [
    "Vamos a generar nuevamente un modelo con el conjunto de datos nuevo"
   ]
  },
  {
   "cell_type": "code",
   "execution_count": 356,
   "metadata": {},
   "outputs": [],
   "source": [
    "caracteristicasFinal = df2.iloc[:,0:11]\n",
    "depVarCalidadFinal = df2['quality']"
   ]
  },
  {
   "cell_type": "code",
   "execution_count": 357,
   "metadata": {},
   "outputs": [],
   "source": [
    "x_train, x_test, y_train, y_test = train_test_split(caracteristicasFinal, \n",
    "                                                    depVarCalidadFinal, test_size=0.3, random_state=101)"
   ]
  },
  {
   "cell_type": "code",
   "execution_count": 365,
   "metadata": {},
   "outputs": [],
   "source": [
    "quality_modelRF_Final = RandomForestClassifier(n_estimators=1000) #random forest\n",
    "quality_modelLR_Final = LogisticRegression(max_iter=100000) #regresion logistica\n",
    "quality_modelGNB_Final = GaussianNB() #Gaussian Naive Bayes"
   ]
  },
  {
   "cell_type": "code",
   "execution_count": 366,
   "metadata": {},
   "outputs": [
    {
     "data": {
      "text/plain": [
       "RandomForestClassifier(bootstrap=True, ccp_alpha=0.0, class_weight=None,\n",
       "                       criterion='gini', max_depth=None, max_features='auto',\n",
       "                       max_leaf_nodes=None, max_samples=None,\n",
       "                       min_impurity_decrease=0.0, min_impurity_split=None,\n",
       "                       min_samples_leaf=1, min_samples_split=2,\n",
       "                       min_weight_fraction_leaf=0.0, n_estimators=1000,\n",
       "                       n_jobs=None, oob_score=False, random_state=None,\n",
       "                       verbose=0, warm_start=False)"
      ]
     },
     "execution_count": 366,
     "metadata": {},
     "output_type": "execute_result"
    }
   ],
   "source": [
    "quality_modelRF_Final.fit(x_train,y_train)"
   ]
  },
  {
   "cell_type": "code",
   "execution_count": 367,
   "metadata": {},
   "outputs": [
    {
     "data": {
      "text/plain": [
       "LogisticRegression(C=1.0, class_weight=None, dual=False, fit_intercept=True,\n",
       "                   intercept_scaling=1, l1_ratio=None, max_iter=100000,\n",
       "                   multi_class='auto', n_jobs=None, penalty='l2',\n",
       "                   random_state=None, solver='lbfgs', tol=0.0001, verbose=0,\n",
       "                   warm_start=False)"
      ]
     },
     "execution_count": 367,
     "metadata": {},
     "output_type": "execute_result"
    }
   ],
   "source": [
    "quality_modelLR_Final.fit(x_train,y_train)"
   ]
  },
  {
   "cell_type": "code",
   "execution_count": 368,
   "metadata": {},
   "outputs": [
    {
     "data": {
      "text/plain": [
       "GaussianNB(priors=None, var_smoothing=1e-09)"
      ]
     },
     "execution_count": 368,
     "metadata": {},
     "output_type": "execute_result"
    }
   ],
   "source": [
    "quality_modelGNB_Final.fit(x_train,y_train)"
   ]
  },
  {
   "cell_type": "markdown",
   "metadata": {},
   "source": [
    "Revisamos las calificaciones de los nuevos modelos"
   ]
  },
  {
   "cell_type": "code",
   "execution_count": 369,
   "metadata": {},
   "outputs": [
    {
     "data": {
      "text/plain": [
       "1.0"
      ]
     },
     "execution_count": 369,
     "metadata": {},
     "output_type": "execute_result"
    }
   ],
   "source": [
    "quality_modelRF_Final.score(x_train,y_train)"
   ]
  },
  {
   "cell_type": "code",
   "execution_count": 370,
   "metadata": {},
   "outputs": [
    {
     "data": {
      "text/plain": [
       "0.9645920387068396"
      ]
     },
     "execution_count": 370,
     "metadata": {},
     "output_type": "execute_result"
    }
   ],
   "source": [
    "quality_modelLR_Final.score(x_train,y_train)"
   ]
  },
  {
   "cell_type": "code",
   "execution_count": 371,
   "metadata": {},
   "outputs": [
    {
     "data": {
      "text/plain": [
       "0.8792610512425775"
      ]
     },
     "execution_count": 371,
     "metadata": {},
     "output_type": "execute_result"
    }
   ],
   "source": [
    "quality_modelGNB_Final.score(x_train,y_train)"
   ]
  },
  {
   "cell_type": "markdown",
   "metadata": {},
   "source": [
    "Es claramente notorio que hubo una mejoria en las calificaciones del modelo cambiando de 11 calificaciones a 3, ahora se haran las predicciones con los datos de pruebas"
   ]
  },
  {
   "cell_type": "code",
   "execution_count": 375,
   "metadata": {},
   "outputs": [
    {
     "name": "stdout",
     "output_type": "stream",
     "text": [
      "Modelo Final Random Forest - Datos Originales - 3 Calificaciones\n",
      "[[  26    0   29]\n",
      " [   0    0   11]\n",
      " [   0    0 1884]]\n",
      "Precisión 0.9794871794871794\n"
     ]
    }
   ],
   "source": [
    "predRFOrigFinal = quality_modelRF_Final.predict(x_test)\n",
    "cmQualityRFFinal = confusion_matrix(y_test, predRFOrigFinal)\n",
    "print(\"Modelo Final Random Forest - Datos Originales - 3 Calificaciones\")\n",
    "print(cmQualityRFFinal)\n",
    "print('Precisión', accuracy_score(y_test, predRFOrigFinal))"
   ]
  },
  {
   "cell_type": "code",
   "execution_count": 376,
   "metadata": {},
   "outputs": [
    {
     "name": "stdout",
     "output_type": "stream",
     "text": [
      "Modelo Final Logistic Regression - Datos Originales - 3 Calificaciones\n",
      "[[   0    0   55]\n",
      " [   0    0   11]\n",
      " [   0    0 1884]]\n",
      "Precisión 0.9661538461538461\n"
     ]
    }
   ],
   "source": [
    "predLROrigFinal = quality_modelLR_Final.predict(x_test)\n",
    "cmQualityLRFinal = confusion_matrix(y_test, predLROrigFinal)\n",
    "print(\"Modelo Final Logistic Regression - Datos Originales - 3 Calificaciones\")\n",
    "print(cmQualityLRFinal)\n",
    "print('Precisión', accuracy_score(y_test, predLROrigFinal))"
   ]
  },
  {
   "cell_type": "code",
   "execution_count": 377,
   "metadata": {},
   "outputs": [
    {
     "name": "stdout",
     "output_type": "stream",
     "text": [
      "Modelo Final Gaussian Naive Bayes - Datos Originales - 3 Calificaciones\n",
      "[[  16    0   39]\n",
      " [   0    3    8]\n",
      " [ 156   24 1704]]\n",
      "Precisión 0.8835897435897436\n"
     ]
    }
   ],
   "source": [
    "predGNBOrigFinal = quality_modelGNB_Final.predict(x_test)\n",
    "cmQualityGNBFinal = confusion_matrix(y_test, predGNBOrigFinal)\n",
    "print(\"Modelo Final Gaussian Naive Bayes - Datos Originales - 3 Calificaciones\")\n",
    "print(cmQualityGNBFinal)\n",
    "print('Precisión', accuracy_score(y_test, predGNBOrigFinal))"
   ]
  },
  {
   "cell_type": "markdown",
   "metadata": {},
   "source": [
    "Si se realizan las matrices de confusión de los modelos generados con los datos que contienen únicamente 3 calificaciones posibles para los vinos(malo, regular y bueno), se observa una excelente mejoría en la precisión de los modelos. Lo que se realizó fue una ingeniería de la variable dependiente, de esta forma \"ayudamos\" al modelo a procesar los datos de una forma más simple y por ende esto se ve reflejado en la precisión de las predicciones."
   ]
  },
  {
   "cell_type": "markdown",
   "metadata": {},
   "source": [
    "### Conclusiones:"
   ]
  },
  {
   "cell_type": "markdown",
   "metadata": {},
   "source": [
    "Como conclusiones del presente proyecto se puede mencionar:<br>\n",
    "1. Desde el punto de vista de análisis inicial, se encontró una relación no tan marcada entre la calidad del vino y sus grados de alcohol, pero si fue importante observar que la mayor concentracion de vinos de calidad 5 o superior se encuentran entre los 10 y los 14 grados de alcohol. Un productor de vino podría considerar en aumentar su rentabilidad concentrandose en estos rangos de grados de alcohol considerando que un vino de mayor calidad se puede vender a un precio superior.\n",
    "2. Fue muy complicado encontrar un algoritmo capaz de clasificar con alta precisión la calidad de los vinos utilizando la escala de 0 a 10. Para solventar esta problemática se aplicó algo de ingeniería sobre la variable dependiente (a predecir) disminuyendo la cantidad de posibles calificaciones de 11 a 3 (malo, regular y bueno). De esta forma se logró un aumento del un 68% de precisión a un 98%.\n",
    "3. Predecir de que tipo es un vino (tinto o blanco) basado en sus características fue muy simple con todos los modelos desarrollados con una precisión bastante alta (entre 88% hasta 97% según el modelo).\n",
    "4. Desde el punto de vista técnico la utilización de AutoML es una gran ayuda en el análisis de datos, ya que permite obtener resultados de una forma muy simple, sin tener que pensar en el preprocesamiento de los datos ni la construcción y optimización de varios modelos, simplemente permite enfocarse en cuales son las variables predictoras, y cual es la variable a predecir, y con esto AutoML se encarga de generar diferentes modelos y escoger el mejor. Personalmente considero que es una herramienta muy útil en generación de modelos iniciales, los cuales posteriormente pueden ser mejorados, ahorrando mucho tiempo en fases iniciales."
   ]
  }
 ],
 "metadata": {
  "kernelspec": {
   "display_name": "Python 3",
   "language": "python",
   "name": "python3"
  },
  "language_info": {
   "codemirror_mode": {
    "name": "ipython",
    "version": 3
   },
   "file_extension": ".py",
   "mimetype": "text/x-python",
   "name": "python",
   "nbconvert_exporter": "python",
   "pygments_lexer": "ipython3",
   "version": "3.7.4"
  }
 },
 "nbformat": 4,
 "nbformat_minor": 2
}
